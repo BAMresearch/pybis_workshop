{
 "cells": [
  {
   "cell_type": "markdown",
   "id": "9722982f-c938-41d4-a25a-62c1d363a3f5",
   "metadata": {},
   "source": [
    "# PyBIS - Basics\n",
    "Please notice:\n",
    "* there are usually many ways to get the same result - not all are shown\n",
    "* if searching, limit the result set as far as possible"
   ]
  },
  {
   "cell_type": "markdown",
   "id": "ea7da5c7-9911-46bb-8378-a52f2970deec",
   "metadata": {
    "jp-MarkdownHeadingCollapsed": true
   },
   "source": [
    "## Login"
   ]
  },
  {
   "cell_type": "code",
   "execution_count": null,
   "id": "e8f85e77-62f7-4bac-b3f9-7f2f230806b8",
   "metadata": {},
   "outputs": [],
   "source": [
    "from pybis import Openbis\n",
    "from getpass import getpass\n",
    "\n",
    "username = 'mmusterm'\n",
    "password = getpass('Enter openBIS password: ')\n",
    "\n",
    "o = Openbis('https://schulung.datastore.bam.de')\n",
    "o.login(username, password)"
   ]
  },
  {
   "cell_type": "markdown",
   "id": "ad1963c1-e547-405b-a735-88ff40ff8357",
   "metadata": {
    "jp-MarkdownHeadingCollapsed": true
   },
   "source": [
    "## Get server information"
   ]
  },
  {
   "cell_type": "code",
   "execution_count": null,
   "id": "005884c0-a3b7-49a9-8bcf-9a528c233061",
   "metadata": {},
   "outputs": [],
   "source": [
    "o.get_server_information()"
   ]
  },
  {
   "cell_type": "markdown",
   "id": "e7e6f57f-ef1e-460a-836f-21bcf4050354",
   "metadata": {
    "jp-MarkdownHeadingCollapsed": true
   },
   "source": [
    "## Spaces"
   ]
  },
  {
   "cell_type": "code",
   "execution_count": null,
   "id": "9b51748d-f057-4eae-bb5c-a2a51cc54679",
   "metadata": {},
   "outputs": [],
   "source": [
    "o.get_spaces()"
   ]
  },
  {
   "cell_type": "code",
   "execution_count": null,
   "id": "67c15d92-7d4c-444e-a838-81f157c1bc74",
   "metadata": {},
   "outputs": [],
   "source": [
    "myspace = o.get_space('MMUSTERM')\n",
    "myspace"
   ]
  },
  {
   "cell_type": "markdown",
   "id": "825d77e6-949b-42c8-8bf1-cc0a7d5a30e6",
   "metadata": {
    "jp-MarkdownHeadingCollapsed": true
   },
   "source": [
    "## Projects"
   ]
  },
  {
   "cell_type": "markdown",
   "id": "55b9791c-8501-4566-944e-0c190b142cfb",
   "metadata": {},
   "source": [
    "#### Search / List"
   ]
  },
  {
   "cell_type": "code",
   "execution_count": null,
   "id": "4dd8b095-e9a4-4f78-acbb-2ab7af6b3cdb",
   "metadata": {},
   "outputs": [],
   "source": [
    "o.get_projects()"
   ]
  },
  {
   "cell_type": "markdown",
   "id": "b02f4555-fda4-4714-9f29-5a202cc22b78",
   "metadata": {},
   "source": [
    "#### Limit to space"
   ]
  },
  {
   "cell_type": "code",
   "execution_count": null,
   "id": "0793000b-d0cd-414d-b3b8-52aa6076bca7",
   "metadata": {},
   "outputs": [],
   "source": [
    "o.get_projects(space='MMUSTERM') \n",
    "# or: \n",
    "# myspace.get_projects()"
   ]
  },
  {
   "cell_type": "markdown",
   "id": "1ea4c4d4-d671-474c-854a-4e7f1f50ab78",
   "metadata": {},
   "source": [
    "### Get single project"
   ]
  },
  {
   "cell_type": "code",
   "execution_count": null,
   "id": "c82f52f3-faec-47e7-9517-3b2f12d12024",
   "metadata": {},
   "outputs": [],
   "source": [
    "myproject = myspace.get_project('PYBISTUTORIAL')\n",
    "myproject"
   ]
  },
  {
   "cell_type": "markdown",
   "id": "c6bd9604-943b-490f-bb6d-b1ea718bb18e",
   "metadata": {
    "jp-MarkdownHeadingCollapsed": true
   },
   "source": [
    "## Collections (Experiments)"
   ]
  },
  {
   "cell_type": "markdown",
   "id": "a6e88e89-26c2-48bf-bd4b-a0ed023acbeb",
   "metadata": {},
   "source": [
    "### Search / List"
   ]
  },
  {
   "cell_type": "code",
   "execution_count": null,
   "id": "9832d6cf-7e62-4d3b-b6f5-c159f10fb464",
   "metadata": {},
   "outputs": [],
   "source": [
    "o.get_collections()\n",
    "# or \n",
    "# myspace.get_collections()\n",
    "# or \n",
    "# myproject.get_collections()"
   ]
  },
  {
   "cell_type": "markdown",
   "id": "1b69f08a-2078-4c8c-8f88-9438b2d0921f",
   "metadata": {},
   "source": [
    "### Get single collection"
   ]
  },
  {
   "cell_type": "code",
   "execution_count": null,
   "id": "8374e779-21d7-4fc9-a7a0-5a34361a7ab9",
   "metadata": {},
   "outputs": [],
   "source": [
    "# using the path\n",
    "mycoll = o.get_collection('/MMUSTERM/PYBISTUTORIAL/IRIS_ANALYSIS')\n",
    "# or the permID\n",
    "# mycoll = o.get_collection('20231123182222227-52') \n",
    "mycoll"
   ]
  },
  {
   "cell_type": "markdown",
   "id": "d6086952-c9cd-4740-b1c9-497d3b38a3c0",
   "metadata": {
    "jp-MarkdownHeadingCollapsed": true
   },
   "source": [
    "## Objects (Samples, Experimental Steps)"
   ]
  },
  {
   "cell_type": "markdown",
   "id": "74d14164-1dc5-476a-886e-55472c0c7799",
   "metadata": {},
   "source": [
    "### Search / List"
   ]
  },
  {
   "cell_type": "code",
   "execution_count": null,
   "id": "12cb01d9-50af-4c56-825a-520c87a481ab",
   "metadata": {},
   "outputs": [],
   "source": [
    "o.get_objects()\n",
    "# or \n",
    "# myspace.get_objects()\n",
    "# or \n",
    "# myproject.get_objects()\n",
    "# or\n",
    "# mycoll.get_objects()"
   ]
  },
  {
   "cell_type": "markdown",
   "id": "dd0db3ff-7ca8-4907-8b47-976c72787db9",
   "metadata": {},
   "source": [
    "### Get single object"
   ]
  },
  {
   "cell_type": "code",
   "execution_count": null,
   "id": "62c76238-7ac8-431d-8349-9d11cca8861c",
   "metadata": {},
   "outputs": [],
   "source": [
    "o.get_object('20231213144619483-8836')\n",
    "# or by identifier\n",
    "# o.get_object('/TASK/PARAMETER_CONTROL/CTRL.FREE8725')"
   ]
  },
  {
   "cell_type": "markdown",
   "id": "4f527882-ed30-4860-ac91-5d5d2d38cb5e",
   "metadata": {
    "jp-MarkdownHeadingCollapsed": true
   },
   "source": [
    "## Datasets"
   ]
  },
  {
   "cell_type": "markdown",
   "id": "31c32dc4-4d7e-4168-a4f9-6ee759c1d265",
   "metadata": {},
   "source": [
    "### List"
   ]
  },
  {
   "cell_type": "code",
   "execution_count": null,
   "id": "876aa1b2-b9b8-4c01-9c86-7e058eba6e11",
   "metadata": {},
   "outputs": [],
   "source": [
    "o.get_datasets()"
   ]
  },
  {
   "cell_type": "markdown",
   "id": "19494b18-9b32-41b6-8ba4-992c9d7dd6b0",
   "metadata": {},
   "source": [
    "#### Limit to space"
   ]
  },
  {
   "cell_type": "code",
   "execution_count": null,
   "id": "f5c450e5-8bd6-424b-a385-e543f8a3fc5d",
   "metadata": {},
   "outputs": [],
   "source": [
    "o.get_datasets(space='MATERIALS')"
   ]
  },
  {
   "cell_type": "markdown",
   "id": "6ac7459d-7c26-4fc8-819e-92008a127b75",
   "metadata": {},
   "source": [
    "### Download"
   ]
  },
  {
   "cell_type": "code",
   "execution_count": null,
   "id": "8533b82a-ed62-49e0-9271-5d224e09275f",
   "metadata": {},
   "outputs": [],
   "source": [
    "o.get_dataset('20231213175007363-8853').download()"
   ]
  },
  {
   "cell_type": "markdown",
   "id": "55df0530-60a9-49f4-a072-b2681557e352",
   "metadata": {},
   "source": [
    "#### Specify destination"
   ]
  },
  {
   "cell_type": "code",
   "execution_count": null,
   "id": "a4b7c326-b21e-4cf6-a619-98fff3de2963",
   "metadata": {},
   "outputs": [],
   "source": [
    "o.get_dataset('20231213175007363-8853').download(destination='mydownload/', create_default_folders=False)"
   ]
  }
 ],
 "metadata": {
  "kernelspec": {
   "display_name": "Python 3 (ipykernel)",
   "language": "python",
   "name": "python3"
  },
  "language_info": {
   "codemirror_mode": {
    "name": "ipython",
    "version": 3
   },
   "file_extension": ".py",
   "mimetype": "text/x-python",
   "name": "python",
   "nbconvert_exporter": "python",
   "pygments_lexer": "ipython3",
   "version": "3.11.5"
  }
 },
 "nbformat": 4,
 "nbformat_minor": 5
}
