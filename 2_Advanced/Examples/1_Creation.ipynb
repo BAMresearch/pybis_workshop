{
 "cells": [
  {
   "cell_type": "markdown",
   "id": "07018e12-a4cb-480e-817a-982b84935ff1",
   "metadata": {
    "tags": []
   },
   "source": [
    "# Real world example: Data Upload and Entity Creation"
   ]
  },
  {
   "cell_type": "markdown",
   "id": "b24000f4-7af1-4118-8f28-5efa66b744de",
   "metadata": {},
   "source": [
    "In this example, we are going to work with a well-known dataset, the [**Iris Flower Classification Dataset**](https://en.wikipedia.org/wiki/Iris_flower_data_set), and learn how will be the procedure of working with this dataset using openBIS, following the workflow of an experiment.\n",
    "\n",
    "To begin with it, **just run the cell below after replacing \"mmusterm\" with your BAM username**. This will be used both for the connection and for selecting space."
   ]
  },
  {
   "cell_type": "code",
   "execution_count": 2,
   "id": "1e2b0673-0433-4507-b98a-71685c5d5bdc",
   "metadata": {},
   "outputs": [],
   "source": [
    "username = \"mmusterm\""
   ]
  },
  {
   "cell_type": "markdown",
   "id": "50eaa413-efdc-48b8-b71d-20f3226fc4d8",
   "metadata": {},
   "source": [
    "### Connect to openBIS"
   ]
  },
  {
   "cell_type": "code",
   "execution_count": 3,
   "id": "b448f240-f429-4ceb-b07e-948fa22fcabc",
   "metadata": {},
   "outputs": [
    {
     "name": "stdin",
     "output_type": "stream",
     "text": [
      " ········\n"
     ]
    },
    {
     "data": {
      "text/plain": [
       "'mmusterm-240220132032308xD310D677C9210950C721D63F096B1B3C'"
      ]
     },
     "execution_count": 3,
     "metadata": {},
     "output_type": "execute_result"
    }
   ],
   "source": [
    "import getpass\n",
    "from pybis import Openbis\n",
    "o = Openbis('https://schulung.datastore.bam.de')\n",
    "o.login(username, getpass.getpass(), save_token=True)"
   ]
  },
  {
   "cell_type": "markdown",
   "id": "9b5414cd-c571-46f3-8e7a-2277136b5ab8",
   "metadata": {},
   "source": [
    "### Create dummy data"
   ]
  },
  {
   "cell_type": "code",
   "execution_count": 5,
   "id": "833c56d2-3e9c-436f-a52b-b0202b849ab3",
   "metadata": {},
   "outputs": [
    {
     "name": "stdout",
     "output_type": "stream",
     "text": [
      "experiment successfully created.\n",
      "sample successfully created.\n"
     ]
    }
   ],
   "source": [
    "space_code = username.upper()\n",
    "project_code = 'IRIS_PROJECT'\n",
    "collection_code = 'IRIS_EXPERIMENT'\n",
    "object_code = 'TESTING_IRIS'\n",
    "\n",
    "my_space = o.get_space(space_code)\n",
    "\n",
    "try:\n",
    "    my_project = my_space.get_project(project_code)\n",
    "except ValueError:\n",
    "    my_project = o.new_project(space=my_space, code=project_code)\n",
    "    my_project.save()\n",
    "\n",
    "try:\n",
    "    my_collection = my_space.get_collection(collection_code)\n",
    "except ValueError:\n",
    "    my_collection = o.new_collection(project=project_code, code=collection_code, type='DEFAULT_EXPERIMENT')\n",
    "    my_collection.save()\n",
    "\n",
    "my_object = my_space.get_objects(code=object_code, project=project_code, collection=my_collection, type='EXPERIMENTAL_STEP')[0]\n",
    "if not my_object:\n",
    "    my_object = o.new_object(code=object_code, collection=my_collection, type='EXPERIMENTAL_STEP')\n",
    "    my_object.save()\n",
    "import requests\n",
    "resp = requests.get('https://gist.githubusercontent.com/netj/8836201/raw/6f9306ad21398ea43cba4f7d537619d0e07d5ae3/iris.csv')\n",
    "with open('iris.csv', 'w') as csvfile:\n",
    "     csvfile.write(resp.text)"
   ]
  },
  {
   "cell_type": "markdown",
   "id": "dd63f3b1-01b0-4849-bf63-eeff52a1732a",
   "metadata": {
    "tags": []
   },
   "source": [
    "## Upload a dataset and attach to an experimental step"
   ]
  },
  {
   "cell_type": "code",
   "execution_count": 6,
   "id": "b2f54967-295a-484f-bc10-7106fd369495",
   "metadata": {
    "tags": []
   },
   "outputs": [
    {
     "data": {
      "text/html": [
       "<div>\n",
       "<style scoped>\n",
       "    .dataframe tbody tr th:only-of-type {\n",
       "        vertical-align: middle;\n",
       "    }\n",
       "\n",
       "    .dataframe tbody tr th {\n",
       "        vertical-align: top;\n",
       "    }\n",
       "\n",
       "    .dataframe thead th {\n",
       "        text-align: right;\n",
       "    }\n",
       "</style>\n",
       "<table border=\"1\" class=\"dataframe\">\n",
       "  <thead>\n",
       "    <tr style=\"text-align: right;\">\n",
       "      <th></th>\n",
       "      <th>permId</th>\n",
       "      <th>code</th>\n",
       "      <th>description</th>\n",
       "      <th>mainDataSetPattern</th>\n",
       "      <th>mainDataSetPath</th>\n",
       "      <th>disallowDeletion</th>\n",
       "      <th>modificationDate</th>\n",
       "      <th>validationPlugin</th>\n",
       "    </tr>\n",
       "  </thead>\n",
       "  <tbody>\n",
       "    <tr>\n",
       "      <th>0</th>\n",
       "      <td>UNKNOWN</td>\n",
       "      <td>UNKNOWN</td>\n",
       "      <td>Unknown</td>\n",
       "      <td>None</td>\n",
       "      <td>None</td>\n",
       "      <td>False</td>\n",
       "      <td>2023-11-20 11:49:36</td>\n",
       "      <td></td>\n",
       "    </tr>\n",
       "    <tr>\n",
       "      <th>1</th>\n",
       "      <td>ELN_PREVIEW</td>\n",
       "      <td>ELN_PREVIEW</td>\n",
       "      <td>None</td>\n",
       "      <td>None</td>\n",
       "      <td>None</td>\n",
       "      <td>False</td>\n",
       "      <td>2023-11-20 11:49:59</td>\n",
       "      <td></td>\n",
       "    </tr>\n",
       "    <tr>\n",
       "      <th>2</th>\n",
       "      <td>RAW_DATA</td>\n",
       "      <td>RAW_DATA</td>\n",
       "      <td>None</td>\n",
       "      <td>None</td>\n",
       "      <td>None</td>\n",
       "      <td>False</td>\n",
       "      <td>2023-11-20 11:49:59</td>\n",
       "      <td></td>\n",
       "    </tr>\n",
       "    <tr>\n",
       "      <th>3</th>\n",
       "      <td>PROCESSED_DATA</td>\n",
       "      <td>PROCESSED_DATA</td>\n",
       "      <td>None</td>\n",
       "      <td>None</td>\n",
       "      <td>None</td>\n",
       "      <td>False</td>\n",
       "      <td>2023-11-20 11:49:59</td>\n",
       "      <td></td>\n",
       "    </tr>\n",
       "    <tr>\n",
       "      <th>4</th>\n",
       "      <td>ANALYZED_DATA</td>\n",
       "      <td>ANALYZED_DATA</td>\n",
       "      <td>None</td>\n",
       "      <td>None</td>\n",
       "      <td>None</td>\n",
       "      <td>False</td>\n",
       "      <td>2023-11-20 11:49:59</td>\n",
       "      <td></td>\n",
       "    </tr>\n",
       "    <tr>\n",
       "      <th>5</th>\n",
       "      <td>ATTACHMENT</td>\n",
       "      <td>ATTACHMENT</td>\n",
       "      <td>None</td>\n",
       "      <td>None</td>\n",
       "      <td>None</td>\n",
       "      <td>False</td>\n",
       "      <td>2023-11-20 11:49:59</td>\n",
       "      <td></td>\n",
       "    </tr>\n",
       "    <tr>\n",
       "      <th>6</th>\n",
       "      <td>OTHER_DATA</td>\n",
       "      <td>OTHER_DATA</td>\n",
       "      <td>None</td>\n",
       "      <td>None</td>\n",
       "      <td>None</td>\n",
       "      <td>False</td>\n",
       "      <td>2023-11-20 11:49:59</td>\n",
       "      <td></td>\n",
       "    </tr>\n",
       "    <tr>\n",
       "      <th>7</th>\n",
       "      <td>SOURCE_CODE</td>\n",
       "      <td>SOURCE_CODE</td>\n",
       "      <td>None</td>\n",
       "      <td>None</td>\n",
       "      <td>None</td>\n",
       "      <td>False</td>\n",
       "      <td>2023-11-20 11:49:59</td>\n",
       "      <td></td>\n",
       "    </tr>\n",
       "    <tr>\n",
       "      <th>8</th>\n",
       "      <td>ANALYSIS_NOTEBOOK</td>\n",
       "      <td>ANALYSIS_NOTEBOOK</td>\n",
       "      <td>None</td>\n",
       "      <td>None</td>\n",
       "      <td>None</td>\n",
       "      <td>False</td>\n",
       "      <td>2023-11-20 11:49:59</td>\n",
       "      <td></td>\n",
       "    </tr>\n",
       "    <tr>\n",
       "      <th>9</th>\n",
       "      <td>PUBLICATION_DATA</td>\n",
       "      <td>PUBLICATION_DATA</td>\n",
       "      <td>None</td>\n",
       "      <td>None</td>\n",
       "      <td>None</td>\n",
       "      <td>False</td>\n",
       "      <td>2023-11-20 11:49:59</td>\n",
       "      <td></td>\n",
       "    </tr>\n",
       "    <tr>\n",
       "      <th>10</th>\n",
       "      <td>DOCUMENT</td>\n",
       "      <td>DOCUMENT</td>\n",
       "      <td>Document//Dokument</td>\n",
       "      <td>None</td>\n",
       "      <td>None</td>\n",
       "      <td>False</td>\n",
       "      <td>2023-11-20 13:05:05</td>\n",
       "      <td></td>\n",
       "    </tr>\n",
       "    <tr>\n",
       "      <th>11</th>\n",
       "      <td>TEST_FILE</td>\n",
       "      <td>TEST_FILE</td>\n",
       "      <td>Test File//Test-Datei</td>\n",
       "      <td>None</td>\n",
       "      <td>None</td>\n",
       "      <td>False</td>\n",
       "      <td>2023-11-20 13:05:05</td>\n",
       "      <td></td>\n",
       "    </tr>\n",
       "    <tr>\n",
       "      <th>12</th>\n",
       "      <td>LOG_FILE</td>\n",
       "      <td>LOG_FILE</td>\n",
       "      <td>A log file</td>\n",
       "      <td>None</td>\n",
       "      <td>None</td>\n",
       "      <td>False</td>\n",
       "      <td>2023-11-21 15:46:37</td>\n",
       "      <td></td>\n",
       "    </tr>\n",
       "    <tr>\n",
       "      <th>13</th>\n",
       "      <td>MEASUREMENT_PROTOCOL_FILE</td>\n",
       "      <td>MEASUREMENT_PROTOCOL_FILE</td>\n",
       "      <td>A measurement protocol file that was used with...</td>\n",
       "      <td>None</td>\n",
       "      <td>None</td>\n",
       "      <td>False</td>\n",
       "      <td>2023-11-22 10:53:10</td>\n",
       "      <td></td>\n",
       "    </tr>\n",
       "    <tr>\n",
       "      <th>14</th>\n",
       "      <td>NORM</td>\n",
       "      <td>NORM</td>\n",
       "      <td>Technical Norm//Technische Norm</td>\n",
       "      <td>None</td>\n",
       "      <td>None</td>\n",
       "      <td>False</td>\n",
       "      <td>2023-12-13 15:47:40</td>\n",
       "      <td></td>\n",
       "    </tr>\n",
       "  </tbody>\n",
       "</table>\n",
       "</div>"
      ],
      "text/plain": [
       "    permId                     code                       description                                                                                                                                                                                       mainDataSetPattern    mainDataSetPath    disallowDeletion    modificationDate     validationPlugin\n",
       "--  -------------------------  -------------------------  ------------------------------------------------------------------------------------------------------------------------------------------------------------------------------------------------  --------------------  -----------------  ------------------  -------------------  ------------------\n",
       " 0  UNKNOWN                    UNKNOWN                    Unknown                                                                                                                                                                                                                                    False               2023-11-20 11:49:36\n",
       " 1  ELN_PREVIEW                ELN_PREVIEW                                                                                                                                                                                                                                                           False               2023-11-20 11:49:59\n",
       " 2  RAW_DATA                   RAW_DATA                                                                                                                                                                                                                                                              False               2023-11-20 11:49:59\n",
       " 3  PROCESSED_DATA             PROCESSED_DATA                                                                                                                                                                                                                                                        False               2023-11-20 11:49:59\n",
       " 4  ANALYZED_DATA              ANALYZED_DATA                                                                                                                                                                                                                                                         False               2023-11-20 11:49:59\n",
       " 5  ATTACHMENT                 ATTACHMENT                                                                                                                                                                                                                                                            False               2023-11-20 11:49:59\n",
       " 6  OTHER_DATA                 OTHER_DATA                                                                                                                                                                                                                                                            False               2023-11-20 11:49:59\n",
       " 7  SOURCE_CODE                SOURCE_CODE                                                                                                                                                                                                                                                           False               2023-11-20 11:49:59\n",
       " 8  ANALYSIS_NOTEBOOK          ANALYSIS_NOTEBOOK                                                                                                                                                                                                                                                     False               2023-11-20 11:49:59\n",
       " 9  PUBLICATION_DATA           PUBLICATION_DATA                                                                                                                                                                                                                                                      False               2023-11-20 11:49:59\n",
       "10  DOCUMENT                   DOCUMENT                   Document//Dokument                                                                                                                                                                                                                         False               2023-11-20 13:05:05\n",
       "11  TEST_FILE                  TEST_FILE                  Test File//Test-Datei                                                                                                                                                                                                                      False               2023-11-20 13:05:05\n",
       "12  LOG_FILE                   LOG_FILE                   A log file                                                                                                                                                                                                                                 False               2023-11-21 15:46:37\n",
       "13  MEASUREMENT_PROTOCOL_FILE  MEASUREMENT_PROTOCOL_FILE  A measurement protocol file that was used with a measurement software (proprietary or otherwise)//Eine Messprotokolldatei die mit einer (propritären oder anderen) Mess-Software verwendet wurde                                           False               2023-11-22 10:53:10\n",
       "14  NORM                       NORM                       Technical Norm//Technische Norm                                                                                                                                                                                                            False               2023-12-13 15:47:40"
      ]
     },
     "execution_count": 6,
     "metadata": {},
     "output_type": "execute_result"
    }
   ],
   "source": [
    "o.get_dataset_types() #list dataset types to select the desired one"
   ]
  },
  {
   "cell_type": "code",
   "execution_count": 9,
   "id": "6f67583a-d54e-4a8a-a1fd-57221ef28cae",
   "metadata": {
    "tags": []
   },
   "outputs": [
    {
     "data": {
      "text/html": [
       "<div>\n",
       "<style scoped>\n",
       "    .dataframe tbody tr th:only-of-type {\n",
       "        vertical-align: middle;\n",
       "    }\n",
       "\n",
       "    .dataframe tbody tr th {\n",
       "        vertical-align: top;\n",
       "    }\n",
       "\n",
       "    .dataframe thead th {\n",
       "        text-align: right;\n",
       "    }\n",
       "</style>\n",
       "<table border=\"1\" class=\"dataframe\">\n",
       "  <thead>\n",
       "    <tr style=\"text-align: right;\">\n",
       "      <th></th>\n",
       "      <th>permId</th>\n",
       "      <th>identifier</th>\n",
       "      <th>registrationDate</th>\n",
       "      <th>modificationDate</th>\n",
       "      <th>type</th>\n",
       "      <th>registrator</th>\n",
       "      <th>modifier</th>\n",
       "    </tr>\n",
       "  </thead>\n",
       "  <tbody>\n",
       "    <tr>\n",
       "      <th>0</th>\n",
       "      <td>20240220132715613-9159</td>\n",
       "      <td>/MMUSTERM/IRIS_PROJECT/IRIS_EXPERIMENT</td>\n",
       "      <td>2024-02-20 13:27:16</td>\n",
       "      <td>2024-02-20 13:27:20</td>\n",
       "      <td>DEFAULT_EXPERIMENT</td>\n",
       "      <td>mmusterm</td>\n",
       "      <td>mmusterm</td>\n",
       "    </tr>\n",
       "  </tbody>\n",
       "</table>\n",
       "</div>"
      ],
      "text/plain": [
       "    permId                  identifier                              registrationDate     modificationDate     type                registrator    modifier\n",
       "--  ----------------------  --------------------------------------  -------------------  -------------------  ------------------  -------------  ----------\n",
       " 0  20240220132715613-9159  /MMUSTERM/IRIS_PROJECT/IRIS_EXPERIMENT  2024-02-20 13:27:16  2024-02-20 13:27:20  DEFAULT_EXPERIMENT  mmusterm       mmusterm"
      ]
     },
     "execution_count": 9,
     "metadata": {},
     "output_type": "execute_result"
    }
   ],
   "source": [
    "my_space.get_collections() #list collections to check where we want to upload the dataset"
   ]
  },
  {
   "cell_type": "code",
   "execution_count": 10,
   "id": "82d4e80c-fbd1-41c9-b8bd-0e14bd4ee5f5",
   "metadata": {
    "tags": []
   },
   "outputs": [
    {
     "data": {
      "text/html": [
       "<div>\n",
       "<style scoped>\n",
       "    .dataframe tbody tr th:only-of-type {\n",
       "        vertical-align: middle;\n",
       "    }\n",
       "\n",
       "    .dataframe tbody tr th {\n",
       "        vertical-align: top;\n",
       "    }\n",
       "\n",
       "    .dataframe thead th {\n",
       "        text-align: right;\n",
       "    }\n",
       "</style>\n",
       "<table border=\"1\" class=\"dataframe\">\n",
       "  <thead>\n",
       "    <tr style=\"text-align: right;\">\n",
       "      <th></th>\n",
       "      <th>permId</th>\n",
       "      <th>identifier</th>\n",
       "      <th>registrationDate</th>\n",
       "      <th>modificationDate</th>\n",
       "      <th>type</th>\n",
       "      <th>registrator</th>\n",
       "      <th>modifier</th>\n",
       "    </tr>\n",
       "  </thead>\n",
       "  <tbody>\n",
       "    <tr>\n",
       "      <th>0</th>\n",
       "      <td>20240220132719005-9160</td>\n",
       "      <td>/MMUSTERM/IRIS_PROJECT/TESTING_IRIS</td>\n",
       "      <td>2024-02-20 13:27:20</td>\n",
       "      <td>2024-02-20 13:27:20</td>\n",
       "      <td>EXPERIMENTAL_STEP</td>\n",
       "      <td>mmusterm</td>\n",
       "      <td>mmusterm</td>\n",
       "    </tr>\n",
       "  </tbody>\n",
       "</table>\n",
       "</div>"
      ],
      "text/plain": [
       "    permId                  identifier                           registrationDate     modificationDate     type               registrator    modifier\n",
       "--  ----------------------  -----------------------------------  -------------------  -------------------  -----------------  -------------  ----------\n",
       " 0  20240220132719005-9160  /MMUSTERM/IRIS_PROJECT/TESTING_IRIS  2024-02-20 13:27:20  2024-02-20 13:27:20  EXPERIMENTAL_STEP  mmusterm       mmusterm"
      ]
     },
     "execution_count": 10,
     "metadata": {},
     "output_type": "execute_result"
    }
   ],
   "source": [
    "my_space.get_objects() #list objects to check where we want to upload the dataset"
   ]
  },
  {
   "cell_type": "code",
   "execution_count": 11,
   "id": "76e41de2-8a1f-4471-ba54-f3dacc73d6e2",
   "metadata": {
    "tags": []
   },
   "outputs": [],
   "source": [
    "iris_experiment = my_space.get_collection(collection_code) #save selected collection in a variable\n",
    "testing_iris = my_space.get_objects(code=object_code, collection=my_collection)[0] #save selected object in a variable"
   ]
  },
  {
   "cell_type": "code",
   "execution_count": 15,
   "id": "66575e62-fedc-46f5-a26c-7b38d49aab53",
   "metadata": {
    "tags": []
   },
   "outputs": [
    {
     "name": "stdout",
     "output_type": "stream",
     "text": [
      "DataSet successfully created.\n"
     ]
    },
    {
     "data": {
      "text/html": [
       "\n",
       "            <table border=\"1\" class=\"dataframe\">\n",
       "            <thead>\n",
       "                <tr style=\"text-align: right;\">\n",
       "                <th>attribute</th>\n",
       "                <th>value</th>\n",
       "                </tr>\n",
       "            </thead>\n",
       "            <tbody>\n",
       "        <tr> <td>code</td> <td>20240220133310510-9161</td> </tr><tr> <td>permId</td> <td>20240220133310510-9161</td> </tr><tr> <td>type</td> <td>ATTACHMENT</td> </tr><tr> <td>kind</td> <td>PHYSICAL</td> </tr><tr> <td>experiment</td> <td>/MMUSTERM/IRIS_PROJECT/IRIS_EXPERIMENT</td> </tr><tr> <td>sample</td> <td>/MMUSTERM/IRIS_PROJECT/TESTING_IRIS</td> </tr><tr> <td>parents</td> <td>[]</td> </tr><tr> <td>children</td> <td>[]</td> </tr><tr> <td>components</td> <td>[]</td> </tr><tr> <td>containers</td> <td>[]</td> </tr><tr> <td>tags</td> <td>[]</td> </tr><tr> <td>accessDate</td> <td>2024-02-20 13:33:12</td> </tr><tr> <td>dataProducer</td> <td></td> </tr><tr> <td>dataProductionDate</td> <td></td> </tr><tr> <td>registrator</td> <td>mmusterm</td> </tr><tr> <td>registrationDate</td> <td>2024-02-20 13:33:12</td> </tr><tr> <td>modifier</td> <td>mmusterm</td> </tr><tr> <td>modificationDate</td> <td>2024-02-20 13:33:12</td> </tr><tr> <td>dataStore</td> <td>DSS1</td> </tr><tr> <td>measured</td> <td>True</td> </tr><tr> <td>postRegistered</td> <td>False</td> </tr><tr> <td>frozen</td> <td>False</td> </tr><tr> <td>frozenForChildren</td> <td>False</td> </tr><tr> <td>frozenForParents</td> <td>False</td> </tr><tr> <td>frozenForComponents</td> <td>False</td> </tr><tr> <td>frozenForContainers</td> <td>False</td> </tr><tr> <td>metaData</td> <td></td> </tr>\n",
       "            </tbody>\n",
       "            </table>\n",
       "        "
      ],
      "text/plain": [
       "attribute            value\n",
       "-------------------  --------------------------------------\n",
       "code                 20240220133310510-9161\n",
       "permId               20240220133310510-9161\n",
       "type                 ATTACHMENT\n",
       "kind                 PHYSICAL\n",
       "experiment           /MMUSTERM/IRIS_PROJECT/IRIS_EXPERIMENT\n",
       "sample               /MMUSTERM/IRIS_PROJECT/TESTING_IRIS\n",
       "parents              []\n",
       "children             []\n",
       "components           []\n",
       "containers           []\n",
       "tags                 []\n",
       "accessDate           2024-02-20 13:33:12\n",
       "dataProducer\n",
       "dataProductionDate\n",
       "registrator          mmusterm\n",
       "registrationDate     2024-02-20 13:33:12\n",
       "modifier             mmusterm\n",
       "modificationDate     2024-02-20 13:33:12\n",
       "dataStore            DSS1\n",
       "measured             True\n",
       "postRegistered       False\n",
       "frozen               False\n",
       "frozenForChildren    False\n",
       "frozenForParents     False\n",
       "frozenForComponents  False\n",
       "frozenForContainers  False\n",
       "metaData"
      ]
     },
     "execution_count": 15,
     "metadata": {},
     "output_type": "execute_result"
    }
   ],
   "source": [
    "iris_test = o.new_dataset(\n",
    "    type = 'ATTACHMENT', #selected type for the dataset\n",
    "    collection = iris_experiment, #selected collection\n",
    "    object = testing_iris, #selected object\n",
    "    files = ['iris.csv'] #iris dataset to upload\n",
    ")\n",
    "iris_test.save()"
   ]
  },
  {
   "cell_type": "markdown",
   "id": "1a440969-c0e8-4216-8114-9d7ff4be431e",
   "metadata": {
    "tags": []
   },
   "source": [
    "## Add a description for the experimental step (modify poperty)"
   ]
  },
  {
   "cell_type": "code",
   "execution_count": null,
   "id": "b85ea684-b571-4637-9bf9-9a6fc20ea479",
   "metadata": {
    "tags": []
   },
   "outputs": [],
   "source": [
    "#--------------------------NEW CODE------------------------------\n",
    "testing_iris.props\n",
    "testing_iris.props['experimental_step.experimental_description'] = 'Analyzing iris flower classification csv'\n",
    "#--------------------------NEW CODE------------------------------\n",
    "iris_test = o.new_dataset(\n",
    "    type = 'ATTACHMENT', #selected type for the dataset\n",
    "    collection = iris_experiment, #selected collection\n",
    "    object = testing_iris, #selected object\n",
    "    files = ['datasets/iris.csv'] #iris dataset to upload\n",
    ")\n",
    "iris_test.save()"
   ]
  },
  {
   "cell_type": "markdown",
   "id": "45a820aa-582b-43a5-b60b-c0b32f544fb9",
   "metadata": {
    "tags": []
   },
   "source": [
    "## Create the experimental step first"
   ]
  },
  {
   "cell_type": "code",
   "execution_count": null,
   "id": "076889b2-df54-46ec-95f9-36ceaaa9345e",
   "metadata": {
    "tags": []
   },
   "outputs": [],
   "source": [
    "o.get_object_types()"
   ]
  },
  {
   "cell_type": "code",
   "execution_count": null,
   "id": "f10c39b1-05c3-4a10-a837-ce7fd63e24ba",
   "metadata": {
    "tags": []
   },
   "outputs": [],
   "source": [
    "#--------------------------NEW CODE------------------------------\n",
    "obtaining_flowers = my_space.get_objects(project=project_code, collection=iris_experiment, type='EXPERIMENTAL_STEP', code=\"OBTAINING_FLOWERS\")[0]\n",
    "if not obtaining_flowers:\n",
    "    obtaining_flowers = o.new_object(\n",
    "        type = 'EXPERIMENTAL_STEP',\n",
    "        project = project_code,\n",
    "        collection = iris_experiment,\n",
    "        code = \"OBTAINING_FLOWERS\"\n",
    "    )\n",
    "    \n",
    "obtaining_flowers.props\n",
    "\n",
    "obtaining_flowers.props['experimental_step.experimental_description'] = 'Obtaining iris flower samples'\n",
    "\n",
    "obtaining_flowers.save()\n",
    "#--------------------------NEW CODE------------------------------\n",
    "testing_iris = my_space.get_objects(code=object_code, collection=my_collection)[0] #save selected object in a variable\n",
    "\n",
    "testing_iris.props\n",
    "\n",
    "testing_iris.props['experimental_step.experimental_description'] = 'Analyzing iris flower classification csv'\n",
    "\n",
    "iris_samples = o.new_dataset(\n",
    "    type = 'ATTACHMENT',\n",
    "    collection = iris_experiment,\n",
    "    object = obtaining_flowers,\n",
    "    files = ['datasets/iris.csv']\n",
    ")\n",
    "iris_samples.save()"
   ]
  },
  {
   "cell_type": "markdown",
   "id": "7b2dc078-305d-439f-b4b6-056e3d9eed29",
   "metadata": {
    "tags": []
   },
   "source": [
    "## Add experimental step before the analysis: obtaining the data"
   ]
  },
  {
   "cell_type": "code",
   "execution_count": null,
   "id": "b2e99479-e139-4a0a-b128-f40d7a7aaffc",
   "metadata": {
    "tags": []
   },
   "outputs": [],
   "source": [
    "iris_experiment = my_space.get_collection(collection_code) #save selected collection in a variable\n",
    "\n",
    "obtaining_flowers = my_space.get_objects(project=project_code, collection=iris_experiment, type='EXPERIMENTAL_STEP', code=\"OBTAINING_FLOWERS\")[0]\n",
    "if not obtaining_flowers:\n",
    "    obtaining_flowers = o.new_object(\n",
    "        type = 'EXPERIMENTAL_STEP',\n",
    "        collection = iris_experiment,\n",
    "        project = project_code,\n",
    "        code = \"OBTAINING_FLOWERS\"\n",
    "    )\n",
    "    \n",
    "obtaining_flowers.props\n",
    "\n",
    "obtaining_flowers.props['experimental_step.experimental_description'] = 'Obtaining iris flower samples'\n",
    "\n",
    "obtaining_flowers.save()\n",
    "\n",
    "testing_iris = my_space.get_objects(code=object_code, collection=my_collection)[0] #save selected object in a variable\n",
    "\n",
    "testing_iris.props\n",
    "\n",
    "testing_iris.props['experimental_step.experimental_description'] = 'Classifying iris flower classification csv'\n",
    "\n",
    "testing_iris.save()\n",
    "\n",
    "#--------------------------NEW CODE------------------------------\n",
    "testing_iris.parents = obtaining_flowers\n",
    "testing_iris.save()\n",
    "#--------------------------NEW CODE------------------------------\n",
    "iris_samples = o.new_dataset(\n",
    "    type = 'ATTACHMENT',\n",
    "    collection = iris_experiment,\n",
    "    object = obtaining_flowers,\n",
    "    files = ['datasets/iris.csv']\n",
    ")\n",
    "iris_samples.save()"
   ]
  },
  {
   "cell_type": "markdown",
   "id": "ec8a3a43-284b-4026-8ec8-af5d2c7a343d",
   "metadata": {
    "tags": []
   },
   "source": [
    "## What if we need another (custom) object type? -> change to use another type (add it as child of the first one, and upload a dataset with the results)"
   ]
  },
  {
   "cell_type": "code",
   "execution_count": null,
   "id": "b418cb54-5bc7-491b-b2d6-b3f413033af5",
   "metadata": {
    "tags": []
   },
   "outputs": [],
   "source": [
    "iris_experiment = my_space.get_collection(collection_code) #save selected collection in a variable\n",
    "#--------------------------NEW CODE------------------------------\n",
    "analyze_results = my_space.get_objects(project=project_code, collection=iris_experiment, type='DOCUMENT', code=\"ANALYZE_RESULTS\")[0]\n",
    "if not analyze_results:\n",
    "    analyze_results = o.new_object(\n",
    "        type = 'DOCUMENT',\n",
    "        collection = iris_experiment,\n",
    "        project = project_code,\n",
    "        code = \"ANALYZE_RESULTS\"\n",
    "    )\n",
    "\n",
    "analyze_results.props\n",
    "\n",
    "analyze_results.props['notes'] = 'Analyzing results from the experiment'\n",
    "\n",
    "analyze_results.save()\n",
    "#--------------------------NEW CODE------------------------------\n",
    "obtaining_flowers = my_space.get_objects(project=project_code, type='EXPERIMENTAL_STEP', code=\"OBTAINING_FLOWERS\")[0]\n",
    "if not obtaining_flowers:\n",
    "    obtaining_flowers = o.new_object(\n",
    "        type = 'EXPERIMENTAL_STEP',\n",
    "        collection = iris_experiment,\n",
    "        code = \"OBTAINING_FLOWERS\"\n",
    "    )\n",
    "    \n",
    "obtaining_flowers.props\n",
    "\n",
    "obtaining_flowers.props['experimental_step.experimental_description'] = 'Obtaining iris flower samples'\n",
    "\n",
    "obtaining_flowers.save()\n",
    "\n",
    "testing_iris = my_space.get_objects(code=object_code, collection=my_collection)[0] #save selected object in a variable\n",
    "\n",
    "testing_iris.props\n",
    "\n",
    "testing_iris.props['experimental_step.experimental_description'] = 'Classifying iris flower classification csv'\n",
    "\n",
    "testing_iris.save()\n",
    "\n",
    "testing_iris.parents = obtaining_flowers\n",
    "#--------------------------NEW CODE------------------------------\n",
    "testing_iris.children = analyze_results\n",
    "#--------------------------NEW CODE------------------------------\n",
    "testing_iris.save()\n",
    "\n",
    "\n",
    "iris_samples = o.new_dataset(\n",
    "    type = 'ATTACHMENT',\n",
    "    collection = iris_experiment,\n",
    "    object = obtaining_flowers,\n",
    "    files = ['datasets/iris.csv']\n",
    ")\n",
    "iris_samples.save()\n",
    "#--------------------------NEW CODE------------------------------\n",
    "iris_results = o.new_dataset(\n",
    "    type = 'DOCUMENT',\n",
    "    collection = iris_experiment,\n",
    "    object = analyze_results,\n",
    "    files = ['iris_results.txt']\n",
    ")\n",
    "iris_results.save()\n",
    "#--------------------------NEW CODE------------------------------"
   ]
  },
  {
   "cell_type": "markdown",
   "id": "a822f2c7-d44e-47ab-808e-781947cc9661",
   "metadata": {
    "tags": []
   },
   "source": [
    "## What if the experiment needs to be created first? -> extend to create experiment first"
   ]
  },
  {
   "cell_type": "code",
   "execution_count": null,
   "id": "8bc32cd7-4517-4593-9aa3-aee5afaf772e",
   "metadata": {
    "tags": []
   },
   "outputs": [],
   "source": [
    "o.get_collection_types()"
   ]
  },
  {
   "cell_type": "code",
   "execution_count": null,
   "id": "b49a3628-bf2a-4730-9d37-cd1a217d6a93",
   "metadata": {
    "tags": []
   },
   "outputs": [],
   "source": [
    "o.get_projects()"
   ]
  },
  {
   "cell_type": "code",
   "execution_count": null,
   "id": "ece6512d-2192-47cf-bd18-693f07992599",
   "metadata": {
    "tags": []
   },
   "outputs": [],
   "source": [
    "#--------------------------NEW CODE------------------------------\n",
    "try:\n",
    "    new_iris_exp = my_space.get_collection(\"NEW_IRIS_EXPERIMENT\")\n",
    "except ValueError:\n",
    "    new_iris_exp = o.new_collection(\n",
    "        code = 'NEW_IRIS_EXPERIMENT', # the code for the collection. Like the name, but unique\n",
    "        type = 'DEFAULT_EXPERIMENT', # type for the collection. Should be one of the available types on the type list\n",
    "        project = project_code # this is the project that we previously created, saved in the variable \"new_project\"\n",
    "    )\n",
    "    new_iris_exp.save()\n",
    "#--------------------------NEW CODE------------------------------\n",
    "\n",
    "new_analyze_results = my_space.get_objects(collection = new_iris_exp, project = project_code, type='DOCUMENT', code=\"NEW_ANALYZE_RESULTS\")[0]\n",
    "if not new_analyze_results:\n",
    "    new_analyze_results = o.new_object(\n",
    "        type = 'DOCUMENT',\n",
    "        project = project_code,\n",
    "        collection = new_iris_exp,\n",
    "        code = \"NEW_ANALYZE_RESULTS\"\n",
    "    )\n",
    "\n",
    "\n",
    "new_analyze_results.props\n",
    "\n",
    "new_analyze_results.props['notes'] = 'Analyzing results from the experiment'\n",
    "\n",
    "new_analyze_results.save()\n",
    "\n",
    "new_obtaining_flowers = my_space.get_objects(project = project_code, collection=new_iris_exp, type='EXPERIMENTAL_STEP', code=\"NEW_OBTAINING_FLOWERS\")[0]\n",
    "if not new_obtaining_flowers:\n",
    "    new_obtaining_flowers = o.new_object(\n",
    "        type = 'EXPERIMENTAL_STEP',\n",
    "        project = project_code,\n",
    "        collection=new_iris_exp,\n",
    "        code = \"NEW_OBTAINING_FLOWERS\"\n",
    "    )\n",
    "    \n",
    "new_obtaining_flowers.props\n",
    "\n",
    "new_obtaining_flowers.props['experimental_step.experimental_description'] = 'Obtaining iris flower samples'\n",
    "\n",
    "new_obtaining_flowers.save()\n",
    "\n",
    "new_testing_iris = my_space.get_objects(project = project_code, collection=new_iris_exp, type='EXPERIMENTAL_STEP', code=\"NEW_TESTING_IRIS\")[0] #save selected object in a variable\n",
    "if not new_testing_iris:\n",
    "    new_testing_iris = o.new_object(\n",
    "        type = 'EXPERIMENTAL_STEP',\n",
    "        project = project_code,\n",
    "        collection=new_iris_exp,\n",
    "        code = \"NEW_TESTING_IRIS\"\n",
    "    )\n",
    "\n",
    "new_testing_iris.props\n",
    "\n",
    "new_testing_iris.props['experimental_step.experimental_description'] = 'Classifying iris flower classification csv'\n",
    "\n",
    "new_testing_iris.save()\n",
    "\n",
    "new_testing_iris.add_parents(new_obtaining_flowers)\n",
    "new_testing_iris.add_children(new_analyze_results)\n",
    "new_testing_iris.save()\n",
    "\n",
    "\n",
    "new_iris_samples = o.new_dataset(\n",
    "    type = 'ATTACHMENT',\n",
    "    collection = new_iris_exp,\n",
    "    object = new_obtaining_flowers,\n",
    "    files = ['datasets/iris.csv']\n",
    ")\n",
    "new_iris_samples.save()\n",
    "\n",
    "new_iris_results = o.new_dataset(\n",
    "    type = 'DOCUMENT',\n",
    "    collection = new_iris_exp,\n",
    "    object = new_analyze_results,\n",
    "    files = ['iris_results.txt']\n",
    ")\n",
    "new_iris_results.save()"
   ]
  },
  {
   "cell_type": "markdown",
   "id": "4d19397b-cc2c-44e1-824d-79d505ca55d4",
   "metadata": {
    "tags": []
   },
   "source": [
    "## What if we want another (custom) collection type? -> change to use another type"
   ]
  },
  {
   "cell_type": "code",
   "execution_count": null,
   "id": "0d57e13d-bd4d-4bd6-a449-9dcb7b0a0132",
   "metadata": {
    "tags": []
   },
   "outputs": [],
   "source": [
    "try:\n",
    "    col_iris_exp = my_space.get_collection(\"COL_IRIS_EXPERIMENT\")\n",
    "except ValueError:\n",
    "    col_iris_exp = o.new_collection(\n",
    "        code = 'COL_IRIS_EXPERIMENT', # the code for the collection. Like the name, but unique\n",
    "        #--------------------------NEW CODE------------------------------\n",
    "        type = 'COLLECTION', # type for the collection. Should be one of the available types on the type list\n",
    "        #--------------------------NEW CODE------------------------------\n",
    "        project = project_code # this is the project that we previously created, saved in the variable \"new_project\"\n",
    "    )\n",
    "    col_iris_exp.save()\n",
    "\n",
    "col_analyze_results = my_space.get_objects(collection = col_iris_exp, project = project_code, type='DOCUMENT', code=\"COL_ANALYZE_RESULTS\")[0]\n",
    "if not col_analyze_results:\n",
    "    col_analyze_results = o.new_object(\n",
    "        type = 'DOCUMENT',\n",
    "        project = project_code,\n",
    "        collection = col_iris_exp,\n",
    "        code = \"COL_ANALYZE_RESULTS\"\n",
    "    )\n",
    "\n",
    "\n",
    "col_analyze_results.props\n",
    "\n",
    "col_analyze_results.props['notes'] = 'Analyzing results from the experiment'\n",
    "\n",
    "col_analyze_results.save()\n",
    "\n",
    "col_obtaining_flowers = my_space.get_objects(project = project_code, collection=col_iris_exp, type='EXPERIMENTAL_STEP', code=\"COL_OBTAINING_FLOWERS\")[0]\n",
    "if not col_obtaining_flowers:\n",
    "    col_obtaining_flowers = o.new_object(\n",
    "        type = 'EXPERIMENTAL_STEP',\n",
    "        project = project_code,\n",
    "        collection=col_iris_exp,\n",
    "        code = \"COL_OBTAINING_FLOWERS\"\n",
    "    )\n",
    "    \n",
    "col_obtaining_flowers.props\n",
    "\n",
    "col_obtaining_flowers.props['experimental_step.experimental_description'] = 'Obtaining iris flower samples'\n",
    "\n",
    "col_obtaining_flowers.save()\n",
    "\n",
    "col_testing_iris = my_space.get_objects(project = project_code, collection=col_iris_exp, type='EXPERIMENTAL_STEP', code=\"COL_TESTING_IRIS\")[0] #save selected object in a variable\n",
    "if not col_testing_iris:\n",
    "    col_testing_iris = o.new_object(\n",
    "        type = 'EXPERIMENTAL_STEP',\n",
    "        project = project_code,\n",
    "        collection=col_iris_exp,\n",
    "        code = \"COL_TESTING_IRIS\"\n",
    "    )\n",
    "\n",
    "col_testing_iris.props\n",
    "\n",
    "col_testing_iris.props['experimental_step.experimental_description'] = 'Classifying iris flower classification csv'\n",
    "\n",
    "col_testing_iris.save()\n",
    "\n",
    "col_testing_iris.add_parents(col_obtaining_flowers)\n",
    "col_testing_iris.add_children(col_analyze_results)\n",
    "col_testing_iris.save()\n",
    "\n",
    "\n",
    "col_iris_samples = o.new_dataset(\n",
    "    type = 'ATTACHMENT',\n",
    "    collection = col_iris_exp,\n",
    "    object = col_obtaining_flowers,\n",
    "    files = ['datasets/iris.csv']\n",
    ")\n",
    "col_iris_samples.save()\n",
    "\n",
    "col_iris_results = o.new_dataset(\n",
    "    type = 'DOCUMENT',\n",
    "    collection = col_iris_exp,\n",
    "    object = col_analyze_results,\n",
    "    files = ['iris_results.txt']\n",
    ")\n",
    "col_iris_results.save()"
   ]
  },
  {
   "cell_type": "markdown",
   "id": "96f26a58-5190-47de-ad82-aeaa499efe5b",
   "metadata": {
    "tags": []
   },
   "source": [
    "## What if we need to work in a different project? -> extend to create a project first"
   ]
  },
  {
   "cell_type": "code",
   "execution_count": null,
   "id": "e747f79f-20fe-4f55-969b-7e51ec1191b0",
   "metadata": {
    "tags": []
   },
   "outputs": [],
   "source": [
    "#--------------------------NEW CODE------------------------------\n",
    "try:\n",
    "    iris_classification = my_space.get_project(\"IRIS_CLASSIFICATION\")\n",
    "except ValueError:\n",
    "    iris_classification = o.new_project(\n",
    "        code = 'IRIS_CLASSIFICATION', #the code for the project. Like the name, but unique\n",
    "        space = my_space, # the space that we just previously got\n",
    "    )\n",
    "    iris_classification.save()\n",
    "#--------------------------NEW CODE------------------------------\n",
    "\n",
    "try:\n",
    "    clas_iris_exp = my_space.get_collection(\"CLAS_IRIS_EXPERIMENT\")\n",
    "except ValueError:\n",
    "    clas_iris_exp = o.new_collection(\n",
    "        code = 'CLAS_IRIS_EXPERIMENT', # the code for the collection. Like the name, but unique\n",
    "        type = 'COLLECTION', # type for the collection. Should be one of the available types on the type list\n",
    "        project = iris_classification # this is the project that we previously created, saved in the variable \"new_project\"\n",
    "    )\n",
    "    clas_iris_exp.save()\n",
    "\n",
    "clas_analyze_results = my_space.get_objects(collection = clas_iris_exp, project = iris_classification, type='DOCUMENT', code=\"CLAS_ANALYZE_RESULTS\")[0]\n",
    "if not clas_analyze_results:\n",
    "    clas_analyze_results = o.new_object(\n",
    "        type = 'DOCUMENT',\n",
    "        project = iris_classification,\n",
    "        collection = clas_iris_exp,\n",
    "        code = \"CLAS_ANALYZE_RESULTS\"\n",
    "    )\n",
    "\n",
    "\n",
    "clas_analyze_results.props\n",
    "\n",
    "clas_analyze_results.props['notes'] = 'Analyzing results from the experiment'\n",
    "\n",
    "clas_analyze_results.save()\n",
    "\n",
    "clas_obtaining_flowers = my_space.get_objects(project = iris_classification, collection=clas_iris_exp, type='EXPERIMENTAL_STEP', code=\"CLAS_OBTAINING_FLOWERS\")[0]\n",
    "if not clas_obtaining_flowers:\n",
    "    clas_obtaining_flowers = o.new_object(\n",
    "        type = 'EXPERIMENTAL_STEP',\n",
    "        project = iris_classification,\n",
    "        collection=clas_iris_exp,\n",
    "        code = \"CLAS_OBTAINING_FLOWERS\"\n",
    "    )\n",
    "    \n",
    "clas_obtaining_flowers.props\n",
    "\n",
    "clas_obtaining_flowers.props['experimental_step.experimental_description'] = 'Obtaining iris flower samples'\n",
    "\n",
    "clas_obtaining_flowers.save()\n",
    "\n",
    "clas_testing_iris = my_space.get_objects(project = iris_classification, collection=clas_iris_exp, type='EXPERIMENTAL_STEP', code=\"CLAS_TESTING_IRIS\")[0] #save selected object in a variable\n",
    "if not clas_testing_iris:\n",
    "    clas_testing_iris = o.new_object(\n",
    "        type = 'EXPERIMENTAL_STEP',\n",
    "        project = iris_classification,\n",
    "        collection=clas_iris_exp,\n",
    "        code = \"CLAS_TESTING_IRIS\"\n",
    "    )\n",
    "\n",
    "clas_testing_iris.props\n",
    "\n",
    "clas_testing_iris.props['experimental_step.experimental_description'] = 'Classifying iris flower classification csv'\n",
    "\n",
    "clas_testing_iris.save()\n",
    "\n",
    "clas_testing_iris.parents = clas_obtaining_flowers\n",
    "clas_testing_iris.children = clas_analyze_results\n",
    "clas_testing_iris.save()\n",
    "\n",
    "\n",
    "clas_iris_samples = o.new_dataset(\n",
    "    type = 'ATTACHMENT',\n",
    "    collection = clas_iris_exp,\n",
    "    object = clas_obtaining_flowers,\n",
    "    files = ['datasets/iris.csv']\n",
    ")\n",
    "clas_iris_samples.save()\n",
    "\n",
    "clas_iris_results = o.new_dataset(\n",
    "    type = 'DOCUMENT',\n",
    "    collection = clas_iris_exp,\n",
    "    object = clas_analyze_results,\n",
    "    files = ['iris_results.txt']\n",
    ")\n",
    "clas_iris_results.save()"
   ]
  }
 ],
 "metadata": {
  "kernelspec": {
   "display_name": "Python 3 (ipykernel)",
   "language": "python",
   "name": "python3"
  },
  "language_info": {
   "codemirror_mode": {
    "name": "ipython",
    "version": 3
   },
   "file_extension": ".py",
   "mimetype": "text/x-python",
   "name": "python",
   "nbconvert_exporter": "python",
   "pygments_lexer": "ipython3",
   "version": "3.11.7"
  }
 },
 "nbformat": 4,
 "nbformat_minor": 5
}
