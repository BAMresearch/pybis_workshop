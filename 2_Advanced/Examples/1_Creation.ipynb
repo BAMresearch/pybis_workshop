{
 "cells": [
  {
   "cell_type": "markdown",
   "id": "07018e12-a4cb-480e-817a-982b84935ff1",
   "metadata": {
    "tags": []
   },
   "source": [
    "# Real world example: Upload Data and Create Entities"
   ]
  },
  {
   "cell_type": "markdown",
   "id": "e6efa53a-d084-40ec-870f-4fa987e9742c",
   "metadata": {},
   "source": [
    "## Scenario"
   ]
  },
  {
   "cell_type": "markdown",
   "id": "b24000f4-7af1-4118-8f28-5efa66b744de",
   "metadata": {},
   "source": [
    "A measurement setup produces new files which should be uploaded to openBIS. In this example we will use the generic, well-known [IRIS data set](https://en.wikipedia.org/wiki/Iris_flower_data_set).\n",
    "We want to create code to upload a data set and attacht it to an experimental step. \n",
    "\n",
    "The script should do the following:\n",
    "\n",
    "* make sure the project and experiment exist - create if necessary\n",
    "* read the measurements description from an additional file (measurement.txt)\n",
    "* create the name/code of the experimental step with this information\n",
    "* search this step - create if it is not already there, setting description from measurement.txt\n",
    "* upload the two files (iris.csv, measurement) as a dataset to an experimental step\n",
    "\n",
    "This example shows the **interactive development process** - step by step from the first line to the complete script.\n",
    "\n",
    "To begin with it, **just run the cell below after replacing \"mmusterm\" with your BAM username**. This will be used both for the connection and for selecting space."
   ]
  },
  {
   "cell_type": "code",
   "execution_count": null,
   "id": "1e2b0673-0433-4507-b98a-71685c5d5bdc",
   "metadata": {},
   "outputs": [],
   "source": [
    "username = \"mmusterm\""
   ]
  },
  {
   "cell_type": "markdown",
   "id": "50eaa413-efdc-48b8-b71d-20f3226fc4d8",
   "metadata": {
    "jp-MarkdownHeadingCollapsed": true
   },
   "source": [
    "## Start: Connecting to openBIS"
   ]
  },
  {
   "cell_type": "code",
   "execution_count": null,
   "id": "b448f240-f429-4ceb-b07e-948fa22fcabc",
   "metadata": {},
   "outputs": [],
   "source": [
    "import getpass\n",
    "from pybis import Openbis\n",
    "o = Openbis('https://schulung.datastore.bam.de')\n",
    "o.login(username, getpass.getpass('Enter openBIS password: '))"
   ]
  },
  {
   "cell_type": "markdown",
   "id": "9b5414cd-c571-46f3-8e7a-2277136b5ab8",
   "metadata": {
    "jp-MarkdownHeadingCollapsed": true
   },
   "source": [
    "## Optional: Create dummy data"
   ]
  },
  {
   "cell_type": "code",
   "execution_count": null,
   "id": "833c56d2-3e9c-436f-a52b-b0202b849ab3",
   "metadata": {},
   "outputs": [],
   "source": [
    "space_code = username.upper()\n",
    "project_code = 'IRIS_PROJECT'\n",
    "collection_code = 'IRIS_EXPERIMENT'\n",
    "object_code = 'IRIS_STEP'\n",
    "\n",
    "my_space = o.get_space(space_code)\n",
    "\n",
    "try:\n",
    "    my_project = my_space.get_project(project_code)\n",
    "except ValueError:\n",
    "    my_project = o.new_project(space=my_space, code=project_code)\n",
    "    my_project.save()\n",
    "\n",
    "try:\n",
    "    my_collection = my_space.get_collection(collection_code)\n",
    "except ValueError:\n",
    "    my_collection = o.new_collection(project=project_code, code=collection_code, type='DEFAULT_EXPERIMENT')\n",
    "    my_collection.save()\n",
    "\n",
    "my_object = my_space.get_objects(code=object_code, project=project_code, collection=my_collection, type='EXPERIMENTAL_STEP')[0]\n",
    "if not my_object:\n",
    "    my_object = o.new_object(code=object_code, collection=my_collection, type='EXPERIMENTAL_STEP')\n",
    "    my_object.save()\n",
    "# download the data file\n",
    "import requests\n",
    "resp = requests.get('https://gist.githubusercontent.com/netj/8836201/raw/6f9306ad21398ea43cba4f7d537619d0e07d5ae3/iris.csv')\n",
    "with open('iris.csv', 'w') as csvfile:\n",
    "     csvfile.write(resp.text)\n",
    "with open('measurement.txt', 'w') as txtfile:\n",
    "     txtfile.write('foo\\nbar\\nbaz\\n')"
   ]
  },
  {
   "cell_type": "markdown",
   "id": "dd63f3b1-01b0-4849-bf63-eeff52a1732a",
   "metadata": {
    "jp-MarkdownHeadingCollapsed": true,
    "tags": []
   },
   "source": [
    "## Upload a dataset and attach to an experimental step"
   ]
  },
  {
   "cell_type": "markdown",
   "id": "ce3afb12-347e-4739-84e5-4cfe367aad87",
   "metadata": {},
   "source": [
    "### Explore types and entities"
   ]
  },
  {
   "cell_type": "markdown",
   "id": "af9c5be0-43a9-4648-8211-a0d231078a95",
   "metadata": {
    "jp-MarkdownHeadingCollapsed": true
   },
   "source": [
    "#### List dataset types"
   ]
  },
  {
   "cell_type": "code",
   "execution_count": null,
   "id": "b2f54967-295a-484f-bc10-7106fd369495",
   "metadata": {
    "tags": []
   },
   "outputs": [],
   "source": [
    "o.get_dataset_types() # list dataset types to select the desired one"
   ]
  },
  {
   "cell_type": "code",
   "execution_count": null,
   "id": "17bff0ab-ff8c-4b16-a90e-90a61ac933a6",
   "metadata": {},
   "outputs": [],
   "source": [
    "# select and store dataset type\n",
    "dataset_type = 'RAW_DATA'\n",
    "dataset_type"
   ]
  },
  {
   "cell_type": "markdown",
   "id": "b70d9fe7-4485-41fb-853d-adc8b58ff229",
   "metadata": {
    "jp-MarkdownHeadingCollapsed": true
   },
   "source": [
    "#### List collections (experiments)"
   ]
  },
  {
   "cell_type": "code",
   "execution_count": null,
   "id": "6f67583a-d54e-4a8a-a1fd-57221ef28cae",
   "metadata": {
    "tags": []
   },
   "outputs": [],
   "source": [
    "my_space_code = username.upper() # use username or set manually\n",
    "my_space = o.get_space(my_space_code) # get the space which will be used\n",
    "my_space.get_collections() # list collections to check where we want to upload the dataset"
   ]
  },
  {
   "cell_type": "code",
   "execution_count": null,
   "id": "83f5acc6-4f87-4038-91a9-73dd4f4b57b3",
   "metadata": {},
   "outputs": [],
   "source": [
    "# select and store this IRIS_EXPERIMENT\n",
    "my_experiment = my_space.get_collection('IRIS_EXPERIMENT') #save selected collection in a variable\n",
    "my_experiment"
   ]
  },
  {
   "cell_type": "markdown",
   "id": "82b2b3ee-d145-4b32-be2d-e0e834abe254",
   "metadata": {
    "jp-MarkdownHeadingCollapsed": true
   },
   "source": [
    "#### List objects (samples or experimental steps)"
   ]
  },
  {
   "cell_type": "code",
   "execution_count": null,
   "id": "82d4e80c-fbd1-41c9-b8bd-0e14bd4ee5f5",
   "metadata": {
    "tags": []
   },
   "outputs": [],
   "source": [
    "my_space.get_objects(collection=my_experiment) # list objects to check where we want to upload the dataset"
   ]
  },
  {
   "cell_type": "code",
   "execution_count": null,
   "id": "76e41de2-8a1f-4471-ba54-f3dacc73d6e2",
   "metadata": {
    "tags": []
   },
   "outputs": [],
   "source": [
    "my_step = my_space.get_objects(code='IRIS_STEP', collection=iris_experiment)[0] #save selected object in a variable\n",
    "# or: my_step = my_space.get_object('/MMUSTERM/PYBISTUTORIAL/IRIS_STEP')\n",
    "my_step"
   ]
  },
  {
   "cell_type": "markdown",
   "id": "14e4f31f-2eb1-4fd9-821c-e14eb5a0a99c",
   "metadata": {
    "jp-MarkdownHeadingCollapsed": true
   },
   "source": [
    "### Upload a dataset and attach to the object\n",
    "The dataset will contain just two files: `iris.csv` and `measurement.txt`."
   ]
  },
  {
   "cell_type": "code",
   "execution_count": null,
   "id": "66575e62-fedc-46f5-a26c-7b38d49aab53",
   "metadata": {
    "tags": []
   },
   "outputs": [],
   "source": [
    "my_dataset = o.new_dataset(\n",
    "    type = dataset_type, # selected type for the dataset\n",
    "    collection = my_experiment, # selected collection\n",
    "    object = my_step, # selected object\n",
    "    files = ['iris.csv', 'measurement.txt'] # iris dataset to upload\n",
    ")\n",
    "my_dataset.save()"
   ]
  },
  {
   "cell_type": "markdown",
   "id": "1a440969-c0e8-4216-8114-9d7ff4be431e",
   "metadata": {
    "jp-MarkdownHeadingCollapsed": true,
    "tags": []
   },
   "source": [
    "### Modify description (property) of the experimental step after upload"
   ]
  },
  {
   "cell_type": "code",
   "execution_count": null,
   "id": "b85ea684-b571-4637-9bf9-9a6fc20ea479",
   "metadata": {
    "tags": []
   },
   "outputs": [],
   "source": [
    "# read the content of measuremet.txt\n",
    "with open('measurement.txt', 'r') as txtfile:\n",
    "     desc = txtfile.read()\n",
    "print(desc)\n",
    "my_step.props['experimental_step.experimental_description'] = desc\n",
    "my_step.save()"
   ]
  },
  {
   "cell_type": "markdown",
   "id": "c0f1e874-8b71-4ca7-bb2a-5b8b0225cf5c",
   "metadata": {},
   "source": [
    "Now we have all the code to upload a dataset to an existing object and alter it's properties."
   ]
  },
  {
   "cell_type": "markdown",
   "id": "45a820aa-582b-43a5-b60b-c0b32f544fb9",
   "metadata": {
    "tags": []
   },
   "source": [
    "## Create the experimental step, experiment and project if needed"
   ]
  },
  {
   "cell_type": "markdown",
   "id": "94336943-2c1c-4ec4-aea3-7e89217bec7f",
   "metadata": {
    "jp-MarkdownHeadingCollapsed": true
   },
   "source": [
    "### Search or create the experimental step/object"
   ]
  },
  {
   "cell_type": "markdown",
   "id": "4986182a-2019-4e7d-8d77-16584052b540",
   "metadata": {},
   "source": [
    "For every measurement series a new experimental step should be used, based on the contents of the file `measurements.txt`. So we need to read this file first and use the first word for code of the experimental step."
   ]
  },
  {
   "cell_type": "code",
   "execution_count": null,
   "id": "9f080340-e56f-4fc1-8b11-2e2ccc7dd9fd",
   "metadata": {},
   "outputs": [],
   "source": [
    "with open('measurement.txt', 'r') as txtfile:\n",
    "     desc = txtfile.read()\n",
    "my_step_name = 'IRIS_'+desc.split()[0].upper()\n",
    "my_step_name"
   ]
  },
  {
   "cell_type": "code",
   "execution_count": null,
   "id": "d70240bd-7c7b-4b88-8dfb-bcd28a5ef36f",
   "metadata": {},
   "outputs": [],
   "source": [
    "steps = o.get_objects(my_step_name, project=my_project)\n",
    "if steps:\n",
    "    my_step = steps[0]\n",
    "else:\n",
    "    my_step = o.new_object(\n",
    "        type = 'EXPERIMENTAL_STEP',\n",
    "        project = my_project,\n",
    "        collection = my_collection,\n",
    "        code = my_step_name\n",
    "    )\n",
    "    my_step.save()\n",
    "my_step # is now an existing or newly created step"
   ]
  },
  {
   "cell_type": "markdown",
   "id": "02e6a1ac-c720-4c4f-b61c-9068591ec887",
   "metadata": {
    "jp-MarkdownHeadingCollapsed": true
   },
   "source": [
    "### Search or create the experiment / collection and the project"
   ]
  },
  {
   "cell_type": "markdown",
   "id": "ef9457c5-9bce-4407-a2f9-04dd12948f6b",
   "metadata": {},
   "source": [
    "For experiments and projects we can use the very powerfull `try-except` mechanism of python. Just try to get something. If it fails: create it!"
   ]
  },
  {
   "cell_type": "code",
   "execution_count": null,
   "id": "076889b2-df54-46ec-95f9-36ceaaa9345e",
   "metadata": {
    "tags": []
   },
   "outputs": [],
   "source": [
    "project_code = 'PYBISTUTORIAL'\n",
    "collection_code = 'IRIS_EXPERIMENT'\n",
    "collection_type = 'DEFAULT_EXPERIMENT'\n",
    "\n",
    "# space\n",
    "my_space_code = username.upper() # use username or set manually\n",
    "my_space = o.get_space(my_space_code) # get the space which will be used\n",
    "\n",
    "# project\n",
    "try:\n",
    "    my_project = my_space.get_project(project_code)\n",
    "except ValueError:\n",
    "    my_project = o.new_project(space=my_space, code=project_code)\n",
    "    my_project.save()\n",
    "\n",
    "# collection\n",
    "try:\n",
    "    my_collection = my_space.get_collection(collection_code)\n",
    "except ValueError:\n",
    "    my_collection = o.new_collection(project=project_code, code=collection_code, type=collection_type)\n",
    "    my_collection.save()\n",
    "# now project and collection should exist!"
   ]
  },
  {
   "cell_type": "markdown",
   "id": "1f0ee98e-2a69-48ad-b73c-b459b83fc2ff",
   "metadata": {},
   "source": [
    "## Putting it all together: the complete script"
   ]
  },
  {
   "cell_type": "markdown",
   "id": "d4d529f7-db32-4a4c-9a3e-c050c3626ad8",
   "metadata": {
    "jp-MarkdownHeadingCollapsed": true
   },
   "source": [
    "### Create a PAT to be used with this script\n",
    "We may use a PAT instead of username-password for the script - but we have to creat the PAT first. Adjust the code below and run it."
   ]
  },
  {
   "cell_type": "code",
   "execution_count": null,
   "id": "40df5b61-5d3e-4743-8b96-42d931c7c9a3",
   "metadata": {},
   "outputs": [],
   "source": [
    "import getpass\n",
    "from pybis import Openbis\n",
    "o = Openbis(url='https://schulung.datastore.bam.de/')\n",
    "o.login('mmusterm', getpass.getpass('Enter openBIS password: '))\n",
    "pat = o.get_or_create_personal_access_token('my-test-session')\n",
    "print(pat.permId)\n",
    "o.logout()"
   ]
  },
  {
   "cell_type": "markdown",
   "id": "bab70583-1267-46ed-aed8-1c9ea8b80030",
   "metadata": {
    "jp-MarkdownHeadingCollapsed": true
   },
   "source": [
    "### The Complete Script\n",
    "\n",
    "Now we combine all of the code above to a cell/script that can be used standalone. loop"
   ]
  },
  {
   "cell_type": "code",
   "execution_count": null,
   "id": "f10c39b1-05c3-4a10-a837-ce7fd63e24ba",
   "metadata": {
    "tags": []
   },
   "outputs": [],
   "source": [
    "from pybis import Openbis\n",
    "\n",
    "# settings\n",
    "pat = 'INSERT_PAT_HERE'\n",
    "space_code = 'MMUSTERM'\n",
    "project_code = 'IRIS_PROJECT'\n",
    "collection_code = 'IRIS_EXPERIMENT'\n",
    "collection_type = 'DEFAULT_EXPERIMENT'\n",
    "object_type = 'EXPERIMENTAL_STEP' \n",
    "\n",
    "## connect and login - you should use a PAT instead\n",
    "o = Openbis('https://schulung.datastore.bam.de/')\n",
    "o.login('mmusterm', 'bamisgreat')\n",
    "# o = Openbis('https://schulung.datastore.bam.de/', token=pat)\n",
    "\n",
    "# space\n",
    "my_space = o.get_space(space_code) # get the space which will be used\n",
    "\n",
    "# project and collection\n",
    "try:\n",
    "    my_project = my_space.get_project(project_code)\n",
    "except ValueError:\n",
    "    my_project = o.new_project(space=my_space, code=project_code)\n",
    "    my_project.save()\n",
    "try:\n",
    "    my_collection = my_space.get_collection(collection_code)\n",
    "except ValueError:\n",
    "    my_collection = o.new_collection(project=project_code, code=collection_code, type=collection_type)\n",
    "    my_collection.save()\n",
    "\n",
    "# object/step\n",
    "with open('measurement.txt', 'r') as txtfile:\n",
    "     desc = txtfile.read()\n",
    "my_step_name = 'IRIS_'+desc.split()[0].upper()\n",
    "steps = o.get_objects(my_step_name, project=my_project)\n",
    "if steps:\n",
    "    my_step = steps[0]\n",
    "else:\n",
    "    my_step = o.new_object(\n",
    "        type = object_type,\n",
    "        project = my_project,\n",
    "        collection = my_collection,\n",
    "        code = my_step_name,\n",
    "        props = {'experimental_step.experimental_description' : desc}\n",
    "    )\n",
    "    print(my_step)\n",
    "    my_step.save()\n",
    "\n",
    "# dataset\n",
    "my_dataset = o.new_dataset(\n",
    "    type = dataset_type, # selected type for the dataset\n",
    "    collection = my_experiment, # selected collection\n",
    "    object = my_step, # selected object\n",
    "    files = ['iris.csv', 'measurement.txt'] # iris dataset to upload\n",
    ")\n",
    "my_dataset.save()\n",
    "o.logout()"
   ]
  }
 ],
 "metadata": {
  "kernelspec": {
   "display_name": "Python 3 (ipykernel)",
   "language": "python",
   "name": "python3"
  },
  "language_info": {
   "codemirror_mode": {
    "name": "ipython",
    "version": 3
   },
   "file_extension": ".py",
   "mimetype": "text/x-python",
   "name": "python",
   "nbconvert_exporter": "python",
   "pygments_lexer": "ipython3",
   "version": "3.11.5"
  }
 },
 "nbformat": 4,
 "nbformat_minor": 5
}
