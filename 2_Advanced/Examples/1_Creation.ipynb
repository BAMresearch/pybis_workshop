{
 "cells": [
  {
   "cell_type": "markdown",
   "id": "07018e12-a4cb-480e-817a-982b84935ff1",
   "metadata": {
    "tags": []
   },
   "source": [
    "# Real world example: Upload Data and Create Entities"
   ]
  },
  {
   "cell_type": "markdown",
   "id": "3acc7b90-33f3-486f-b438-170ce7c6acca",
   "metadata": {},
   "source": [
    "First, let's see a easy login script to save and use the PAT for accesing openBIS and getting our space automatically, to avoid later problems."
   ]
  },
  {
   "cell_type": "code",
   "execution_count": null,
   "id": "fec12b11-07eb-4a60-9c45-36e5fef5e7d5",
   "metadata": {},
   "outputs": [],
   "source": [
    "url    = 'https://main.datastore.bam.de/'\n",
    "pat    = '' # leave empty to read token from file or authenticate with username\n",
    "userid = '' # leave empty to use the username from your local machine\n",
    "space  = '' # leave empty to use the users home space"
   ]
  },
  {
   "cell_type": "markdown",
   "id": "f42303ff-daf0-4b78-b2ae-9a25b234bc62",
   "metadata": {},
   "source": [
    "## Connecting\n",
    "Use a PAT or username and pasword to connect. A PAT can be specified or read from a file (`OPENBIS_PAT.txt` in current folder or defined by the environment variable `OPENBIS_PAT_FILE`).\n",
    "\n",
    "After execution the object `o` is the openBIS connection to work with."
   ]
  },
  {
   "cell_type": "code",
   "execution_count": null,
   "id": "abf7bed3-70e9-423e-9212-dfecfeed9910",
   "metadata": {},
   "outputs": [],
   "source": [
    "from pybis import Openbis\n",
    "try:\n",
    "    from os import environ\n",
    "    pat = pat or open(environ.get('OPENBIS_PAT_FILE', 'OPENBIS_PAT.txt'), 'r').read().strip()\n",
    "    o = Openbis(url, token=pat)\n",
    "    userid = o.token.split('-')[1]\n",
    "except:\n",
    "    from getpass import getuser, getpass\n",
    "    o = Openbis(url)\n",
    "    userid = userid.lower() or getuser()\n",
    "    password = getpass('Enter password for user {} at {}: '.format(userid, url))\n",
    "    o.login(userid, password)\n",
    "server_info = o.get_server_information()\n",
    "person = o.get_person(userid)\n",
    "space = space.upper() or person.space\n",
    "\n",
    "print('Server: {} (openBIS {}, API {})'.format(o.hostname, server_info.openbis_version, server_info.api_version))\n",
    "print('UserId: {} ({} {}, {})'.format(person.userId, person.firstName, person.lastName, person.email))\n",
    "print('Space : {}'.format(space))"
   ]
  },
  {
   "cell_type": "markdown",
   "id": "50ddbc5a-aba0-4a09-8aa6-bc2c67d70634",
   "metadata": {},
   "source": [
    "# Now do something\n",
    "Like listing all experimental steps we have access to ..."
   ]
  },
  {
   "cell_type": "code",
   "execution_count": null,
   "id": "efceaafb-e292-46ca-80b5-3bda196074a0",
   "metadata": {},
   "outputs": [],
   "source": [
    "o.get_objects(type='EXPERIMENTAL_STEP')"
   ]
  },
  {
   "cell_type": "markdown",
   "id": "ee532ad5-ce46-480c-a60e-9b0cfef220c9",
   "metadata": {},
   "source": [
    "## Create and Save a PAT\n",
    "If you are logged in with a password you can create and save a PAT here.\n"
   ]
  },
  {
   "cell_type": "code",
   "execution_count": null,
   "id": "e4e607c8-b590-4a4d-9639-12c40654f07f",
   "metadata": {},
   "outputs": [],
   "source": [
    "sessionName = 'default'\n",
    "from datetime import datetime\n",
    "from os import environ\n",
    "validFrom = datetime.now() # from now,  or datetime(2024, 12, 17, 10, 30, 0, 0)\n",
    "validTo   = None # max. time, or datetime(2024, 12, 18, 0, 0, 0, 0)\n",
    "token = o.get_or_create_personal_access_token(sessionName, validFrom, validTo)\n",
    "with open(environ.get('OPENBIS_PAT_FILE', 'OPENBIS_PAT.txt'), 'w') as pat_file:\n",
    "    pat_file.write(token.permId)\n",
    "print(token.permId)"
   ]
  },
  {
   "cell_type": "markdown",
   "id": "e6efa53a-d084-40ec-870f-4fa987e9742c",
   "metadata": {},
   "source": [
    "## Scenario"
   ]
  },
  {
   "cell_type": "markdown",
   "id": "b24000f4-7af1-4118-8f28-5efa66b744de",
   "metadata": {},
   "source": [
    "A measurement setup produces new files which should be uploaded to openBIS. In this example we will use the generic, well-known [IRIS data set](https://en.wikipedia.org/wiki/Iris_flower_data_set).\n",
    "We want to create code to upload a data set and attacht it to an experimental step. \n",
    "\n",
    "The script should do the following:\n",
    "\n",
    "* make sure the project and experiment exist - create if necessary\n",
    "* read the measurements description from an additional file (measurement.txt)\n",
    "* create the name/code of the experimental step with this information\n",
    "* search this step - create if it is not already there, setting description from measurement.txt\n",
    "* upload the two files (iris.csv, measurement) as a dataset to an experimental step\n",
    "\n",
    "This example shows the **interactive development process** - step by step from the first line to the complete script."
   ]
  },
  {
   "cell_type": "markdown",
   "id": "9b5414cd-c571-46f3-8e7a-2277136b5ab8",
   "metadata": {},
   "source": [
    "## Optional: Create dummy data"
   ]
  },
  {
   "cell_type": "code",
   "execution_count": null,
   "id": "833c56d2-3e9c-436f-a52b-b0202b849ab3",
   "metadata": {},
   "outputs": [],
   "source": [
    "project_code = 'IRIS_PROJECT'\n",
    "collection_code = 'IRIS_EXPERIMENT'\n",
    "object_code = 'IRIS_STEP'\n",
    "\n",
    "my_space = o.get_space(space)\n",
    "\n",
    "try:\n",
    "    my_project = my_space.get_project(project_code)\n",
    "except ValueError:\n",
    "    my_project = o.new_project(space=my_space, code=project_code)\n",
    "    my_project.save()\n",
    "\n",
    "my_collection = o.get_collections(space=my_space.code, project=my_project.code, code=collection_code)[0]\n",
    "if not my_collection:\n",
    "    my_collection = o.new_collection(project=my_project, code=collection_code, type='DEFAULT_EXPERIMENT')\n",
    "    my_collection.save()\n",
    "\n",
    "my_object = my_space.get_objects(code=object_code, project=my_project, collection=my_collection, type='EXPERIMENTAL_STEP')[0]\n",
    "if not my_object:\n",
    "    my_object = o.new_object(code=object_code, collection=my_collection, type='EXPERIMENTAL_STEP')\n",
    "    my_object.save()\n",
    "# download the data file\n",
    "import requests\n",
    "resp = requests.get('https://gist.githubusercontent.com/netj/8836201/raw/6f9306ad21398ea43cba4f7d537619d0e07d5ae3/iris.csv')\n",
    "with open('iris.csv', 'w') as csvfile:\n",
    "     csvfile.write(resp.text)\n",
    "with open('measurement.txt', 'w') as txtfile:\n",
    "     txtfile.write('foo\\nbar\\nbaz\\n')"
   ]
  },
  {
   "cell_type": "markdown",
   "id": "dd63f3b1-01b0-4849-bf63-eeff52a1732a",
   "metadata": {
    "tags": []
   },
   "source": [
    "## Upload a dataset and attach to an experimental step"
   ]
  },
  {
   "cell_type": "markdown",
   "id": "ce3afb12-347e-4739-84e5-4cfe367aad87",
   "metadata": {},
   "source": [
    "### Explore types and entities"
   ]
  },
  {
   "cell_type": "markdown",
   "id": "af9c5be0-43a9-4648-8211-a0d231078a95",
   "metadata": {},
   "source": [
    "#### List dataset types"
   ]
  },
  {
   "cell_type": "code",
   "execution_count": null,
   "id": "b2f54967-295a-484f-bc10-7106fd369495",
   "metadata": {
    "tags": []
   },
   "outputs": [],
   "source": [
    "o.get_dataset_types() # list dataset types to select the desired one"
   ]
  },
  {
   "cell_type": "code",
   "execution_count": null,
   "id": "17bff0ab-ff8c-4b16-a90e-90a61ac933a6",
   "metadata": {},
   "outputs": [],
   "source": [
    "# select and store dataset type\n",
    "dataset_type = 'RAW_DATA'\n",
    "dataset_type"
   ]
  },
  {
   "cell_type": "markdown",
   "id": "b70d9fe7-4485-41fb-853d-adc8b58ff229",
   "metadata": {},
   "source": [
    "#### List collections (experiments)"
   ]
  },
  {
   "cell_type": "code",
   "execution_count": null,
   "id": "6f67583a-d54e-4a8a-a1fd-57221ef28cae",
   "metadata": {
    "tags": []
   },
   "outputs": [],
   "source": [
    "my_space.get_collections() # list collections to check where we want to upload the dataset"
   ]
  },
  {
   "cell_type": "code",
   "execution_count": null,
   "id": "83f5acc6-4f87-4038-91a9-73dd4f4b57b3",
   "metadata": {},
   "outputs": [],
   "source": [
    "# select and store this IRIS_EXPERIMENT\n",
    "my_experiment = my_space.get_collection('IRIS_EXPERIMENT') #save selected collection in a variable\n",
    "my_experiment"
   ]
  },
  {
   "cell_type": "markdown",
   "id": "82b2b3ee-d145-4b32-be2d-e0e834abe254",
   "metadata": {},
   "source": [
    "#### List objects (samples or experimental steps)"
   ]
  },
  {
   "cell_type": "code",
   "execution_count": null,
   "id": "82d4e80c-fbd1-41c9-b8bd-0e14bd4ee5f5",
   "metadata": {
    "tags": []
   },
   "outputs": [],
   "source": [
    "my_space.get_objects(collection=my_experiment.code) # list objects to check where we want to upload the dataset"
   ]
  },
  {
   "cell_type": "code",
   "execution_count": null,
   "id": "76e41de2-8a1f-4471-ba54-f3dacc73d6e2",
   "metadata": {
    "tags": []
   },
   "outputs": [],
   "source": [
    "my_step = my_space.get_objects(code='IRIS_STEP', collection=my_experiment.code)[0] #save selected object in a variable\n",
    "# or: my_step = my_space.get_object('/MMUSTERM/PYBISTUTORIAL/IRIS_STEP')\n",
    "my_step"
   ]
  },
  {
   "cell_type": "markdown",
   "id": "14e4f31f-2eb1-4fd9-821c-e14eb5a0a99c",
   "metadata": {},
   "source": [
    "### Upload a dataset and attach to the object\n",
    "The dataset will contain just two files: `iris.csv` and `measurement.txt`."
   ]
  },
  {
   "cell_type": "code",
   "execution_count": null,
   "id": "66575e62-fedc-46f5-a26c-7b38d49aab53",
   "metadata": {
    "tags": []
   },
   "outputs": [],
   "source": [
    "my_dataset = o.new_dataset(\n",
    "    type = dataset_type, # selected type for the dataset\n",
    "    collection = my_experiment, # selected collection\n",
    "    object = my_step, # selected object\n",
    "    files = ['iris.csv', 'measurement.txt'] # iris dataset to upload\n",
    ")\n",
    "my_dataset.save()"
   ]
  },
  {
   "cell_type": "markdown",
   "id": "1a440969-c0e8-4216-8114-9d7ff4be431e",
   "metadata": {
    "tags": []
   },
   "source": [
    "### Modify description (property) of the experimental step after upload"
   ]
  },
  {
   "cell_type": "code",
   "execution_count": null,
   "id": "b85ea684-b571-4637-9bf9-9a6fc20ea479",
   "metadata": {
    "tags": []
   },
   "outputs": [],
   "source": [
    "# read the content of measuremet.txt\n",
    "with open('measurement.txt', 'r') as txtfile:\n",
    "     desc = txtfile.read()\n",
    "print(desc)\n",
    "my_step.props['experimental_step.experimental_description'] = desc\n",
    "my_step.save()"
   ]
  },
  {
   "cell_type": "markdown",
   "id": "c0f1e874-8b71-4ca7-bb2a-5b8b0225cf5c",
   "metadata": {},
   "source": [
    "Now we have all the code to upload a dataset to an existing object and alter it's properties."
   ]
  },
  {
   "cell_type": "markdown",
   "id": "45a820aa-582b-43a5-b60b-c0b32f544fb9",
   "metadata": {
    "tags": []
   },
   "source": [
    "## Create the experimental step, experiment and project if needed"
   ]
  },
  {
   "cell_type": "markdown",
   "id": "94336943-2c1c-4ec4-aea3-7e89217bec7f",
   "metadata": {},
   "source": [
    "### Search or create the experimental step/object"
   ]
  },
  {
   "cell_type": "markdown",
   "id": "4986182a-2019-4e7d-8d77-16584052b540",
   "metadata": {},
   "source": [
    "For every measurement series a new experimental step should be used, based on the contents of the file `measurements.txt`. So we need to read this file first and use the first word for code of the experimental step."
   ]
  },
  {
   "cell_type": "code",
   "execution_count": null,
   "id": "9f080340-e56f-4fc1-8b11-2e2ccc7dd9fd",
   "metadata": {},
   "outputs": [],
   "source": [
    "with open('measurement.txt', 'r') as txtfile:\n",
    "     desc = txtfile.read()\n",
    "my_step_name = 'IRIS_'+desc.split()[0].upper()\n",
    "my_step_name"
   ]
  },
  {
   "cell_type": "code",
   "execution_count": null,
   "id": "d70240bd-7c7b-4b88-8dfb-bcd28a5ef36f",
   "metadata": {},
   "outputs": [],
   "source": [
    "steps = o.get_objects(my_step_name, project=my_project)\n",
    "if steps:\n",
    "    my_step = steps[0]\n",
    "else:\n",
    "    my_step = o.new_object(\n",
    "        type = 'EXPERIMENTAL_STEP',\n",
    "        project = my_project,\n",
    "        collection = my_collection,\n",
    "        code = my_step_name\n",
    "    )\n",
    "    my_step.save()\n",
    "my_step # is now an existing or newly created step"
   ]
  },
  {
   "cell_type": "markdown",
   "id": "1f0ee98e-2a69-48ad-b73c-b459b83fc2ff",
   "metadata": {},
   "source": [
    "## Putting it all together: the complete script"
   ]
  },
  {
   "cell_type": "markdown",
   "id": "bab70583-1267-46ed-aed8-1c9ea8b80030",
   "metadata": {},
   "source": [
    "### The Complete Script\n",
    "\n",
    "Now we combine all of the code above to a cell/script that can be used standalone. loop"
   ]
  },
  {
   "cell_type": "code",
   "execution_count": null,
   "id": "0183fd8c",
   "metadata": {},
   "outputs": [],
   "source": [
    "project_code = 'IRIS_PROJECT'\n",
    "collection_code = 'IRIS_EXPERIMENT'\n",
    "object_code = 'IRIS_STEP'\n",
    "\n",
    "my_space = o.get_space(space)\n",
    "\n",
    "# project and collection\n",
    "try:\n",
    "    my_project = my_space.get_project(project_code)\n",
    "except ValueError:\n",
    "    my_project = o.new_project(space=my_space, code=project_code)\n",
    "    my_project.save()\n",
    "\n",
    "try:\n",
    "    my_collection = o.get_collections(space=my_space.code, project=my_project.code, code=collection_code)[0]\n",
    "    print(\"OLD\")\n",
    "except ValueError:\n",
    "    my_collection = o.new_collection(project=my_project, code=collection_code, type='DEFAULT_EXPERIMENT')\n",
    "    my_collection.save()\n",
    "    print(\"NEW\")\n",
    "\n",
    "my_collection"
   ]
  },
  {
   "cell_type": "code",
   "execution_count": null,
   "id": "f10c39b1-05c3-4a10-a837-ce7fd63e24ba",
   "metadata": {
    "tags": []
   },
   "outputs": [],
   "source": [
    "# settings\n",
    "project_code = 'IRIS_PROJECT'\n",
    "collection_code = 'IRIS_EXPERIMENT'\n",
    "collection_type = 'DEFAULT_EXPERIMENT'\n",
    "object_type = 'EXPERIMENTAL_STEP' \n",
    "dataset_type = 'RAW_DATA'\n",
    "\n",
    "# space\n",
    "my_space = o.get_space(space) # get the space which will be used\n",
    "\n",
    "# project and collection\n",
    "try:\n",
    "    my_project = my_space.get_project(project_code)\n",
    "except ValueError:\n",
    "    my_project = o.new_project(space=my_space, code=project_code)\n",
    "    my_project.save()\n",
    "\n",
    "my_collection = o.get_collections(space=my_space.code, project=my_project.code, code=collection_code)[0]\n",
    "if not my_collection:\n",
    "    my_collection = o.new_collection(project=my_project, code=collection_code, type='DEFAULT_EXPERIMENT')\n",
    "    my_collection.save()\n",
    "\n",
    "# object/step\n",
    "with open('measurement.txt', 'r') as txtfile:\n",
    "     desc = txtfile.read()\n",
    "my_step_name = 'IRIS_'+desc.split()[0].upper()\n",
    "steps = o.get_objects(my_step_name, project=my_project)\n",
    "if steps:\n",
    "    my_step = steps[0]\n",
    "else:\n",
    "    my_step = o.new_object(\n",
    "        type = object_type,\n",
    "        project = my_project,\n",
    "        collection = my_collection,\n",
    "        code = my_step_name,\n",
    "        props = {'experimental_step.experimental_description' : desc}\n",
    "    )\n",
    "    print(my_step)\n",
    "    my_step.save()\n",
    "\n",
    "# dataset\n",
    "my_dataset = o.new_dataset(\n",
    "    type = dataset_type, # selected type for the dataset\n",
    "    collection = my_collection, # selected collection\n",
    "    object = my_step, # selected object\n",
    "    files = ['iris.csv', 'measurement.txt'] # iris dataset to upload\n",
    ")\n",
    "my_dataset.save()\n",
    "o.logout()"
   ]
  }
 ],
 "metadata": {
  "kernelspec": {
   "display_name": "Python 3",
   "language": "python",
   "name": "python3"
  },
  "language_info": {
   "codemirror_mode": {
    "name": "ipython",
    "version": 3
   },
   "file_extension": ".py",
   "mimetype": "text/x-python",
   "name": "python",
   "nbconvert_exporter": "python",
   "pygments_lexer": "ipython3",
   "version": "3.13.3"
  }
 },
 "nbformat": 4,
 "nbformat_minor": 5
}
