{
 "cells": [
  {
   "cell_type": "markdown",
   "id": "67be8014-36cd-4f3f-83cf-9d75bd595986",
   "metadata": {},
   "source": [
    "# Real world example: Data Analysis"
   ]
  },
  {
   "cell_type": "markdown",
   "id": "7316351e-d5b9-45ec-863d-06a290102176",
   "metadata": {
    "jp-MarkdownHeadingCollapsed": true
   },
   "source": [
    "## Scenario\n",
    "In your OpenBIS instance exists an EXPERIMENTAL_STEP with an associated DATASET. You need to download the dataset files and perform some analysis on it. The results will be written to a new dataset and uploaded to the experimental step. A new comment will be added to the Notes property.\n",
    "\n",
    "We use the example [IRIS data set](https://en.wikipedia.org/wiki/Iris_flower_data_set) and some dummy code for analysis just to demonstaten the workflow.\n",
    "\n",
    "This example shows the **interactive development process** - step by step from the first line to the complete script."
   ]
  },
  {
   "cell_type": "markdown",
   "id": "8f2680b2-69f0-4a8c-af17-95f0392197f7",
   "metadata": {
    "jp-MarkdownHeadingCollapsed": true
   },
   "source": [
    "## Start: connecting to openBIS\n",
    "Using URL and username+password or PAT"
   ]
  },
  {
   "cell_type": "code",
   "execution_count": null,
   "id": "10881a4d-b2fa-4ed2-be64-c4d72ad886d5",
   "metadata": {
    "scrolled": true
   },
   "outputs": [],
   "source": [
    "from pybis import Openbis\n",
    "o = Openbis('https://schulung.datastore.bam.de')\n",
    "o.login('mmusterm', 'bamisgreat')"
   ]
  },
  {
   "cell_type": "markdown",
   "id": "1d56dd50-461c-4db2-923b-5b78e9faf639",
   "metadata": {
    "jp-MarkdownHeadingCollapsed": true
   },
   "source": [
    "## OPTIONAL: create dummy data for this example\n",
    "This example needs amn EXPERIMENTAL_STEP with the IRIS data attached as a RAW_DATA to work. If you don't have this already you may create it with the following code."
   ]
  },
  {
   "cell_type": "code",
   "execution_count": null,
   "id": "7991fd52-872c-4b66-aed5-60f09cccce8f",
   "metadata": {},
   "outputs": [],
   "source": [
    "SPACE='MMUSTERM'\n",
    "PROJECT='PYBIS_ANALYSIS'\n",
    "COLLECTION='IRIS_STEPS'\n",
    "OBJECT='IRIS_ANALYSIS'\n",
    "\n",
    "space = o.get_space(SPACE)\n",
    "try:\n",
    "    proj = space.get_project(PROJECT)\n",
    "except ValueError:\n",
    "    proj=o.new_project(space=SPACE, code=PROJECT, description='just for learning pyBIS')\n",
    "    proj.save()\n",
    "try:\n",
    "    coll = space.get_collection(COLLECTION)\n",
    "except ValueError:\n",
    "    coll=o.new_collection(project=proj, code=COLLECTION, type='DEFAULT_EXPERIMENT')\n",
    "    coll.save()\n",
    "steps = space.get_objects(project=proj, type='EXPERIMENTAL_STEP', code=OBJECT)\n",
    "if not steps:\n",
    "    step =  o.new_object(type='EXPERIMENTAL_STEP', space=space, collection=coll, \n",
    "        code=OBJECT, props={\n",
    "        '$name': 'My IRIS analysis',\n",
    "        'experimental_step.experimental_description': 'handling the well known data set',\n",
    "        'notes': 'experimental step created'\n",
    "    })\n",
    "    step.save()\n",
    "else:\n",
    "    step = steps[0]\n",
    "datasets = step.get_datasets(type='RAW_DATA')\n",
    "if not datasets:\n",
    "    import requests\n",
    "    resp = requests.get('https://gist.githubusercontent.com/netj/8836201/raw/6f9306ad21398ea43cba4f7d537619d0e07d5ae3/iris.csv')\n",
    "    with open('iris.csv', 'w') as csvfile:\n",
    "        csvfile.write(resp.text)\n",
    "    dataset = o.new_dataset(\n",
    "        type = 'RAW_DATA',\n",
    "        collection = coll,\n",
    "        object = step,\n",
    "        files = ['iris.csv']\n",
    "    )\n",
    "    dataset.save()"
   ]
  },
  {
   "attachments": {},
   "cell_type": "markdown",
   "id": "4db4b641-5f44-488d-b485-8d12cf2a686e",
   "metadata": {
    "jp-MarkdownHeadingCollapsed": true
   },
   "source": [
    "## Analyse the IRIS data - step by step"
   ]
  },
  {
   "cell_type": "markdown",
   "id": "e330e6fd-8a0d-4137-bcf7-9752f6a18595",
   "metadata": {
    "jp-MarkdownHeadingCollapsed": true
   },
   "source": [
    "### Search all EXPERIMENTAL_STEPs in project"
   ]
  },
  {
   "cell_type": "code",
   "execution_count": null,
   "id": "f0a08f9f-3574-41d1-b3c0-ce865f580663",
   "metadata": {},
   "outputs": [],
   "source": [
    "SPACE='MMUSTERM'\n",
    "PROJECT='PYBIS_ANALYSIS'\n",
    "o.get_objects(space=SPACE, project=PROJECT, type='EXPERIMENTAL_STEP')"
   ]
  },
  {
   "cell_type": "markdown",
   "id": "3052913f-1212-4ce5-952b-e9e8b91526dd",
   "metadata": {
    "jp-MarkdownHeadingCollapsed": true
   },
   "source": [
    "### Get list of steps to analyse\n",
    "just search for EXPERIMENTAL_STEPs that have DATASET(s) of type RAW_DATA but not of type ANALYZED_DATA."
   ]
  },
  {
   "cell_type": "code",
   "execution_count": null,
   "id": "697cc8b9-1d0a-495f-81d2-ffd5c862ab1f",
   "metadata": {},
   "outputs": [],
   "source": [
    "steps_to_analyse = []\n",
    "for step in o.get_objects(space=SPACE, project=PROJECT, type='EXPERIMENTAL_STEP'):\n",
    "    raw = step.get_datasets(type='RAW_DATA')\n",
    "    res = step.get_datasets(type='ANALYZED_DATA')\n",
    "    if raw and not res:\n",
    "        steps_to_analyse.append(step)\n",
    "if steps_to_analyse:\n",
    "    print([s.code for s in steps_to_analyse])\n",
    "    step = steps_to_analyse[0]\n",
    "else:\n",
    "    print('Nothing to do - have a break!')"
   ]
  },
  {
   "cell_type": "markdown",
   "id": "dcd11f53-7257-49b6-99c0-abbf62a316aa",
   "metadata": {
    "jp-MarkdownHeadingCollapsed": true
   },
   "source": [
    "### Download dataset to local computer"
   ]
  },
  {
   "cell_type": "code",
   "execution_count": null,
   "id": "4f7b3179-87da-4e3c-8fa1-07404c685179",
   "metadata": {},
   "outputs": [],
   "source": [
    "dsraw = step.get_datasets(type='RAW_DATA')[0]\n",
    "folder = dsraw.download(destination='raw/', create_default_folders=False)"
   ]
  },
  {
   "cell_type": "markdown",
   "id": "4845bc85-b58e-4e29-91d8-089b5fa59e03",
   "metadata": {
    "jp-MarkdownHeadingCollapsed": true
   },
   "source": [
    "### Read and process CSV content\n",
    "This is really just a placeholder for real code - it does nothing useful, just compute the medium value of two columns."
   ]
  },
  {
   "cell_type": "code",
   "execution_count": null,
   "id": "f92c9d5b-ed24-4ace-b532-905d372cc61d",
   "metadata": {},
   "outputs": [],
   "source": [
    "import csv\n",
    "num_lines = 0\n",
    "slength_sum = 0\n",
    "plength_sum = 0\n",
    "\n",
    "with open(folder+'iris.csv', 'r') as csvfile:\n",
    "    csvreader = csv.reader(csvfile)\n",
    "    csvreader.__next__() # just skip the header line\n",
    "    for row in csvreader:\n",
    "        slength_sum += float(row[0])\n",
    "        plength_sum += float(row[2])\n",
    "        num_lines += 1\n",
    "slength_med = slength_sum/ num_lines\n",
    "plength_med = plength_sum/ num_lines\n",
    "print('medium sepal.length: %f, medium petal.length: %f' % (slength_med, plength_med))"
   ]
  },
  {
   "cell_type": "markdown",
   "id": "68f581ba-4c31-4c34-b2d2-1d457368f5fc",
   "metadata": {
    "jp-MarkdownHeadingCollapsed": true
   },
   "source": [
    "### Write results into file"
   ]
  },
  {
   "cell_type": "code",
   "execution_count": null,
   "id": "581a00e7-d0de-47e0-97a9-d51f291def60",
   "metadata": {},
   "outputs": [],
   "source": [
    "with open('iris_results.txt', 'w') as resfile:\n",
    "    resfile.write('medium sepal.length: %f\\n' % slength_med)\n",
    "    resfile.write('medium petal.length: %f\\n' % plength_med)"
   ]
  },
  {
   "cell_type": "markdown",
   "id": "4599408a-2670-489a-a481-b9971b122bda",
   "metadata": {
    "editable": true,
    "jp-MarkdownHeadingCollapsed": true,
    "slideshow": {
     "slide_type": ""
    },
    "tags": []
   },
   "source": [
    "### Upload result file as new dataset"
   ]
  },
  {
   "cell_type": "code",
   "execution_count": null,
   "id": "5fe5068e-c1ef-4666-873b-7049fa11237c",
   "metadata": {},
   "outputs": [],
   "source": [
    "dataset = o.new_dataset(\n",
    "    type = 'ANALYZED_DATA',\n",
    "    object = step,\n",
    "    files = ['iris_results.txt']\n",
    ")\n",
    "dataset.save()"
   ]
  },
  {
   "cell_type": "markdown",
   "id": "5f7e9cdf-3f6b-4a3b-ad24-fb0a86f37ff1",
   "metadata": {},
   "source": [
    "Now just go back and search again for data sets that need to be analyzed - check that our search is working."
   ]
  },
  {
   "cell_type": "markdown",
   "id": "a4221b2b-dd05-4932-ac22-8338c290f497",
   "metadata": {
    "jp-MarkdownHeadingCollapsed": true
   },
   "source": [
    "### Create a plot\n",
    "For this step you need the package matplotlib installed or xou will get an error. Try installing with `pip install matplotlib` on your anaconda prompt and wait for completion.\n",
    "Now create a and view a plot of the IRIS data."
   ]
  },
  {
   "cell_type": "code",
   "execution_count": null,
   "id": "e85ddde5-66f5-4a37-bc0a-a7c7cdd011d6",
   "metadata": {},
   "outputs": [],
   "source": [
    "import pandas\n",
    "df = pandas.read_csv(folder+'iris.csv')\n",
    "iris_plot = df.plot()"
   ]
  },
  {
   "cell_type": "markdown",
   "id": "4470d5fc-6dd6-4ed2-8503-2507ab925216",
   "metadata": {
    "jp-MarkdownHeadingCollapsed": true
   },
   "source": [
    "### Save and upload plot as a preview image for the experimental step\n",
    "A dataset type of ELN_PREVIEW_IMAGE will be used by the ELN to show an image in the entities preview."
   ]
  },
  {
   "cell_type": "code",
   "execution_count": null,
   "id": "8cb9f7d0-faa1-4a42-a1d9-5e35f9e95089",
   "metadata": {},
   "outputs": [],
   "source": [
    "iris_plot.get_figure().savefig('iris_plot.png')\n",
    "preview_dataset = o.new_dataset(\n",
    "    type = 'ELN_PREVIEW',\n",
    "    object = step,\n",
    "    files = ['iris_plot.png']\n",
    ")\n",
    "preview_dataset.save()"
   ]
  },
  {
   "cell_type": "markdown",
   "id": "0da6f15d-c223-43c6-9263-57d8fef272de",
   "metadata": {
    "jp-MarkdownHeadingCollapsed": true
   },
   "source": [
    "### Append a note to the experimental step"
   ]
  },
  {
   "cell_type": "code",
   "execution_count": null,
   "id": "d0c0b7d2-a7f6-4d1a-8648-479945c261d3",
   "metadata": {},
   "outputs": [],
   "source": [
    "notes = step.props['notes']\n",
    "step.props['notes'] = notes+'<p>Data analysed via <b>pyBIS</b>!</p>'\n",
    "step.save()"
   ]
  },
  {
   "cell_type": "markdown",
   "id": "56d10d1e-0c89-4743-8094-6db95459385d",
   "metadata": {
    "jp-MarkdownHeadingCollapsed": true
   },
   "source": [
    "### Dont't forget to logout!"
   ]
  },
  {
   "cell_type": "code",
   "execution_count": null,
   "id": "b3a2d085-4b34-4df1-ad6d-40189c9ab443",
   "metadata": {},
   "outputs": [],
   "source": [
    "o.logout()"
   ]
  },
  {
   "cell_type": "markdown",
   "id": "f423b09f-9864-4438-a18c-7340d16a3e90",
   "metadata": {
    "jp-MarkdownHeadingCollapsed": true
   },
   "source": [
    "## Putting it all together - the complete script\n",
    "Now we combine all of the code above to a cell/script that can be used standalone. Some cosmetic changes include:\n",
    "* move all imports to the top\n",
    "* move adjustable settings near the top\n",
    "* move analysis code in a separate function\n",
    "* combine handling of experimental steps in main loop"
   ]
  },
  {
   "cell_type": "code",
   "execution_count": null,
   "id": "6de6892c-af20-46ab-9d86-20a1c2fb3162",
   "metadata": {},
   "outputs": [],
   "source": [
    "from pybis import Openbis\n",
    "from datetime import date\n",
    "import pandas\n",
    "import csv\n",
    "\n",
    "SPACE='MMUSTERM'\n",
    "PROJECT='PYBIS_ANALYSIS'\n",
    "\n",
    "## connect and login - you should use a PAT instead\n",
    "o = Openbis('https://schulung.datastore.bam.de')\n",
    "o.login('mmusterm', 'bamisgreat')\n",
    "\n",
    "# just a separate function for data anlysis\n",
    "def analyse_iris(folder):\n",
    "    num_lines = 0\n",
    "    slength_sum = 0\n",
    "    plength_sum = 0\n",
    "    with open(folder+'iris.csv', 'r') as csvfile:\n",
    "        csvreader = csv.reader(csvfile)\n",
    "        csvreader.__next__() # just skip the header line\n",
    "        for row in csvreader:\n",
    "            slength_sum += float(row[0])\n",
    "            plength_sum += float(row[2])\n",
    "            num_lines += 1\n",
    "    slength_med = slength_sum/ num_lines\n",
    "    plength_med = plength_sum/ num_lines\n",
    "    print('medium sepal.length: %f, medium petal.length: %f' % (slength_med, plength_med))\n",
    "    return slength_med, plength_med\n",
    "\n",
    "for step in o.get_objects(space=SPACE, project=PROJECT, type='EXPERIMENTAL_STEP'):\n",
    "    raw = step.get_datasets(type='RAW_DATA')\n",
    "    res = step.get_datasets(type='ANALYZED_DATA')\n",
    "    if raw and not res:\n",
    "        print('Processing: %s' % step.code)\n",
    "        # download raw data\n",
    "        dsraw = step.get_datasets(type='RAW_DATA')[0]\n",
    "        folder = dsraw.download(destination='raw/', create_default_folders=False)\n",
    "        slength_med, plength_med = analyse_iris(folder)\n",
    "        with open('iris_results.txt', 'w') as resfile:\n",
    "            resfile.write('medium sepal.length: %f\\n' % slength_med)\n",
    "            resfile.write('medium petal.length: %f\\n' % plength_med)\n",
    "        dataset = o.new_dataset(\n",
    "            type = 'ANALYZED_DATA',\n",
    "            object = step,\n",
    "            files = ['iris_results.txt']\n",
    "        )\n",
    "        dataset.save()\n",
    "        df = pandas.read_csv(folder+'iris.csv')\n",
    "        iris_plot = df.plot()\n",
    "        iris_plot.get_figure().savefig('iris_plot.png')\n",
    "        preview_dataset = o.new_dataset(\n",
    "            type = 'ELN_PREVIEW',\n",
    "            object = step,\n",
    "            files = ['iris_plot.png']\n",
    "        )\n",
    "        preview_dataset.save()\n",
    "        notes = step.props['notes']\n",
    "        step.props['notes'] = notes+'<p>Data analysed via <b>pyBIS</b>!</p>'\n",
    "        step.save()\n",
    "    else:\n",
    "        print('Skipping: %s' % step.code)\n",
    "o.logout()"
   ]
  }
 ],
 "metadata": {
  "kernelspec": {
   "display_name": "Python 3 (ipykernel)",
   "language": "python",
   "name": "python3"
  },
  "language_info": {
   "codemirror_mode": {
    "name": "ipython",
    "version": 3
   },
   "file_extension": ".py",
   "mimetype": "text/x-python",
   "name": "python",
   "nbconvert_exporter": "python",
   "pygments_lexer": "ipython3",
   "version": "3.11.5"
  }
 },
 "nbformat": 4,
 "nbformat_minor": 5
}
