{
 "cells": [
  {
   "cell_type": "markdown",
   "id": "67be8014-36cd-4f3f-83cf-9d75bd595986",
   "metadata": {},
   "source": [
    "# Real world example: Maintenance scripts"
   ]
  },
  {
   "cell_type": "markdown",
   "id": "7316351e-d5b9-45ec-863d-06a290102176",
   "metadata": {
    "jp-MarkdownHeadingCollapsed": true
   },
   "source": [
    "## Scenario\n",
    "In your OpenBIS instance exists a number of objects of type CHEMICAL. We create maintenance scripts to perform the following actions:\n",
    "* Check properties: checks the expiration date and saves a list of expired chemicals in a custom format.\n",
    "* Storage change: changes the location of some chemicals to another room.\n",
    "\n",
    "This example shows the **interactive development process** - step by step from the first line to the complete scripts.\n",
    "\n",
    "**As all users work on the same instance, we will not modify the global INVENTORY but limit the actions to the user's space. But this code may be used for the inventory as well, just change the SPACE limitation condition.**"
   ]
  },
  {
   "cell_type": "markdown",
   "id": "8f2680b2-69f0-4a8c-af17-95f0392197f7",
   "metadata": {
    "jp-MarkdownHeadingCollapsed": true
   },
   "source": [
    "## Start: connecting to openBIS\n",
    "Using URL and username+password or PAT"
   ]
  },
  {
   "cell_type": "code",
   "execution_count": null,
   "id": "10881a4d-b2fa-4ed2-be64-c4d72ad886d5",
   "metadata": {
    "scrolled": true
   },
   "outputs": [],
   "source": [
    "from pybis import Openbis\n",
    "o = Openbis('https://schulung.datastore.bam.de')\n",
    "o.login('mmusterm', 'bamisgreat')"
   ]
  },
  {
   "cell_type": "markdown",
   "id": "1d56dd50-461c-4db2-923b-5b78e9faf639",
   "metadata": {
    "jp-MarkdownHeadingCollapsed": true
   },
   "source": [
    "## OPTIONAL: create example data for this example\n",
    "This example needs some objects of type CHEMICAL to work. If you don't have example objects to play with you may create some with the following code."
   ]
  },
  {
   "cell_type": "code",
   "execution_count": null,
   "id": "7991fd52-872c-4b66-aed5-60f09cccce8f",
   "metadata": {},
   "outputs": [],
   "source": [
    "SPACE='MMUSTERM'\n",
    "PROJECT='PYBISTUTORIAL'\n",
    "COLLECTION='MYCHEMICALS'\n",
    "\n",
    "space = o.get_space(SPACE)\n",
    "try:\n",
    "    proj = space.get_project(PROJECT)\n",
    "except ValueError:\n",
    "    proj=o.new_project(space=SPACE, code=PROJECT, description='just for learning pyBIS')\n",
    "    proj.save()\n",
    "try:\n",
    "    coll = space.get_collection(COLLECTION)\n",
    "except ValueError:\n",
    "    coll=o.new_collection(project=proj, code=COLLECTION, type='COLLECTION')\n",
    "    coll.save()\n",
    "\n",
    "# FIXME: do a loop and create some more chemicals!\n",
    "c = o.new_object(type='CHEMICAL', space=space, collection=coll, props={\n",
    "    '$name': 'Water',\n",
    "    'description': 'just pure water',\n",
    "    'manufacturer': 'ACME Corp.',\n",
    "    'hazardous_substance': False,\n",
    "    'bam_oe': 'OE_S.3',\n",
    "    'bam_location_complete': 'UE_02_2_310',\n",
    "    'date_expiration': '2023-12-31'\n",
    "})\n",
    "c.save()\n",
    "c = o.new_object(type='CHEMICAL', space=space, collection=coll, props={\n",
    "    '$name': 'Ethanol',\n",
    "    'description': 'hicks!',\n",
    "    'manufacturer': 'ACME Corp.',\n",
    "    'hazardous_substance': True,\n",
    "    'bam_oe': 'OE_S.3',\n",
    "    'bam_location_complete': 'UE_02_2_310'\n",
    "})\n",
    "c.save()\n",
    "c = o.new_object(type='CHEMICAL', space=space, collection=coll, props={\n",
    "    '$name': 'Propanol',\n",
    "    'description': 'bäh!',\n",
    "    'manufacturer': 'ACME Corp.',\n",
    "    'hazardous_substance': True,\n",
    "    'bam_oe': 'OE_S.3',\n",
    "    'bam_location_complete': 'UE_02_2_309'\n",
    "})\n",
    "c.save()"
   ]
  },
  {
   "attachments": {},
   "cell_type": "markdown",
   "id": "4db4b641-5f44-488d-b485-8d12cf2a686e",
   "metadata": {
    "jp-MarkdownHeadingCollapsed": true
   },
   "source": [
    "## Example: Check for expiry\n",
    "\n",
    "Check for expired CHEMICALs and export the list to a CSV file in a custom format."
   ]
  },
  {
   "cell_type": "markdown",
   "id": "4920edd5-9d8d-47d5-9d7b-51a22e7f57b0",
   "metadata": {
    "jp-MarkdownHeadingCollapsed": true
   },
   "source": [
    "### Searching all objects of type CHEMICAL"
   ]
  },
  {
   "cell_type": "code",
   "execution_count": null,
   "id": "697cc8b9-1d0a-495f-81d2-ffd5c862ab1f",
   "metadata": {},
   "outputs": [],
   "source": [
    "o.get_objects(type='CHEMICAL')"
   ]
  },
  {
   "cell_type": "markdown",
   "id": "68f581ba-4c31-4c34-b2d2-1d457368f5fc",
   "metadata": {
    "jp-MarkdownHeadingCollapsed": true
   },
   "source": [
    "### Limiting search to a SPACE"
   ]
  },
  {
   "cell_type": "code",
   "execution_count": null,
   "id": "581a00e7-d0de-47e0-97a9-d51f291def60",
   "metadata": {},
   "outputs": [],
   "source": [
    "SPACE='MMUSTERM'\n",
    "o.get_objects(type='CHEMICAL', space=SPACE)"
   ]
  },
  {
   "cell_type": "markdown",
   "id": "0da6f15d-c223-43c6-9263-57d8fef272de",
   "metadata": {
    "jp-MarkdownHeadingCollapsed": true
   },
   "source": [
    "### Include needed properties in result"
   ]
  },
  {
   "cell_type": "code",
   "execution_count": null,
   "id": "d0c0b7d2-a7f6-4d1a-8648-479945c261d3",
   "metadata": {},
   "outputs": [],
   "source": [
    "o.get_objects(type='CHEMICAL', space=SPACE, props=['$name', 'date_expiration'])"
   ]
  },
  {
   "cell_type": "markdown",
   "id": "6c200a47-95c1-4fe8-8840-f52a69b72436",
   "metadata": {
    "jp-MarkdownHeadingCollapsed": true
   },
   "source": [
    "### Check for expiration date"
   ]
  },
  {
   "cell_type": "code",
   "execution_count": null,
   "id": "b9bcf88e-94fc-43d6-afa5-7b8a6284c05a",
   "metadata": {},
   "outputs": [],
   "source": [
    "ac = o.get_objects(type='CHEMICAL', space=SPACE, props=['$name', 'date_expiration'])\n",
    "today = '2024-01-20'\n",
    "expired = []\n",
    "for c in ac:\n",
    "    if c.props['date_expiration'] < today:\n",
    "        print(c.code)\n",
    "        expired.append(c)"
   ]
  },
  {
   "cell_type": "markdown",
   "id": "6a53d530-f39b-437c-9f7c-256d7102e581",
   "metadata": {},
   "source": [
    "You will run into trouble if there are chemicals without the expiration date (which is not mandatory). A value of `None` can't be compared to a string!"
   ]
  },
  {
   "cell_type": "code",
   "execution_count": null,
   "id": "eb73c0ed-c02e-4141-8b4d-22dc5704bf1d",
   "metadata": {},
   "outputs": [],
   "source": [
    "expired = []\n",
    "for c in ac:\n",
    "    if c.props['date_expiration'] is not None and c.props['date_expiration'] < today:\n",
    "        print(c.code)\n",
    "        expired.append(c)"
   ]
  },
  {
   "cell_type": "markdown",
   "id": "01304799-9d9a-4b8b-bd6b-1865f6733ce8",
   "metadata": {},
   "source": [
    "**Hint:** getting a value twice with `[]` may lead to performance issues. There are several workarounds:\n",
    "```python\n",
    "ed = c.props['date_expiration']\n",
    "if ed is not None and ed < today:\n",
    "    ...\n",
    "```\n",
    "or:\n",
    "```python\n",
    "if (c.props['date_expiration'] or '9999-12-31') < today:\n",
    "    ...\n",
    "```\n",
    "The explicit `for`-loop can also be replaced with a shorter list comprehension, which lead to very compact code:"
   ]
  },
  {
   "cell_type": "code",
   "execution_count": null,
   "id": "e0509dae-85bf-43ee-b8d7-bd14dcac75e9",
   "metadata": {},
   "outputs": [],
   "source": [
    "expired = [c for c in ac if (c.props['date_expiration'] or '9999-12-31') < today]"
   ]
  },
  {
   "cell_type": "markdown",
   "id": "37561010-ae50-403f-b0f3-11758972ed82",
   "metadata": {
    "jp-MarkdownHeadingCollapsed": true
   },
   "source": [
    "### Use current date for comparison instead of hardcoded\n",
    "A script should not contain a manually entered date - just get the current date."
   ]
  },
  {
   "cell_type": "code",
   "execution_count": null,
   "id": "f3991962-70de-4410-930a-107b79d0a751",
   "metadata": {},
   "outputs": [],
   "source": [
    "from datetime import date\n",
    "today = date.today().isoformat()\n",
    "expired = [c for c in ac if c.props['date_expiration'] is not None and c.props['date_expiration'] < today]\n",
    "for c in expired:\n",
    "    print(c.code)"
   ]
  },
  {
   "cell_type": "markdown",
   "id": "6d51c205-3eb6-47ca-845d-80b331637a10",
   "metadata": {
    "jp-MarkdownHeadingCollapsed": true
   },
   "source": [
    "### Save this list in a CSV file\n",
    "Now the list shoulb be saved in afile that can be given to the colleagues maintaining the chemicals. A custom column layout should be used."
   ]
  },
  {
   "cell_type": "code",
   "execution_count": null,
   "id": "da1903c6-9590-4911-95a5-324957174f4f",
   "metadata": {},
   "outputs": [],
   "source": [
    "import csv\n",
    "fields = ('$name', 'hazardous_substance', 'description', 'bam_location_complete', 'date_expiration')\n",
    "with open('EXPIRED_CHEMICALS.csv', 'w') as csvfile:\n",
    "    csvwriter = csv.writer(csvfile)\n",
    "    csvwriter.writerow(fields)\n",
    "    for c in expired:\n",
    "        csvwriter.writerow([c.props[f] for f in fields])"
   ]
  },
  {
   "cell_type": "markdown",
   "id": "f423b09f-9864-4438-a18c-7340d16a3e90",
   "metadata": {
    "jp-MarkdownHeadingCollapsed": true
   },
   "source": [
    "### Putting it all together - the complete script\n",
    "This is a combination of the above code in one script. All import statements were moved to the top."
   ]
  },
  {
   "cell_type": "code",
   "execution_count": null,
   "id": "6de6892c-af20-46ab-9d86-20a1c2fb3162",
   "metadata": {},
   "outputs": [],
   "source": [
    "from pybis import Openbis\n",
    "from datetime import date\n",
    "import csv\n",
    "\n",
    "SPACE='MMUSTERM'\n",
    "fields = ('$name', 'hazardous_substance', 'description', 'bam_location_complete', 'date_expiration')\n",
    "\n",
    "## connect and login - you should use a PAT instead\n",
    "o = Openbis('https://schulung.datastore.bam.de')\n",
    "o.login('mmusterm', 'bamisgreat')\n",
    "\n",
    "# get all chemicals in space, include needed properties\n",
    "ac = o.get_objects(type='CHEMICAL', space=SPACE, props=fields)\n",
    "\n",
    "# filter out expired chemicals\n",
    "from datetime import date\n",
    "today = date.today().isoformat()\n",
    "expired = [c for c in ac if (c.props['date_expiration'] or '9999-12-31') < today]\n",
    "\n",
    "# write list as csv file\n",
    "fields = ('$name', 'hazardous_substance', 'description', 'bam_location_complete', 'date_expiration')\n",
    "with open('EXPIRED_CHEMICALS.csv', 'w') as csvfile:\n",
    "    csvwriter = csv.writer(csvfile)\n",
    "    csvwriter.writerow(fields)\n",
    "    for c in expired:\n",
    "        csvwriter.writerow([c.props[f] for f in fields])\n",
    "\n",
    "o.logout()"
   ]
  },
  {
   "attachments": {},
   "cell_type": "markdown",
   "id": "9c63eda1-d406-4321-9601-d637f9058f97",
   "metadata": {
    "jp-MarkdownHeadingCollapsed": true
   },
   "source": [
    "## Example: Room number change\n",
    "A storage for chemicals has moved from one room to another. The location of all CHEMICALs with the old room number need to be changed to a new room number."
   ]
  },
  {
   "attachments": {},
   "cell_type": "markdown",
   "id": "de04eb9a-77ad-4016-9829-1574dd33478d",
   "metadata": {
    "jp-MarkdownHeadingCollapsed": true
   },
   "source": [
    "### Get rooms from BAM_LOCATION_COMPLETE\n",
    "\n",
    "To change the room, we do not just need the label of the vocabulary term, but the CODE (internal name) of the entry. We could also get this via pyBIS, but this is not usable in current pyBIS versions. Please use the Vocabulare Browser in the ELN to get the codes."
   ]
  },
  {
   "cell_type": "code",
   "execution_count": null,
   "id": "9b85c55d-79f4-4a58-824b-a5843b348eb7",
   "metadata": {},
   "outputs": [],
   "source": [
    "OLD_ROOMCODE = 'UE_02_2_310' # 'UE/02/2/310'\n",
    "NEW_ROOMCODE = 'UE_02_2_309' # 'UE/02/2/309'"
   ]
  },
  {
   "cell_type": "markdown",
   "id": "a3aabceb-a612-409d-8fa5-4cb301392908",
   "metadata": {
    "jp-MarkdownHeadingCollapsed": true
   },
   "source": [
    "### Get list of CHEMICALs with old room number\n",
    "This is almost the same code as in the previous example. The only new thing is the `where=` statement, which returns just chemicals with the property `bam_location_complete` matching the room."
   ]
  },
  {
   "cell_type": "code",
   "execution_count": null,
   "id": "39e09834-76cf-4a52-b3a4-79f55c557bab",
   "metadata": {},
   "outputs": [],
   "source": [
    "SPACE='MMUSTERM'\n",
    "cc = o.get_objects(type='CHEMICAL', space=SPACE, props=['$name', 'bam_location_complete'], where={'bam_location_complete': OLD_ROOMCODE})\n",
    "cc"
   ]
  },
  {
   "attachments": {},
   "cell_type": "markdown",
   "id": "98f97490-b8c3-489f-8c07-bd3c7f054a2c",
   "metadata": {
    "jp-MarkdownHeadingCollapsed": true
   },
   "source": [
    "### Iterate over list and set new room number\n",
    "\n",
    "Change every single object in list and save it. This works well for a small number of objects."
   ]
  },
  {
   "cell_type": "code",
   "execution_count": null,
   "id": "177656a3-289b-4591-9836-8e0b54bde32c",
   "metadata": {},
   "outputs": [],
   "source": [
    "for c in cc:\n",
    "    c.props['bam_location_complete'] = NEW_ROOMCODE\n",
    "    c.save()"
   ]
  },
  {
   "cell_type": "markdown",
   "id": "aaf9021e-6d92-4b9f-b97e-e78a02cd0a77",
   "metadata": {
    "jp-MarkdownHeadingCollapsed": true
   },
   "source": [
    "### Like before, but with transactions"
   ]
  },
  {
   "cell_type": "code",
   "execution_count": null,
   "id": "574e439e-9877-4161-8d21-1890127ceeb2",
   "metadata": {},
   "outputs": [],
   "source": [
    "trans = o.new_transaction()\n",
    "for c in cc:\n",
    "    c.props['bam_location_complete'] = NEW_ROOMCODE\n",
    "    trans.add(c)\n",
    "trans.commit()"
   ]
  },
  {
   "cell_type": "markdown",
   "id": "781cb433-896b-44d7-ad11-23838ff521a7",
   "metadata": {
    "jp-MarkdownHeadingCollapsed": true
   },
   "source": [
    "### Putting it all together - the complete script\n",
    "This is a combination of the above code in one script. Do not forget to adjust the room numbers every time you run it."
   ]
  },
  {
   "cell_type": "code",
   "execution_count": null,
   "id": "cd7e383a-5865-499d-9cdb-f2f445bf4d93",
   "metadata": {
    "editable": true,
    "slideshow": {
     "slide_type": ""
    },
    "tags": []
   },
   "outputs": [],
   "source": [
    "from pybis import Openbis\n",
    "\n",
    "SPACE='MMUSTERM'\n",
    "OLD_ROOMCODE = 'UE_02_2_310' # 'UE/02/2/310'\n",
    "NEW_ROOMCODE = 'UE_02_2_309' # 'UE/02/2/305'\n",
    "\n",
    "## connect and login - you should use a PAT instead\n",
    "o = Openbis('https://schulung.datastore.bam.de')\n",
    "o.login('mmusterm', 'bamisgreat')\n",
    "\n",
    "# get all chemicals in space that have the old location\n",
    "cc = o.get_objects(type='CHEMICAL', space=SPACE, props=['$name', 'bam_location_complete'], where={'bam_location_complete': OLD_ROOMCODE})\n",
    "\n",
    "# create and execute transaction to change objects to new location in just one action on the server\n",
    "trans = o.new_transaction()\n",
    "for c in cc:\n",
    "    c.props['bam_location_complete'] = NEW_ROOMCODE\n",
    "    trans.add(c)\n",
    "trans.commit()\n",
    "\n",
    "o.logout()"
   ]
  },
  {
   "cell_type": "markdown",
   "id": "1cd8a941-d787-4a22-bdea-735f574a741e",
   "metadata": {
    "jp-MarkdownHeadingCollapsed": true
   },
   "source": [
    "## Logout"
   ]
  },
  {
   "cell_type": "code",
   "execution_count": null,
   "id": "049b07c3-c603-47d0-af86-e090e194cc66",
   "metadata": {
    "jupyter": {
     "source_hidden": true
    }
   },
   "outputs": [],
   "source": [
    "o.logout()"
   ]
  }
 ],
 "metadata": {
  "kernelspec": {
   "display_name": "Python 3 (ipykernel)",
   "language": "python",
   "name": "python3"
  },
  "language_info": {
   "codemirror_mode": {
    "name": "ipython",
    "version": 3
   },
   "file_extension": ".py",
   "mimetype": "text/x-python",
   "name": "python",
   "nbconvert_exporter": "python",
   "pygments_lexer": "ipython3",
   "version": "3.11.7"
  }
 },
 "nbformat": 4,
 "nbformat_minor": 5
}
