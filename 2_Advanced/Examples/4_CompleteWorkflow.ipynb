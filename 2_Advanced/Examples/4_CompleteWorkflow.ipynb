{
 "cells": [
  {
   "cell_type": "markdown",
   "id": "cea2898a-23c3-4e19-8e36-05bb4261baf2",
   "metadata": {
    "tags": []
   },
   "source": [
    "# Complete Workflow Example"
   ]
  },
  {
   "cell_type": "markdown",
   "id": "5925f100-ba00-428c-816a-077f9dfb6dbf",
   "metadata": {
    "tags": []
   },
   "source": [
    "Overview: \n",
    "\n",
    "1. Create a *Project*\n",
    "2. Create a *Collection*\n",
    "3. Create an *Object*\n",
    "4. Edit *Object Properties*\n",
    "5. Set Parent-Child Relationships between *Objects*\n",
    "6. Create a *Dataset*\n",
    "7. Search for and filter *Objects*"
   ]
  },
  {
   "cell_type": "markdown",
   "id": "1ff27046-0701-4875-84dd-c84081f7e74a",
   "metadata": {
    "tags": []
   },
   "source": [
    "## Create *Project*"
   ]
  },
  {
   "cell_type": "code",
   "execution_count": null,
   "id": "d9e01dc1-273c-4c47-900c-a8dab258aac8",
   "metadata": {
    "tags": []
   },
   "outputs": [],
   "source": [
    "project = o.new_project(\n",
    "    code = 'DS_TRAINING',\n",
    "    space = 'CMADARIA',\n",
    ")\n",
    "project.save()"
   ]
  },
  {
   "cell_type": "markdown",
   "id": "59bf826b-4c54-44c3-89cd-83d7b846d26d",
   "metadata": {
    "tags": []
   },
   "source": [
    "## Create *Collection*"
   ]
  },
  {
   "cell_type": "code",
   "execution_count": null,
   "id": "f1097608-4a47-4245-a8c5-38dd50efb388",
   "metadata": {
    "tags": []
   },
   "outputs": [],
   "source": [
    "collection = o.new_collection(\n",
    "    code = 'DS_TRAINING_COLLECTION',\n",
    "    type = 'DEFAULT_EXPERIMENT',\n",
    "    project = project\n",
    ")\n",
    "collection.save()"
   ]
  },
  {
   "cell_type": "markdown",
   "id": "5fde6cce-bc32-4a85-8da5-f2735a70c644",
   "metadata": {
    "tags": []
   },
   "source": [
    "## Create *Object* in *Collection*"
   ]
  },
  {
   "cell_type": "code",
   "execution_count": null,
   "id": "928eb507-fef1-40bc-bdf0-0070ea35aca9",
   "metadata": {
    "tags": []
   },
   "outputs": [],
   "source": [
    "object = o.new_object(\n",
    "    type = 'EXPERIMENTAL_STEP',\n",
    "    space = 'CMADARIA',\n",
    "    project = project,\n",
    "    collection = collection,\n",
    ")\n",
    "object.save()"
   ]
  },
  {
   "cell_type": "markdown",
   "id": "7491cd31-dec8-405d-8f34-f0aa13f5b89d",
   "metadata": {
    "tags": []
   },
   "source": [
    "## Edit *Object Properties*"
   ]
  },
  {
   "cell_type": "code",
   "execution_count": null,
   "id": "4c055966-9679-434b-8291-77de501cca8a",
   "metadata": {
    "tags": []
   },
   "outputs": [],
   "source": [
    "object.props = {\n",
    "    \"$name\": \"MODIFY OBJECT\",\n",
    "    \"finished_flag\": False,\n",
    "    \"experimental_step.experimental_goals\": \"Modify an object\"\n",
    "}\n",
    "\n",
    "object.props['experimental_step.experimental_description'] = 'Describing the steps'\n",
    "\n",
    "object.props['reference'] = 'BAM Magazine'"
   ]
  },
  {
   "cell_type": "markdown",
   "id": "7429fb47-75c6-4dd4-a990-1784bfe7dc5c",
   "metadata": {
    "tags": []
   },
   "source": [
    "## Set *Parent-Child* Relationship"
   ]
  },
  {
   "cell_type": "code",
   "execution_count": null,
   "id": "2bc4d438-73d8-4217-a238-5b9e81cfb107",
   "metadata": {
    "tags": []
   },
   "outputs": [],
   "source": [
    "parent = o.new_object(\n",
    "    type = 'EXPERIMENTAL_STEP',\n",
    "    space = 'CMADARIA',\n",
    "    project = project,\n",
    "    collection = collection,\n",
    ")\n",
    "parent.props['$name'] = \"CREATE OBJECT\"\n",
    "parent.save()"
   ]
  },
  {
   "cell_type": "code",
   "execution_count": null,
   "id": "2c1cfc94-c7bc-40bd-a33f-2a666c1dbf33",
   "metadata": {},
   "outputs": [],
   "source": [
    "child = o.new_object(\n",
    "    type = 'EXPERIMENTAL_STEP',\n",
    "    space = 'CMADARIA',\n",
    "    project = project,\n",
    "    collection = collection,\n",
    ")\n",
    "child.props['$name'] = \"DELETE OBJECT\"\n",
    "child.save()"
   ]
  },
  {
   "cell_type": "code",
   "execution_count": null,
   "id": "c7f86d72-399e-4b30-a720-00698d9525b5",
   "metadata": {},
   "outputs": [],
   "source": [
    "object.parents = parent\n",
    "object.children = child\n",
    "object.save()"
   ]
  },
  {
   "cell_type": "markdown",
   "id": "b3774094-640f-4ef3-aca7-04c4c1ba6806",
   "metadata": {
    "tags": []
   },
   "source": [
    "## Create and Update *Dataset*"
   ]
  },
  {
   "cell_type": "code",
   "execution_count": null,
   "id": "a3faaafe-f717-48f6-90c4-b2fcc65d28ec",
   "metadata": {
    "tags": []
   },
   "outputs": [],
   "source": [
    "ds = o.new_dataset(\n",
    "    type = 'RAW_DATA',\n",
    "    collection = collection,\n",
    "    object = object,\n",
    "    files = ['pybis_workshop.ipynb']\n",
    ")\n",
    "ds.save()"
   ]
  },
  {
   "cell_type": "code",
   "execution_count": null,
   "id": "8c19637b-e5e2-47b1-96df-3153c29e8ac1",
   "metadata": {},
   "outputs": [],
   "source": [
    "ds.add_attachment('filetest.txt')\n",
    "ds.save()"
   ]
  },
  {
   "cell_type": "code",
   "execution_count": null,
   "id": "12733354-3c37-496f-8636-6bfca4600ac8",
   "metadata": {},
   "outputs": [],
   "source": [
    "ds.get_files()"
   ]
  },
  {
   "cell_type": "code",
   "execution_count": null,
   "id": "a8a3af1c-ef62-4b60-9643-b0985cd3733a",
   "metadata": {},
   "outputs": [],
   "source": [
    "ds.download()"
   ]
  },
  {
   "cell_type": "markdown",
   "id": "758aa16d-3d46-4d37-bd4c-f43f73617134",
   "metadata": {
    "tags": []
   },
   "source": [
    "## Search / Filter *Objects*"
   ]
  },
  {
   "cell_type": "code",
   "execution_count": null,
   "id": "ac9c005b-de7b-4b7e-b9d3-e5e1ce7be489",
   "metadata": {
    "tags": []
   },
   "outputs": [],
   "source": [
    "o.get_objects()"
   ]
  },
  {
   "cell_type": "code",
   "execution_count": null,
   "id": "db6127d6-8834-459a-b24f-3a358ae2b831",
   "metadata": {},
   "outputs": [],
   "source": [
    "o.get_object(\"/CMADARIA/DS_TRAINING/EXP114\")"
   ]
  },
  {
   "cell_type": "code",
   "execution_count": null,
   "id": "d8cf7f5b-d259-43fb-88a1-58c4f3768bb4",
   "metadata": {},
   "outputs": [],
   "source": [
    "o.get_datasets()"
   ]
  },
  {
   "cell_type": "code",
   "execution_count": null,
   "id": "29c7f85c-620e-4bd5-9386-4fc8515bea5a",
   "metadata": {},
   "outputs": [],
   "source": [
    "o.get_dataset(\"20230725120205633-226\")"
   ]
  },
  {
   "cell_type": "code",
   "execution_count": null,
   "id": "e72e4f41-3bf4-4c6f-b35c-b75959ed3184",
   "metadata": {},
   "outputs": [],
   "source": [
    "o.get_objects(count=3)"
   ]
  },
  {
   "cell_type": "code",
   "execution_count": null,
   "id": "f205f6b4-2562-4742-9f94-dcaa3c3ab0dc",
   "metadata": {},
   "outputs": [],
   "source": [
    "o.get_objects(count=3, start_with=2)"
   ]
  },
  {
   "cell_type": "code",
   "execution_count": null,
   "id": "e563ef49-366c-48c4-8a1f-1f0386d50925",
   "metadata": {},
   "outputs": [],
   "source": [
    "o.get_objects(type=\"EXPERIMENTAL_STEP\")"
   ]
  },
  {
   "cell_type": "code",
   "execution_count": null,
   "id": "5eb9e558-3445-4d25-b52e-15b7e065e1aa",
   "metadata": {},
   "outputs": [],
   "source": [
    "objects = o.get_objects()\n",
    "objects.totalCount"
   ]
  },
  {
   "cell_type": "code",
   "execution_count": null,
   "id": "c00391fd-14ea-4f50-8d25-6a6bb80505ab",
   "metadata": {},
   "outputs": [],
   "source": [
    "o.get_objects(space='CMADARIA', parents='/CMADARIA/DS_TRAINING/EXP115', attrs=['parents'])"
   ]
  },
  {
   "cell_type": "code",
   "execution_count": null,
   "id": "8c3e8e1e-5f0c-4422-8dad-9663cce5f2d8",
   "metadata": {},
   "outputs": [],
   "source": [
    "o.get_objects(where={'$name':'* OBJECT'}, props=['$name'])"
   ]
  },
  {
   "cell_type": "code",
   "execution_count": null,
   "id": "5aca1d3e-1de3-4b85-ad7f-2eaf6655080d",
   "metadata": {},
   "outputs": [],
   "source": [
    "o.get_objects(registrationdate='>2023-07-21')"
   ]
  }
 ],
 "metadata": {
  "kernelspec": {
   "display_name": "Python 3 (ipykernel)",
   "language": "python",
   "name": "python3"
  },
  "language_info": {
   "codemirror_mode": {
    "name": "ipython",
    "version": 3
   },
   "file_extension": ".py",
   "mimetype": "text/x-python",
   "name": "python",
   "nbconvert_exporter": "python",
   "pygments_lexer": "ipython3",
   "version": "3.11.7"
  }
 },
 "nbformat": 4,
 "nbformat_minor": 5
}
