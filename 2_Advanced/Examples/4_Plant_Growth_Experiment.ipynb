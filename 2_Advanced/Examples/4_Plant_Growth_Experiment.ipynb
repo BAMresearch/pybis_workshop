{
 "cells": [
  {
   "cell_type": "markdown",
   "id": "2b84f4ec",
   "metadata": {},
   "source": [
    "# Real World Example: Plant Growth Experiment"
   ]
  },
  {
   "cell_type": "markdown",
   "id": "3d017967",
   "metadata": {},
   "source": [
    "## Scenario: Studying the Effects of Fertilizers\n",
    "In this experiment, researchers are evaluating the impact of three different fertilizers on plant growth under controlled conditions. Weekly measurements of plant height are recorded for three groups of plants, each receiving a different fertilizer. The workflow includes:\n",
    "- Uploading the collected data to openBIS.\n",
    "- Analyzing the growth trends to determine the best-performing fertilizer.\n",
    "- Archiving the data and updating metadata for future reference.\n",
    "\n",
    "This example demonstrates how pyBIS can streamline data management and analysis for scientific experiments."
   ]
  },
  {
   "cell_type": "markdown",
   "id": "6f76b649",
   "metadata": {},
   "source": [
    "## Part 1: Data Creation"
   ]
  },
  {
   "cell_type": "markdown",
   "id": "ffd2218a",
   "metadata": {},
   "source": [
    "### Connecting to openBIS\n",
    "First, establish a connection to your openBIS instance."
   ]
  },
  {
   "cell_type": "code",
   "execution_count": null,
   "id": "a59ff5e1",
   "metadata": {},
   "outputs": [],
   "source": [
    "from pybis import Openbis\n",
    "o = Openbis('https://schulung.datastore.bam.de')\n",
    "o.login('username', 'password')"
   ]
  },
  {
   "cell_type": "markdown",
   "id": "923a8083",
   "metadata": {},
   "source": [
    "### Creating a New Experiment\n",
    "Define the space, project, and experiment for this study. If they don't already exist, create them."
   ]
  },
  {
   "cell_type": "code",
   "execution_count": null,
   "id": "6badf7d3",
   "metadata": {},
   "outputs": [],
   "source": [
    "SPACE='PLANT_STUDY'\n",
    "PROJECT='FERTILIZER_IMPACT'\n",
    "EXPERIMENT='GROWTH_ANALYSIS'\n",
    "\n",
    "try:\n",
    "    space = o.get_space(SPACE)\n",
    "except:\n",
    "    space = o.new_space(SPACE, 'Plant Growth Studies')\n",
    "\n",
    "try:\n",
    "    project = space.get_project(PROJECT)\n",
    "except:\n",
    "    project = space.new_project(PROJECT, 'Impact of Fertilizers on Growth')\n",
    "\n",
    "try:\n",
    "    experiment = project.get_collection(EXPERIMENT)\n",
    "except:\n",
    "    experiment = project.new_collection(EXPERIMENT, 'Weekly Growth Measurements')"
   ]
  },
  {
   "cell_type": "markdown",
   "id": "74b8ae80",
   "metadata": {},
   "source": [
    "### Uploading Weekly Growth Data\n",
    "Each week's measurements are saved in CSV format and uploaded as a dataset. For this example, we use the `plant_growth_data.csv` file as our source data."
   ]
  },
  {
   "cell_type": "code",
   "execution_count": null,
   "id": "96050afe",
   "metadata": {},
   "outputs": [],
   "source": [
    "dataset = experiment.new_dataset(type='RAW_DATA', files=['plant_growth_data.csv'])"
   ]
  },
  {
   "cell_type": "markdown",
   "id": "650479ad",
   "metadata": {},
   "source": [
    "## Part 2: Data Analysis"
   ]
  },
  {
   "cell_type": "markdown",
   "id": "150b3dd4",
   "metadata": {},
   "source": [
    "### Fetching Data for Analysis\n",
    "Retrieve datasets associated with the experiment for processing."
   ]
  },
  {
   "cell_type": "code",
   "execution_count": null,
   "id": "8c17db29",
   "metadata": {},
   "outputs": [],
   "source": [
    "datasets = experiment.get_datasets()\n",
    "raw_data = [ds for ds in datasets if ds.type == 'RAW_DATA']\n",
    "print(f'{len(raw_data)} raw datasets found.')"
   ]
  },
  {
   "cell_type": "markdown",
   "id": "2430b244",
   "metadata": {},
   "source": [
    "### Analyzing Growth Trends\n",
    "Using the weekly measurements, calculate average growth per week for each fertilizer group and visualize the results."
   ]
  },
  {
   "cell_type": "code",
   "execution_count": null,
   "id": "8b62deae",
   "metadata": {},
   "outputs": [],
   "source": [
    "import pandas as pd\n",
    "import matplotlib.pyplot as plt\n",
    "\n",
    "# Load the dataset\n",
    "data = pd.read_csv('plant_growth_data.csv')\n",
    "fertilizers = data['Fertilizer'].unique()\n",
    "\n",
    "# Calculate average growth\n",
    "growth_summary = data.groupby('Fertilizer')['Height'].mean()\n",
    "growth_summary.plot(kind='bar', title='Average Growth by Fertilizer')\n",
    "plt.ylabel('Average Height (cm)')\n",
    "plt.savefig('growth_summary.png')"
   ]
  },
  {
   "cell_type": "markdown",
   "id": "5a0dadca",
   "metadata": {},
   "source": [
    "### Uploading Analysis Results\n",
    "Save the summary and visualization back to openBIS."
   ]
  },
  {
   "cell_type": "code",
   "execution_count": null,
   "id": "d612b1ff",
   "metadata": {},
   "outputs": [],
   "source": [
    "analysis_dataset = experiment.new_dataset(type='ANALYZED_DATA', files=['growth_summary.png'])"
   ]
  },
  {
   "cell_type": "markdown",
   "id": "e624f495",
   "metadata": {},
   "source": [
    "## Part 3: Maintenance"
   ]
  },
  {
   "cell_type": "markdown",
   "id": "6df012b4",
   "metadata": {},
   "source": [
    "### Archiving Raw Data\n",
    "To ensure long-term availability, archive the raw datasets locally."
   ]
  },
  {
   "cell_type": "code",
   "execution_count": null,
   "id": "2adc50ce",
   "metadata": {},
   "outputs": [],
   "source": [
    "import os\n",
    "\n",
    "archive_dir = './archive'\n",
    "os.makedirs(archive_dir, exist_ok=True)\n",
    "\n",
    "for ds in raw_data:\n",
    "    ds.download(destination=archive_dir)"
   ]
  },
  {
   "cell_type": "markdown",
   "id": "75af8d67",
   "metadata": {},
   "source": [
    "### Updating Metadata with Key Insights\n",
    "After analysis, update the experiment metadata to include a summary of findings."
   ]
  },
  {
   "cell_type": "code",
   "execution_count": null,
   "id": "710b1af0",
   "metadata": {},
   "outputs": [],
   "source": [
    "experiment.props['Summary'] = 'Fertilizer B showed the highest average growth across all weeks.'\n",
    "experiment.save()"
   ]
  },
  {
   "cell_type": "markdown",
   "id": "d2920174",
   "metadata": {},
   "source": [
    "## Conclusion\n",
    "This example demonstrates how pyBIS can streamline the management of experimental data through:\n",
    "- Efficient data upload and storage.\n",
    "- Integrated analysis and visualization workflows.\n",
    "- Archival and metadata updates for future reference.\n",
    "\n",
    "By automating these steps, researchers can focus more on insights and less on data handling."
   ]
  },
  {
   "cell_type": "markdown",
   "id": "924b1793",
   "metadata": {},
   "source": [
    "### Logout"
   ]
  },
  {
   "cell_type": "code",
   "execution_count": null,
   "id": "e6689d19",
   "metadata": {},
   "outputs": [],
   "source": [
    "o.logout()"
   ]
  }
 ],
 "metadata": {
  "kernelspec": {
   "display_name": "Python 3 (ipykernel)",
   "language": "python",
   "name": "python3"
  },
  "language_info": {
   "codemirror_mode": {
    "name": "ipython",
    "version": 3
   },
   "file_extension": ".py",
   "mimetype": "text/x-python",
   "name": "python",
   "nbconvert_exporter": "python",
   "pygments_lexer": "ipython3",
   "version": "3.10.9"
  }
 },
 "nbformat": 4,
 "nbformat_minor": 5
}
