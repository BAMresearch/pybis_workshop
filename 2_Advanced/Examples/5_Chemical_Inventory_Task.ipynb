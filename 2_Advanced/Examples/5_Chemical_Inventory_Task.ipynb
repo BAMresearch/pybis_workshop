{
 "cells": [
  {
   "cell_type": "markdown",
   "id": "5037e8c6",
   "metadata": {},
   "source": [
    "# Advanced Task: Chemical Inventory Management"
   ]
  },
  {
   "cell_type": "markdown",
   "id": "f5f5d5dc",
   "metadata": {},
   "source": [
    "## Scenario\n",
    "You are tasked with managing a laboratory's chemical inventory stored in openBIS. Your goal is to:\n",
    "1. Fetch a list of all chemicals stored in openBIS, including their properties (e.g., name, hazardous status, expiration date).\n",
    "2. Identify and archive expired chemicals (move their data to a separate collection or add an 'archived' status).\n",
    "3. Update metadata for chemicals flagged as 'hazardous' with a warning message.\n",
    "4. Create a summary report of the current chemical inventory (count of chemicals per category, e.g., hazardous vs. non-hazardous).\n",
    "5. Visualize the distribution of chemicals based on their properties.\n",
    "\n",
    "### Dataset\n",
    "The dataset `chemical_inventory.csv` contains the following fields:\n",
    "- **Name**: The name of the chemical.\n",
    "- **ExpirationDate**: Expiration date of the chemical.\n",
    "- **Hazardous**: Whether the chemical is hazardous (True/False).\n",
    "- **Description**: A brief description of the chemical.\n",
    "\n",
    "Download the dataset here: [chemical_inventory.csv](sandbox:/mnt/data/chemical_inventory.csv)."
   ]
  },
  {
   "cell_type": "markdown",
   "id": "071227ae",
   "metadata": {},
   "source": [
    "## Instructions\n",
    "1. Use `pyBIS` to connect to the openBIS instance.\n",
    "2. Fetch the list of chemicals from openBIS.\n",
    "3. Identify and update:\n",
    "   - Expired chemicals (archive them).\n",
    "   - Hazardous chemicals (add a warning message to their metadata).\n",
    "4. Generate a summary report using `pandas` and save it as `chemical_inventory_summary.csv`.\n",
    "5. Visualize the distribution of chemicals based on their properties and save it as `chemical_distribution.png`.\n",
    "6. Logout from openBIS at the end.\n",
    "\n",
    "Good luck!"
   ]
  },
  {
   "cell_type": "code",
   "execution_count": null,
   "id": "63158cac",
   "metadata": {},
   "outputs": [],
   "source": [
    "# Step 0: Connect to openBIS\n",
    "from pybis import Openbis\n",
    "\n",
    "# Replace with your credentials\n",
    "o = Openbis('https://schulung.datastore.bam.de')\n",
    "o.login('username', 'password')"
   ]
  },
  {
   "cell_type": "code",
   "execution_count": null,
   "id": "cfbc20da-c023-477e-94c8-7252e3543d3e",
   "metadata": {},
   "outputs": [],
   "source": [
    "# Step 1: Create example chemicals in instance\n",
    "# Space, project, and collection for the chemicals\n",
    "SPACE = 'YOUR_SPACE'\n",
    "PROJECT = 'CHEMICALS_MANAGEMENT'\n",
    "COLLECTION = 'CHEMICALS'\n",
    "\n",
    "# Ensure space, project, and collection exist\n",
    "space = o.get_space(SPACE) or o.new_space(SPACE, 'Laboratory Inventory Space')\n",
    "project = space.get_project(PROJECT) or space.new_project(PROJECT, 'Chemicals Management Project')\n",
    "collection = project.get_collection(COLLECTION) or project.new_collection(COLLECTION, 'Chemicals Collection')\n",
    "\n",
    "# Populate chemicals\n",
    "import pandas as pd\n",
    "chemicals = pd.read_csv('chemical_inventory.csv')\n",
    "\n",
    "for _, row in chemicals.iterrows():\n",
    "    chemical = collection.new_object(row['Name'], 'CHEMICAL')\n",
    "    chemical.props['$name'] = row['Name']\n",
    "    chemical.props['date_expiration'] = row['ExpirationDate']\n",
    "    chemical.props['hazardous_substance'] = row['Hazardous']\n",
    "    chemical.props['description'] = row['Description']\n",
    "    chemical.save()\n",
    "\n",
    "print('Chemicals added successfully.')"
   ]
  },
  {
   "cell_type": "code",
   "execution_count": null,
   "id": "c236eeab",
   "metadata": {},
   "outputs": [],
   "source": [
    "# Step 2: Fetch chemical inventory from openBIS\n",
    "# Hints:\n",
    "# - Use o.get_objects() to fetch objects of type 'CHEMICAL'.\n",
    "# - Include properties like '$name', 'date_expiration', and 'hazardous_substance'.\n",
    "\n",
    "# Your code here"
   ]
  },
  {
   "cell_type": "code",
   "execution_count": null,
   "id": "7bff3aaf",
   "metadata": {},
   "outputs": [],
   "source": [
    "# Step 3: Identify expired chemicals and archive them\n",
    "# Hints:\n",
    "# - Filter chemicals based on their expiration date.\n",
    "# - Archive by updating metadata or moving to a new collection.\n",
    "\n",
    "# Your code here"
   ]
  },
  {
   "cell_type": "code",
   "execution_count": null,
   "id": "e92b2de5",
   "metadata": {},
   "outputs": [],
   "source": [
    "# Step 4: Update metadata for hazardous chemicals\n",
    "# Hints:\n",
    "# - Add a warning message to the 'Description' or a custom property.\n",
    "\n",
    "# Your code here"
   ]
  },
  {
   "cell_type": "code",
   "execution_count": null,
   "id": "f68e24ba",
   "metadata": {},
   "outputs": [],
   "source": [
    "# Step 5: Generate a summary report\n",
    "# Hints:\n",
    "# - Use pandas to count chemicals by category.\n",
    "# - Save the report as 'chemical_inventory_summary.csv'.\n",
    "\n",
    "# Your code here"
   ]
  },
  {
   "cell_type": "code",
   "execution_count": null,
   "id": "43995043",
   "metadata": {},
   "outputs": [],
   "source": [
    "# Step 6: Visualize chemical distribution\n",
    "# Hints:\n",
    "# - Use matplotlib or plotly to create a pie chart or bar graph.\n",
    "# - Save the visualization as 'chemical_distribution.png'.\n",
    "\n",
    "# Your code here"
   ]
  },
  {
   "cell_type": "code",
   "execution_count": null,
   "id": "96788b8e",
   "metadata": {},
   "outputs": [],
   "source": [
    "# Step 7: Logout from openBIS\n",
    "o.logout()"
   ]
  }
 ],
 "metadata": {
  "kernelspec": {
   "display_name": "Python 3 (ipykernel)",
   "language": "python",
   "name": "python3"
  },
  "language_info": {
   "codemirror_mode": {
    "name": "ipython",
    "version": 3
   },
   "file_extension": ".py",
   "mimetype": "text/x-python",
   "name": "python",
   "nbconvert_exporter": "python",
   "pygments_lexer": "ipython3",
   "version": "3.10.9"
  }
 },
 "nbformat": 4,
 "nbformat_minor": 5
}
