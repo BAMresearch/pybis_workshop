{
 "cells": [
  {
   "cell_type": "markdown",
   "id": "5f64fa55-87dc-4565-b964-867b6f4e03c6",
   "metadata": {
    "tags": []
   },
   "source": [
    "# pyBIS - Getting Started"
   ]
  },
  {
   "cell_type": "markdown",
   "id": "607752a5-2a5b-4eaf-9a5a-44a6081f503e",
   "metadata": {},
   "source": [
    "*Carlos Madariaga*\n",
    "\n",
    "*Jörg Rädler*\n",
    "\n",
    "February 2024"
   ]
  },
  {
   "cell_type": "markdown",
   "id": "7720ede3-0eb7-45d9-97e4-07e1ebb72a1b",
   "metadata": {
    "tags": []
   },
   "source": [
    "## Intro"
   ]
  },
  {
   "cell_type": "markdown",
   "id": "5b502931-43c3-413a-9fbd-3d6e1a41a79d",
   "metadata": {
    "tags": []
   },
   "source": [
    "This tutorial is about accessing and interacting with openBIS from Python scripts via pyBIS. It focuses on the project [BAM Data Store](https://datastore.bam.de/) and is intended to train BAM employees in automating tasks in openBIS via scripts.\n",
    "pyBIS is a Python module for interacting with openBIS. pyBIS is designed to be most useful in a Jupyter Notebook or IPython environment, especially if you are developing Python scripts for automatisation. Jupyter Notebooks offer some sort of IDE for openBIS, supporting TAB completition and immediate data checks, making the life of a researcher hopefully easier.\n",
    "\n",
    "#### IMPORTANT: Requirements to follow this workshop:\n",
    "\n",
    "* You have already completed the onboarding to openBIS (or you have a username and password to access openBIS).\n",
    "* You have a basic knowledge of the openBIS platform.m.\n",
    "\n",
    "### Documentation \n",
    "\n",
    "#### openBIS\n",
    "\n",
    "* openBIS: https://www.openbis.ch\n",
    "* pyBIS: https://pypi.org/project/PyBIS/\n",
    "* Jupyter: https://jupyter.org/\n",
    "\n",
    "You need:\n",
    "* an openBIS server to work with (we use https://schulung.datastore.bam.de in this tutorial),\n",
    "* an account (username and password) on this server (try log into the ELN first).\n",
    "* Python3 with Jupyter - if you are running this notebook you probably have it installed already,\n",
    "* pyBIS package - otherwise you get an `ModuleNotFoundError`when importing the module (install with `pip install pybis` on your command line).\n",
    "\n",
    "### Warning\n",
    "\n",
    "**With pyBIS you can do almost everything you can do in the ELN-LIMS User Interface (UI) - but much faster and without manual clicking! It is very easy to automate things, even errors. In the ELN, you would never create 1000 experimental steps by accident with one action, using pyBIS this is possible! Be warned and be careful!**\n",
    "\n",
    "The following three lines will print the numbers from 0 to 999 and then create **ONE** experimental step:\n",
    "```\n",
    "for i in range(1000):\n",
    "    print(i)\n",
    "o.new_object(type='EXPERIMENTAL_STEP', collection='/FOO/BAR/BAZ').save()\n",
    "```\n",
    "\n",
    "A small change in indentation will instead print the numbers from 0 to 999 while creating **ONE THOUSAND** experimental steps within seconds:\n",
    "```\n",
    "for i in range(1000):\n",
    "    print(i)\n",
    "    o.new_object(type='EXPERIMENTAL_STEP', collection='/FOO/BAR/BAZ').save()\n",
    "```\n"
   ]
  },
  {
   "cell_type": "markdown",
   "id": "42935ec6-bc24-4978-b258-ab0fe17e35cb",
   "metadata": {
    "tags": []
   },
   "source": [
    "## Initial Setup"
   ]
  },
  {
   "cell_type": "markdown",
   "id": "9c4dae98-9668-4c39-ab16-97a184b4647a",
   "metadata": {
    "jp-MarkdownHeadingCollapsed": true,
    "tags": []
   },
   "source": [
    "### Installing pyBIS and Jupyter\n",
    "This part from the presentation is skipped. If you can read this you will already have Python and Jupyter up and running"
   ]
  },
  {
   "cell_type": "markdown",
   "id": "2794c44a-f6b2-4004-921e-8460be0c46f3",
   "metadata": {
    "tags": []
   },
   "source": [
    "### Connect to an openBIS Instance with user and password"
   ]
  },
  {
   "cell_type": "markdown",
   "id": "ddd1185f-6e28-4c64-8fc0-9a7c399d869f",
   "metadata": {},
   "source": [
    "The first step to start using pyBIS, as we just saw before in this tutorial, is to connect to the instance where we want to work. \n",
    "\n",
    "This first method needs to introduce user and password directly in the code. In this tutorial we are going to use our BAM user names and passwords, since this will be the method for actually accessing openBIS in practice."
   ]
  },
  {
   "cell_type": "code",
   "execution_count": null,
   "id": "f5262e83-e3b5-44fe-b2d4-effbbf1bdfa0",
   "metadata": {
    "tags": []
   },
   "outputs": [],
   "source": [
    "from pybis import Openbis #import openBIS object to work with the instance\n",
    "\n",
    "o = Openbis('https://main.datastore.bam.de/', verify_certificates=False) #create openBIS object: equivalent to open the openBIS instance on the browser\n",
    "o.login('usr', 'psswd', save_token=True)             # usr: your BAM user// psswd: your BAM password. save_token saves the openBIS token to ~/.pybis"
   ]
  },
  {
   "cell_type": "markdown",
   "id": "880e9f33-feb8-4653-8161-a8d00230b1ec",
   "metadata": {},
   "source": [
    "The method above works fine. However, **you should never store these credentials in a source code file!** Here we use the `getpass` module to request the password interactively from the user. This works in python scripts as well as in jupyter notebooks.\n",
    "On successfull login a session token is generated and stored."
   ]
  },
  {
   "cell_type": "code",
   "execution_count": null,
   "id": "0041fd5d-9685-427e-a29a-64b6a727944c",
   "metadata": {},
   "outputs": [],
   "source": [
    "import getpass             # module to prompt for a password\n",
    "from pybis import Openbis\n",
    "\n",
    "o = Openbis('https://main.datastore.bam.de/', verify_certificates=False)\n",
    "o.login('cmadaria', getpass.getpass(), save_token=True)  # get the password (hidden) and save_token saves the openBIS token to ~/.pybis"
   ]
  },
  {
   "cell_type": "markdown",
   "id": "ff2f4a53-6ad3-49b0-a611-3e53308fdc13",
   "metadata": {
    "tags": []
   },
   "source": [
    "### Alternative: Personal Access Tokens (PATs)"
   ]
  },
  {
   "cell_type": "markdown",
   "id": "edd68852-0f04-444e-a807-fd73e2d75e3e",
   "metadata": {},
   "source": [
    "Openbis introduced **Personal Access Tokens (PAT)** to enable long-lasting sessions. It is extremely useful for automation. The method is the same, but adding the last instruction after the login to save the PAT."
   ]
  },
  {
   "cell_type": "code",
   "execution_count": null,
   "id": "a5899dc8-55b3-4c82-aa61-daff84a525c8",
   "metadata": {
    "tags": []
   },
   "outputs": [],
   "source": [
    "import getpass\n",
    "from pybis import Openbis\n",
    "\n",
    "# to generate PAT you need to login normally\n",
    "o = Openbis(url='https://main.datastore.bam.de/', verify_certificates=False)\n",
    "o.login('cmadaria', getpass.getpass(), save_token=True)  # save_token saves the openBIS token to ~/.pybis\n",
    "\n",
    "pat = o.get_or_create_personal_access_token('test-session') #create the PAT with the given name\n",
    "pat #show the pat"
   ]
  },
  {
   "cell_type": "markdown",
   "id": "ce1d7fb3-69a1-4662-b847-3726b48128b1",
   "metadata": {},
   "source": [
    "This will prompt all the information about the PAT, including the *PAT permId*, which will be the code that will be using to login into the openBIS instance without introducing user and password. \n",
    "\n",
    "Here we can see an example of how this connection will be made using the already saved PAT."
   ]
  },
  {
   "cell_type": "code",
   "execution_count": null,
   "id": "6962c2ef-8512-4cc6-8b33-157ed101ba66",
   "metadata": {
    "tags": []
   },
   "outputs": [],
   "source": [
    "from pybis import Openbis\n",
    "\n",
    "o = Openbis(url='https://main.datastore.bam.de/', token=pat.permId, verify_certificates=False) # here we specify the token to avoid using username and password\n",
    "o.is_session_active() # check if the openBIS session is active"
   ]
  },
  {
   "cell_type": "markdown",
   "id": "671352ac-d958-48fd-b5c7-326e291d589b",
   "metadata": {
    "tags": []
   },
   "source": [
    "### Optional: check the pyBIS version"
   ]
  },
  {
   "cell_type": "markdown",
   "id": "171bbf3f-2ab4-4676-9da3-d8bc2fa22684",
   "metadata": {
    "jp-MarkdownHeadingCollapsed": true,
    "tags": []
   },
   "source": [
    "You may print the version of pyBIS and compare with https://pypi.org/project/PyBIS/. If you need to update you may use `pip install --upgrade pybis` on you command line."
   ]
  },
  {
   "cell_type": "code",
   "execution_count": null,
   "id": "da827175-4173-4e6a-bb8c-7fa9a058fab0",
   "metadata": {
    "tags": []
   },
   "outputs": [],
   "source": [
    "import pybis\n",
    "print(pybis.__version__) #check pyBIS version, so we can check that it is correctly installed"
   ]
  },
  {
   "cell_type": "code",
   "execution_count": null,
   "id": "4e468cd5-6eaa-43d9-a640-400808820d54",
   "metadata": {
    "tags": []
   },
   "outputs": [],
   "source": [
    "o.get_server_information().openbis_version #same with openBIs version on the instance"
   ]
  },
  {
   "cell_type": "markdown",
   "id": "396cf990-869c-4130-9770-b2da5ea41551",
   "metadata": {
    "tags": []
   },
   "source": [
    "## Masterdata"
   ]
  },
  {
   "cell_type": "markdown",
   "id": "3815ba27-f710-4d4c-9a67-08550dd46e0e",
   "metadata": {},
   "source": [
    "#### **In this image we can see the structure of the masterdata in openBIS. As you can see, the data is dividided in \"boxes\" that contain other boxes. you can imagine this structure as folders, and the last type, the *DataSet*, contains the real files. These are the different entities which we are going to work with:**"
   ]
  },
  {
   "cell_type": "markdown",
   "id": "852a78b9-da46-4e87-96b5-b5cfe4d7a1a7",
   "metadata": {
    "tags": []
   },
   "source": [
    "**SPACE - PROJECT - COLLECTION - OBJECT - DATASET**"
   ]
  },
  {
   "attachments": {
    "c06b267f-f631-423b-8c39-16a8d786c695.png": {
     "image/png": "[encoded data removed]"
    }
   },
   "cell_type": "markdown",
   "id": "c66c9fa8-88bc-4dfe-afbf-d00d9dcbc0b8",
   "metadata": {},
   "source": [
    "![image.png](attachment:c06b267f-f631-423b-8c39-16a8d786c695.png)"
   ]
  },
  {
   "cell_type": "markdown",
   "id": "8f05669e-ceb8-4556-b4c9-2c41f388d14e",
   "metadata": {
    "tags": []
   },
   "source": [
    "## How to create, edit and access entities via pyBIS"
   ]
  },
  {
   "cell_type": "markdown",
   "id": "0da1e24d-42a3-42d9-8bd3-b80d6a5f92aa",
   "metadata": {},
   "source": [
    "#### **Now we are going to explain the workflow that we will follow on this tutorial. Then, after each topic represented in the following schema, we will have a small task about it. The solution is hidden under the code. Check it if you do not know how to proceed or if you need some hints about the exercise**\n",
    "\n",
    "**In the tutorial we are going to simulate the creation of a experiment, with different experimental steps and data for each one. At the end, we will work on a real-life example, to practice everything learnt.**"
   ]
  },
  {
   "attachments": {
    "c021375d-9ef7-4d9d-a915-d398d0e54090.png": {
     "image/png": "[encoded data removed]"
    }
   },
   "cell_type": "markdown",
   "id": "e9e83d7e-77d1-42ff-bdfd-c6ebc4566249",
   "metadata": {
    "tags": []
   },
   "source": [
    "![image.png](attachment:c021375d-9ef7-4d9d-a915-d398d0e54090.png)"
   ]
  },
  {
   "cell_type": "markdown",
   "id": "2d199216-4f0c-4137-80a8-e1d857c47751",
   "metadata": {
    "tags": []
   },
   "source": [
    "**We will start by creating a *Project* in our *Space*, then a *Collection*, and then we will create *Objects* in that *Collection*. Later, we will learn how to edit the *Properties* for the *Objects*, and also how to set *Parent/Child* relationships to them. Then we will explore the *Datasets*, how to create and delete them, and how to upload and download files. Also, we Will learn how to upload our jupyter notebook to openBIS using a *DataSet*. Finally, we will check the different methods to *Search and Filter* for *Objects* and other entities. Aditionally, we will explore some extra functions, a bit more advance, that will help us in some ocassions using pyBIS, like *Transactions* or *Dataframes*.**\n"
   ]
  },
  {
   "cell_type": "markdown",
   "id": "0f5f20ca-ae3a-4609-ade1-805003a175fd",
   "metadata": {
    "tags": []
   },
   "source": [
    "*HINT*: *If you want to know the methods that you can use of an *Object*, you can use the function* **dir()**; *for example: dir(o) will print all the methods and functions available for the Openbis object 'o'.*"
   ]
  },
  {
   "cell_type": "markdown",
   "id": "1f037922-8bd8-47d6-a82b-fac0cccf4ad0",
   "metadata": {
    "tags": []
   },
   "source": [
    "### Spaces"
   ]
  },
  {
   "cell_type": "markdown",
   "id": "35dbe746-dcc5-4408-bdcc-338e63609951",
   "metadata": {},
   "source": [
    "The first step into the process will be find our ***Space*** in the system. To do so, we should execute the following function, and check where is our user name.\n",
    "\n",
    "**It is very important that you select your space here. If not, you will be modifying the space and data of other people and colleagues!!**"
   ]
  },
  {
   "cell_type": "raw",
   "id": "8ad70dff-3168-4b41-9a33-69528d8c4de7",
   "metadata": {},
   "source": [
    "o.get_spaces()\n",
    "my_space = o.get_space(\"VP.1_CMADARIA\")"
   ]
  },
  {
   "cell_type": "markdown",
   "id": "2deb1493-9f39-4809-b525-05110aa0f0fd",
   "metadata": {
    "tags": []
   },
   "source": [
    "##### **TASK 0: Get all the available *Spaces* and save yours in a variable \"space\"**."
   ]
  },
  {
   "cell_type": "code",
   "execution_count": null,
   "id": "f6ad42c3-429e-4972-ac0e-a4a896f026da",
   "metadata": {},
   "outputs": [],
   "source": [
    "o.get_spaces()"
   ]
  },
  {
   "cell_type": "code",
   "execution_count": null,
   "id": "328c23e8-6ec8-492b-984d-703dc8887d83",
   "metadata": {},
   "outputs": [],
   "source": [
    "my_space = o.get_space(\"VP.1_CMADARIA\")"
   ]
  },
  {
   "cell_type": "code",
   "execution_count": null,
   "id": "09d92df1-38d9-460a-b0a7-d47d40e488ac",
   "metadata": {},
   "outputs": [],
   "source": [
    "my_space"
   ]
  },
  {
   "cell_type": "markdown",
   "id": "978f92b4-eda9-4f84-a105-d94efa34bc45",
   "metadata": {
    "tags": []
   },
   "source": [
    "### Projects"
   ]
  },
  {
   "cell_type": "markdown",
   "id": "77052ba0-b9e1-4357-b11e-1c0cc9cad2b0",
   "metadata": {},
   "source": [
    "Once this is done, we are going to create our first **Project** in our *Space*. To do so, having already our *Space* code, we need to set a variable (like *project* in our case) and call the function 'new_project()' from the openBIS object 'o' that we created at the beginning. \n",
    "\n",
    "To execute this function, we will need to specify the code for the new *Project* and our *Space* code.\n",
    "\n",
    "Then, execute the function 'project.save()', that will upload the *Project* to the openBIS ELN (before doing so, the new *Project* is just saved in the variable 'project'). The function 'save()' is available for every entity in pyBIS, and allows us to create and load all the entity data in openBIS ELN. "
   ]
  },
  {
   "cell_type": "raw",
   "id": "9087dcf0-27da-4ee1-8373-1b2f2f10fa5a",
   "metadata": {},
   "source": [
    "new_project = o.new_project(\n",
    "    code = 'DS_TRAINING', #the code for the project. Like the name, but unique\n",
    "    space = my_space, # the space that we just previously got\n",
    ")\n",
    "new_project.save()"
   ]
  },
  {
   "cell_type": "markdown",
   "id": "fb6d0f92-2153-4881-a258-682c463e972e",
   "metadata": {
    "tags": []
   },
   "source": [
    "##### **TASK 1: Create a new *Project* in your *Space***."
   ]
  },
  {
   "cell_type": "code",
   "execution_count": null,
   "id": "8015fc6c-3134-4249-9664-498757c60df7",
   "metadata": {},
   "outputs": [],
   "source": [
    "my_project = o.new_project(\n",
    "    code = 'WS_PROJECT',\n",
    "    space = my_space, # The space variable that we save before in 'TASK 0'\n",
    ")\n",
    "my_project.save()"
   ]
  },
  {
   "cell_type": "code",
   "execution_count": null,
   "id": "02820c49-1342-4f17-a99d-40ed54bc108d",
   "metadata": {},
   "outputs": [],
   "source": [
    "my_project"
   ]
  },
  {
   "cell_type": "markdown",
   "id": "85d72bde-7478-4723-8593-cdcb5770f30b",
   "metadata": {
    "tags": []
   },
   "source": [
    "### Collections"
   ]
  },
  {
   "cell_type": "markdown",
   "id": "ae82e672-6d43-4f44-8984-e39e579cf60b",
   "metadata": {},
   "source": [
    "`Please note that *Collections* were previously called *Experiments* in openBIS. Some of the pyBIS functions still use the old terminology; most of the time the terms *Collection* and *Experiment* can be used interchangeably. An example for an *Collection* type that we are going to work with is DEFAULT_EXPERIMENT.`\n",
    "\n",
    "Now that we have the *Project* inside our *Space*, the next step will be creating a **Collection**. For doing so, the first thing is to decide the type that we want for our *Collection*. We will need to execute the function 'o.get_collection_types()', and select the desired type.\n",
    "\n",
    "Then, the creation process is very similar to the one of creating a *Project*. The only difference in this case, is that we need to indicate the *Collection* type and the *Project* where it will be integrated. Finally, as we did before, we save the *Collection* with \"collection.save()\".\n",
    "\n",
    "We should see a table summarizing all the data assigned to our newly created *Collection*."
   ]
  },
  {
   "cell_type": "raw",
   "id": "87c0394f-abf9-4bd9-ba39-a871ddaf668e",
   "metadata": {},
   "source": [
    "new_collection = o.new_collection(\n",
    "    code = 'DS_TRAINING_COLLECTION', # the code for the collection. Like the name, but unique\n",
    "    type = 'DEFAULT_EXPERIMENT', # type for the collection. Should be one of the available types on the type list\n",
    "    project = new_project # this is the project that we previously created, saved in the variable \"new_project\"\n",
    ")\n",
    "new_collection.save()"
   ]
  },
  {
   "cell_type": "markdown",
   "id": "999658b0-951e-46af-94f2-7e8ad2fbf028",
   "metadata": {
    "tags": []
   },
   "source": [
    "##### **TASK 2: Create new *Collection* inside your *Project* and list all *Collections***."
   ]
  },
  {
   "cell_type": "code",
   "execution_count": null,
   "id": "9202a899-dfa3-44a1-826b-2dcfb378f48e",
   "metadata": {},
   "outputs": [],
   "source": [
    "o.get_collection_types()"
   ]
  },
  {
   "cell_type": "code",
   "execution_count": null,
   "id": "a5c43679-9989-49c3-8510-b4fcf9ac83e6",
   "metadata": {},
   "outputs": [],
   "source": [
    "my_collection = o.new_collection(\n",
    "    code = 'WS_COLLECTION',\n",
    "    type = 'COLLECTION',\n",
    "    project = my_project\n",
    ")"
   ]
  },
  {
   "cell_type": "code",
   "execution_count": null,
   "id": "3b59fe86-43dc-4f24-b41b-abf53a7eafd3",
   "metadata": {},
   "outputs": [],
   "source": [
    "my_collection.save()"
   ]
  },
  {
   "cell_type": "code",
   "execution_count": null,
   "id": "b2b9f5a5-5a0f-404e-9847-b9ca47b1cd23",
   "metadata": {},
   "outputs": [],
   "source": [
    "my_collection"
   ]
  },
  {
   "cell_type": "code",
   "execution_count": null,
   "id": "05a78f40-b9de-48b5-8aee-4b883543b150",
   "metadata": {},
   "outputs": [],
   "source": [
    "o.get_collections()"
   ]
  },
  {
   "cell_type": "markdown",
   "id": "c81334d1-83b3-4ed1-84e4-9661db168f4e",
   "metadata": {
    "tags": []
   },
   "source": [
    "### Objects"
   ]
  },
  {
   "cell_type": "markdown",
   "id": "17a6f0ef-b040-4074-9622-ed1f9e8b2bd1",
   "metadata": {},
   "source": [
    "`Please note that *Objects* were previously called *Samples* in openBIS. Some of the pyBIS functions still use the old terminology; most of the time the terms *Object* and *Sample* can be used interchangeably. An example for an *Object* type that we are going to work with is EXPERIMENTAL_STEP.`\n",
    "\n",
    "As with *Collections*, every *Object* belongs to a specific *Object* type. The type defines the *Properties* of the *Object* and checks them accordingly. So first, we need to check the possible types for our *Object* and select the desired one.\n",
    " \n",
    "Use the o.new_object() method, then provide `type`, `space`, `project`, `collection` attributes. For the type, pick one of the list above. For *Project* and *Collection* you can either use strings or the variables you used above. Assign the new *Object* to the variable *Object*. Finally, save your *Object* as we did before.\n",
    "\n",
    "Here, we are also indicating the 'code' of the object, which is not mandatory, but will be easier to recognize it.The code should be **unique**; if we do not specify it, the code will be assigned automatically."
   ]
  },
  {
   "cell_type": "markdown",
   "id": "710142a2-3806-4c30-965b-b9f0591fe9b6",
   "metadata": {
    "tags": []
   },
   "source": [
    "#### Creating *Objects* in a *Collection*"
   ]
  },
  {
   "cell_type": "markdown",
   "id": "3dd0ea34-11f2-4d97-a66c-51d42f5a7d6f",
   "metadata": {},
   "source": [
    "Based on the tasks above, follow the same process and try to create a new object, indicating the space, project, collection, the object type (first explore all of the available types as we did before with the collections) and the object code. Finally, save the object and check that your object is at the end of the object list."
   ]
  },
  {
   "cell_type": "markdown",
   "id": "42042ac5-60fd-49ac-b5b1-eb9ad01bb55b",
   "metadata": {},
   "source": [
    "##### **EXERCISE 1: Create a new *Object* inside your *Collection* and list all *Objects***."
   ]
  },
  {
   "cell_type": "code",
   "execution_count": null,
   "id": "c16594e8-0188-46e6-8180-3a4303ff4f95",
   "metadata": {
    "tags": []
   },
   "outputs": [],
   "source": [
    "# CODE"
   ]
  },
  {
   "cell_type": "markdown",
   "id": "c559a3b2-ba7b-413a-8a47-397c40563121",
   "metadata": {
    "tags": []
   },
   "source": [
    "##### *Solution*"
   ]
  },
  {
   "cell_type": "code",
   "execution_count": null,
   "id": "7b7801dc-99b6-4a86-8e8e-e461a180266a",
   "metadata": {
    "tags": []
   },
   "outputs": [],
   "source": [
    "o.get_object_types()"
   ]
  },
  {
   "cell_type": "code",
   "execution_count": null,
   "id": "ec8d9a4c-9c62-4834-9226-91dfee9b8dc8",
   "metadata": {},
   "outputs": [],
   "source": [
    "my_object = o.new_object(\n",
    "    type = 'EXPERIMENTAL_STEP', # type for the object. Should be one of the available types on the type list, for example 'EXPERIMENTAL_STEP'\n",
    "    code = 'WS_OBJECT', #the code for the object. We can leave it empty and it will be generated automatically.\n",
    "    space = my_space, #the space that we previously got\n",
    "    project = my_project, # this is the project that we previously created, saved in the variable \"new_project\"\n",
    "    collection = my_collection, # this is the collection that we previously created, saved in the variable \"new_collection\"\n",
    ")"
   ]
  },
  {
   "cell_type": "code",
   "execution_count": null,
   "id": "44c3a873-5124-4ffc-bc0f-e9dbf883b335",
   "metadata": {},
   "outputs": [],
   "source": [
    "my_object.save()"
   ]
  },
  {
   "cell_type": "code",
   "execution_count": null,
   "id": "06e06cc7-0556-4893-937d-bddfece1466e",
   "metadata": {},
   "outputs": [],
   "source": [
    "o.get_objects(space=str(my_space), project=\"WS_PROJECT\")"
   ]
  },
  {
   "cell_type": "code",
   "execution_count": null,
   "id": "a9c6af91-bd0a-4a04-b8ed-5544bbc752b6",
   "metadata": {
    "tags": []
   },
   "outputs": [],
   "source": [
    "sel_object = o.get_object(\"/VP.1_CMADARIA/WS_PROJECT/WS_COLLECTION/WS_OBJECT\") #Here you specify the path you see in the printed list, something like: /CMADARIA/DS_TRAINING/EXP114"
   ]
  },
  {
   "cell_type": "code",
   "execution_count": null,
   "id": "37a6c80f-5714-47e4-85b6-dce9b61c77a5",
   "metadata": {},
   "outputs": [],
   "source": [
    "sel_object"
   ]
  },
  {
   "cell_type": "markdown",
   "id": "4a7243cb-867e-4c16-9a5f-74e376abe9b8",
   "metadata": {},
   "source": [
    "#### Editing *Object Properties*"
   ]
  },
  {
   "cell_type": "markdown",
   "id": "5d78f596-697e-40a8-9294-6ff31e83249a",
   "metadata": {
    "tags": []
   },
   "source": [
    " Every *Object* type defines the variety of *Properties* for that *Object*. You can list the *Properties* of an *Object* like this:"
   ]
  },
  {
   "cell_type": "code",
   "execution_count": null,
   "id": "ebda6087-ff1b-4a4d-81b3-cce2929a1f70",
   "metadata": {
    "tags": []
   },
   "outputs": [],
   "source": [
    "my_object.props"
   ]
  },
  {
   "cell_type": "markdown",
   "id": "e096999c-224f-48fa-9270-748778bc6389",
   "metadata": {},
   "source": [
    " To get a dictionary from the *Properties*, use the `object.props()` method:"
   ]
  },
  {
   "cell_type": "code",
   "execution_count": null,
   "id": "ba2851b6-9d28-491b-85bc-6dc774862928",
   "metadata": {
    "tags": []
   },
   "outputs": [],
   "source": [
    "my_object.props()"
   ]
  },
  {
   "cell_type": "markdown",
   "id": "9202b6e5-c47b-4915-9a31-4fd575dbeda1",
   "metadata": {
    "tags": []
   },
   "source": [
    "Another way to find out which *Properties* can be set is to write `object.props.` (or `object.p.`) and then hit the `TAB` button"
   ]
  },
  {
   "cell_type": "markdown",
   "id": "d53fbddd-10c3-4025-97b7-1d4033c1f577",
   "metadata": {},
   "source": [
    "##### **Two ways for assigning values to *Properties***"
   ]
  },
  {
   "cell_type": "markdown",
   "id": "8cf0491b-9d98-445a-a456-158d4be94bd5",
   "metadata": {},
   "source": [
    "1.  The most compact way is to assign a dictionary to `object.props`"
   ]
  },
  {
   "cell_type": "markdown",
   "id": "8f4cbab2-fedc-46ca-9d2d-e05107d5b7fe",
   "metadata": {
    "tags": []
   },
   "source": [
    "##### **TASK 3: Assign *Properties* to the *Object* using a dictionary (method 1). Check the *Properties* list of the *Object***"
   ]
  },
  {
   "cell_type": "code",
   "execution_count": null,
   "id": "faa1eac6-9c33-4355-9e58-51f13b6c6965",
   "metadata": {
    "tags": []
   },
   "outputs": [],
   "source": [
    "my_object.props()"
   ]
  },
  {
   "cell_type": "code",
   "execution_count": null,
   "id": "97e59116-caba-4695-b0ea-f0418f63cd05",
   "metadata": {},
   "outputs": [],
   "source": [
    "my_object.props = {\n",
    "    \"$name\": \"experimenting with sample\",\n",
    "    \"finished_flag\": False,\n",
    "} #dictionary structure: property name between quotes, colon, property content between quotes, properties separated by commas\n",
    "# examples for object type = 'EXPERIMENTAL_STEP'. If your object is a different type, select your properties from the list above"
   ]
  },
  {
   "cell_type": "markdown",
   "id": "0bde3248-8494-413a-8cb4-fde8b47e0bd5",
   "metadata": {},
   "source": [
    "***Do not forget to save your Object using*** `object.save()` ***when you have finished modifying its Properties!!! (This will also check if there are missing mandatory Properties)***"
   ]
  },
  {
   "cell_type": "code",
   "execution_count": null,
   "id": "f4ecff8d-972e-49b4-87ad-f7aa325046e1",
   "metadata": {},
   "outputs": [],
   "source": [
    "my_object.save()"
   ]
  },
  {
   "cell_type": "code",
   "execution_count": null,
   "id": "eaf2850d-b128-4ed1-88c3-b56dca14bb17",
   "metadata": {},
   "outputs": [],
   "source": [
    "my_object.props"
   ]
  },
  {
   "cell_type": "markdown",
   "id": "5acf769e-3e44-451f-a415-b07f79dcb4e8",
   "metadata": {},
   "source": [
    "2.  Set the value directly accesing to it"
   ]
  },
  {
   "cell_type": "markdown",
   "id": "f5119584-5445-4f40-a27f-9e7cb7fee377",
   "metadata": {},
   "source": [
    "This method is recommended as it can handle problematic characters in *Property* names and immediately indicates any error:"
   ]
  },
  {
   "cell_type": "markdown",
   "id": "dd524340-9e28-4b13-bce8-be12e132b244",
   "metadata": {
    "tags": []
   },
   "source": [
    "##### **TASK 4: Assign *Properties* to the *Object* accesing directly to the property (method 2). Show all the *Properties* to check**"
   ]
  },
  {
   "cell_type": "code",
   "execution_count": null,
   "id": "7558767b-2c7f-4088-8561-4160517f2d09",
   "metadata": {
    "tags": []
   },
   "outputs": [],
   "source": [
    "my_object.props()"
   ]
  },
  {
   "cell_type": "code",
   "execution_count": null,
   "id": "488ea77c-c2a0-4304-9532-00a42a39f398",
   "metadata": {},
   "outputs": [],
   "source": [
    "my_object.props['experimental_step.experimental_description'] = 'Experimental step to make experiments with obtained sample'\n",
    "# accesing a value of the properties dictionary directly: \"[]\"\n",
    "# example for object type = 'EXPERIMENTAL_STEP'. If your object is a different type, select your properties from the list above"
   ]
  },
  {
   "cell_type": "code",
   "execution_count": null,
   "id": "14215fb3-abd0-47c5-b88f-904f04c58103",
   "metadata": {},
   "outputs": [],
   "source": [
    "my_object.save()"
   ]
  },
  {
   "cell_type": "code",
   "execution_count": null,
   "id": "e7647b3f-0d30-4378-8c50-97c993c61d39",
   "metadata": {},
   "outputs": [],
   "source": [
    "my_object.props"
   ]
  },
  {
   "cell_type": "markdown",
   "id": "1e1ad36b-6229-4640-abd9-e92b191175a9",
   "metadata": {},
   "source": [
    "*Hint*: Use an underscore _ after the *Property* name to to reveal its type. If it is a controlled vocabulary, a list of possible values are presented:"
   ]
  },
  {
   "cell_type": "markdown",
   "id": "5d7a549a-e0b0-4a52-8090-0744bfcb409b",
   "metadata": {},
   "source": [
    "my_object.props['reference_']"
   ]
  },
  {
   "cell_type": "markdown",
   "id": "95a29a9f-6db0-48eb-850f-6e1e16eff52b",
   "metadata": {},
   "source": [
    "#### *Properties*: Summary"
   ]
  },
  {
   "cell_type": "markdown",
   "id": "0ef53e1e-ab54-469e-b700-06cac53384eb",
   "metadata": {},
   "source": [
    "As we saw in the examples above, every *Property* has its own **Property type**, e.g. \n",
    "\n",
    "- VARCHAR and MULTILINE_VARCHAR (text)\n",
    "- BOOLEAN (True, False)\n",
    "- INTEGER\n",
    "- REAL (floating point numbers)\n",
    "- TIMESTAMP (date and time)\n",
    "- XML\n",
    "- CONTROLLEDVOCABULARY\n",
    "\n",
    "The *Property* type defines the characteristics of the value a *Property* expects. The value is checked at the moment we assign it to our *Object*. You can add an underscore `_` at the end of each *Property* name to find out about its **type**."
   ]
  },
  {
   "cell_type": "markdown",
   "id": "68d43a28-4d85-4c0c-a3d6-d0aabf3f9a49",
   "metadata": {},
   "source": [
    "### Setting Parent-Child Relationships between *Objects*"
   ]
  },
  {
   "cell_type": "markdown",
   "id": "b4c08e6f-2b88-4b94-9e76-cac277fc482d",
   "metadata": {},
   "source": [
    "Parent-child relationships are an important concept of openBIS. When we process data in multiple steps from various resources until we get a final result, we want to be able to **trace back** where we started from. Parent-child relationships of ***Objects*** help us to achieve this."
   ]
  },
  {
   "cell_type": "markdown",
   "id": "3d16d195-d879-47c4-bde4-595ef708851f",
   "metadata": {
    "tags": []
   },
   "source": [
    "##### **TASK 5: List all of the available *Objects*, create new ones for Parent and Child, and assign them to our current object**"
   ]
  },
  {
   "cell_type": "markdown",
   "id": "120ef89c-fd6f-42f1-9cda-4c3a4090e428",
   "metadata": {},
   "source": [
    "We are going to see an example.\n",
    "\n",
    "1. First, we will need to list all the available *Objects*:"
   ]
  },
  {
   "cell_type": "code",
   "execution_count": null,
   "id": "936e256a-13d8-4001-aa08-79c579cdd08e",
   "metadata": {},
   "outputs": [],
   "source": [
    "o.get_objects()"
   ]
  },
  {
   "cell_type": "markdown",
   "id": "0732fceb-4428-46b4-8aa7-834767120ab2",
   "metadata": {},
   "source": [
    "2. Then, we need to select which *Objects* we want to be the *Parents* and *Children*. Also, we can create new ones, as we are going to do here:"
   ]
  },
  {
   "cell_type": "code",
   "execution_count": null,
   "id": "d4c37bf9-897e-41f6-bc27-872e9d469fbf",
   "metadata": {},
   "outputs": [],
   "source": [
    "parent_object = o.new_object(\n",
    "    type = 'EXPERIMENTAL_STEP',\n",
    "    space = my_space,\n",
    "    project = my_project,\n",
    "    collection = my_collection,\n",
    "    code = 'PARENT_OBJECT',\n",
    ")\n",
    "parent_object.save()"
   ]
  },
  {
   "cell_type": "code",
   "execution_count": null,
   "id": "b6931ca3-b849-46d9-b68a-206d04f7d6ee",
   "metadata": {},
   "outputs": [],
   "source": [
    "parent_object.props['$name'] = \"PARENT\""
   ]
  },
  {
   "cell_type": "code",
   "execution_count": null,
   "id": "cc9ac658-4352-4329-94ec-a820a23c76a8",
   "metadata": {},
   "outputs": [],
   "source": [
    "child_object = o.new_object(\n",
    "    type = 'EXPERIMENTAL_STEP',\n",
    "    space = my_space,\n",
    "    project = my_project,\n",
    "    collection = my_collection,\n",
    "    code = 'CHILD_OBJECT',\n",
    ")\n",
    "child_object.save()"
   ]
  },
  {
   "cell_type": "code",
   "execution_count": null,
   "id": "616810a2-5ac5-47f3-921a-66c7be3b0a00",
   "metadata": {},
   "outputs": [],
   "source": [
    "child_object.props['$name'] = \"CHILD\""
   ]
  },
  {
   "cell_type": "markdown",
   "id": "0d04ebc3-e439-4099-bc3e-d7feb3ccaac6",
   "metadata": {
    "tags": []
   },
   "source": [
    "3. Finally, we need to assign this *Objects* as the *parents* and *children* attributes of our current *Object*. ***Do not forget to save the object after!!***"
   ]
  },
  {
   "cell_type": "code",
   "execution_count": null,
   "id": "543ffe12-9762-4fe5-8da2-8527d9946920",
   "metadata": {},
   "outputs": [],
   "source": [
    "my_object.parents = parent_object\n",
    "my_object.children = child_object\n",
    "my_object.save()"
   ]
  },
  {
   "cell_type": "code",
   "execution_count": null,
   "id": "a85de1c9-aadc-41d9-b20e-a76de28cb78e",
   "metadata": {},
   "outputs": [],
   "source": [
    "o.get_objects(space=str(my_space), attrs=['parents','children'])"
   ]
  },
  {
   "cell_type": "markdown",
   "id": "b6c967cb-605a-44db-8d18-39cf8cce66af",
   "metadata": {},
   "source": [
    "#### Different ways of adding and removing *Parents and Children*"
   ]
  },
  {
   "cell_type": "markdown",
   "id": "ea2705bd-380f-4486-a37e-cc9a9fddc22c",
   "metadata": {},
   "source": [
    "There are 3 different ways for adding the relationships.\n",
    "\n",
    "1. Assigning them (the one that we already saw):"
   ]
  },
  {
   "cell_type": "raw",
   "id": "5f06b34f-6212-4cea-b5a6-5b3bf6cc627a",
   "metadata": {},
   "source": [
    "my_object = o.get_object(\"OBJECT_CODE\") # the object we created before\n",
    "my_parent = o.get_object(\"PARENT_OBJECT\") # parent object. can be selected like here, or created as we did before\n",
    "my_child = o.get_object(\"CHILD_OBJECT\") # child object. can be selected like here, or created as we did before"
   ]
  },
  {
   "cell_type": "raw",
   "id": "9c0d0d01-f902-4e76-acf1-9227f1c3a10c",
   "metadata": {},
   "source": [
    "our_object.parents = my_parent\n",
    "our_object.children = my_child\n",
    "our_object.save()"
   ]
  },
  {
   "cell_type": "markdown",
   "id": "a81f1c53-731b-4010-9796-54d250c6de89",
   "metadata": {},
   "source": [
    "2. Adding them to the ones already existing:"
   ]
  },
  {
   "cell_type": "raw",
   "id": "c0dd981b-b7d4-4fb7-9d73-257896fd4902",
   "metadata": {},
   "source": [
    "my_object.add_parents(my_parent)\n",
    "my_object.add_children(my_child)\n",
    "my_object.save()"
   ]
  },
  {
   "cell_type": "markdown",
   "id": "1173c38c-a516-49f7-bd57-b45e4e927efa",
   "metadata": {},
   "source": [
    "3. Setting them directly (like the first method, but using a list instead):"
   ]
  },
  {
   "cell_type": "raw",
   "id": "5c35fa02-1bb1-4fec-8508-9afdb0cd1ed0",
   "metadata": {},
   "source": [
    "my_object.set_parents([my_parent1, my_parent2])\n",
    "my_object.set_children([my_child1, my_child2])\n",
    "my_object.save()"
   ]
  },
  {
   "cell_type": "markdown",
   "id": "b0787a31-10f1-44f0-85ac-84ca151c9247",
   "metadata": {},
   "source": [
    "There are 2 different ways for deleting the relationships.\n",
    "\n",
    "1. Deleting them from the *Object*:"
   ]
  },
  {
   "cell_type": "raw",
   "id": "3f5b0504-8f7a-4bdc-bc00-c2981cf0eb50",
   "metadata": {},
   "source": [
    "my_object.del_parents(my_parent)\n",
    "my_object.del_children(my_child)\n",
    "my_object.save()"
   ]
  },
  {
   "cell_type": "markdown",
   "id": "c9dc8546-78d2-4fc0-8560-6d64269d932e",
   "metadata": {},
   "source": [
    "2. Assigning empty lists to remove all the relationships:"
   ]
  },
  {
   "cell_type": "raw",
   "id": "69d1156f-df0a-4704-a1ed-548ee5dc791e",
   "metadata": {},
   "source": [
    "my_object.set_parents([])\n",
    "my_object.set_children([])\n",
    "my_object.save()"
   ]
  },
  {
   "cell_type": "code",
   "execution_count": null,
   "id": "1eaca50e-257c-4842-b2d7-f61764fcfcc3",
   "metadata": {
    "tags": []
   },
   "outputs": [],
   "source": [
    "my_object.set_parents([])\n",
    "my_object.set_children([])\n",
    "my_object.save()"
   ]
  },
  {
   "cell_type": "code",
   "execution_count": null,
   "id": "ff47b0b5-0fd5-4508-a2b5-33066298b787",
   "metadata": {},
   "outputs": [],
   "source": [
    "o.get_objects(space=str(my_space), attrs=['parents','children'])"
   ]
  },
  {
   "cell_type": "code",
   "execution_count": null,
   "id": "9aacc9c7-3c7c-461a-a649-42feb9875168",
   "metadata": {},
   "outputs": [],
   "source": [
    "my_object.set_parents([parent_object])\n",
    "my_object.set_children([child_object])\n",
    "my_object.save()"
   ]
  },
  {
   "cell_type": "code",
   "execution_count": null,
   "id": "e4f7f953-f359-4864-9698-5d001570b899",
   "metadata": {},
   "outputs": [],
   "source": [
    "o.get_objects(space=str(my_space), attrs=['parents','children'])"
   ]
  },
  {
   "cell_type": "code",
   "execution_count": null,
   "id": "bbb3fb69-7544-466b-827f-2ec4b0133a29",
   "metadata": {},
   "outputs": [],
   "source": [
    "my_object.del_parents(parent_object)\n",
    "my_object.del_children(child_object)\n",
    "my_object.save()"
   ]
  },
  {
   "cell_type": "code",
   "execution_count": null,
   "id": "f45c18f4-c489-4ee8-9e30-6aeb1abd78e9",
   "metadata": {},
   "outputs": [],
   "source": [
    "o.get_objects(space=str(my_space), attrs=['parents','children'])"
   ]
  },
  {
   "cell_type": "code",
   "execution_count": null,
   "id": "cf9f5dac-afc1-4a8a-b5b0-132770486388",
   "metadata": {},
   "outputs": [],
   "source": [
    "my_object.add_parents(parent_object)\n",
    "my_object.add_children(child_object)\n",
    "my_object.save()"
   ]
  },
  {
   "cell_type": "code",
   "execution_count": null,
   "id": "e37cfc7e-1dc9-40fa-afb2-094a46321f07",
   "metadata": {},
   "outputs": [],
   "source": [
    "o.get_objects(space=str(my_space), attrs=['parents','children'])"
   ]
  },
  {
   "cell_type": "markdown",
   "id": "6d283bbb-3e53-4206-8d22-39aaccb6fd4c",
   "metadata": {
    "tags": []
   },
   "source": [
    "### Datasets"
   ]
  },
  {
   "cell_type": "markdown",
   "id": "f4fbb3e9-eb57-4873-be63-f50421da3eec",
   "metadata": {},
   "source": [
    "All of the techniques we have seen so far also apply to *Datasets* (with a few subtleties). However, *Datasets* fundamentally different from *Objects* as they now finally contain real files! *Datasets* are the main reason openBIS actually runs a separate DataStore."
   ]
  },
  {
   "cell_type": "markdown",
   "id": "e5bfdc8a-25a0-465a-88d5-98e46617a13d",
   "metadata": {},
   "source": [
    "As always, the first step will be to check the *Dataset* types and select the desired one. Then, here is the quickest way to register a *Dataset* (*Again, do not forget to \"save()\" the* *Dataset* *at the end!*):"
   ]
  },
  {
   "cell_type": "raw",
   "id": "642bdaad-22b6-4fba-b53f-617c07791835",
   "metadata": {},
   "source": [
    "o.get_dataset_types()\n",
    "\n",
    "ds = o.new_dataset(\n",
    "    type = 'RAW_DATA', #type of the dataset, got from the list of available dataset types\n",
    "    collection = new_collection, #previously created collection\n",
    "    object = new_object, #prevously created object (where we want to upload the dataset)\n",
    "    files = ['PyBIS_WS_Tutorial_v01.ipynb'] #file names that we want to upload\n",
    ")\n",
    "\n",
    "ds.save()"
   ]
  },
  {
   "cell_type": "markdown",
   "id": "59a968fb-505b-4c94-9a7f-a37c517a5155",
   "metadata": {},
   "source": [
    "We can see the list of files of a *Dataset* using this function:"
   ]
  },
  {
   "cell_type": "raw",
   "id": "6c60359f-2b59-4502-86c9-b1971f9f2bf8",
   "metadata": {},
   "source": [
    "ds.file_list"
   ]
  },
  {
   "cell_type": "markdown",
   "id": "d485e478-8f46-45dd-91f5-e2c0fa57fcb4",
   "metadata": {},
   "source": [
    "*or with ds.get_files() we can see also their size and crc32 checksum*"
   ]
  },
  {
   "cell_type": "markdown",
   "id": "7d83462d-e00e-4a28-b9cb-c933fa504c0a",
   "metadata": {},
   "source": [
    "The added `original` folder is a relict from early openBIS times..."
   ]
  },
  {
   "cell_type": "markdown",
   "id": "5383aee8-4fcb-4ff6-bf38-1ac8eceeb75e",
   "metadata": {},
   "source": [
    "A *Dataset* does not automatically contain the files - you need to download them:"
   ]
  },
  {
   "cell_type": "raw",
   "id": "34f79d77-0eac-4bb9-b550-33e900594915",
   "metadata": {},
   "source": [
    " ds.download()"
   ]
  },
  {
   "cell_type": "markdown",
   "id": "1c12e24a-a288-46d4-9a54-fa0d890bb549",
   "metadata": {},
   "source": [
    "will download all files of a given *Dataset.\n",
    "\n",
    "When downloading files from a *DataSet*, pybis will **automatically create a directory** for the resource URL and another directory equally to the permId.\n",
    "\n",
    "We can define `files` we are interested in, the `destination` folder where we want our files and also omit the automatic `original` and `permId` subfolders."
   ]
  },
  {
   "cell_type": "raw",
   "id": "2cddf6fc-e91c-423b-a1b2-58d60e9430e7",
   "metadata": {},
   "source": [
    "ds.download(files = ['original/PyBIS_Tutorial_BAM_v03.ipynb'], destination='data/', create_default_folders=False)"
   ]
  },
  {
   "cell_type": "markdown",
   "id": "1ec8aa3f-6e02-43fd-9c1a-8688c806daab",
   "metadata": {
    "tags": []
   },
   "source": [
    "##### **EXERCISE 2: Register a new *Dataset*, add files to it, list and download them. Delete the *Dataset* afterwards.**"
   ]
  },
  {
   "cell_type": "code",
   "execution_count": null,
   "id": "e8f19846-66e1-417c-beaf-96c5847507b1",
   "metadata": {
    "tags": []
   },
   "outputs": [],
   "source": [
    "# CODE"
   ]
  },
  {
   "cell_type": "markdown",
   "id": "481c999f-19a1-4d44-8755-e900b325e885",
   "metadata": {
    "tags": []
   },
   "source": [
    "##### *Solution*"
   ]
  },
  {
   "cell_type": "code",
   "execution_count": null,
   "id": "70af8100-74f9-4d8c-a8c9-3a9ca557bebc",
   "metadata": {},
   "outputs": [],
   "source": [
    "o.get_dataset_types()"
   ]
  },
  {
   "cell_type": "code",
   "execution_count": null,
   "id": "de48be8d-8f2b-4da8-9ae0-fa761298bbdc",
   "metadata": {
    "tags": []
   },
   "outputs": [],
   "source": [
    "my_dataset = o.new_dataset(\n",
    "    type = 'RAW_DATA',\n",
    "    collection = my_collection,\n",
    "    object = my_object,\n",
    "    files = ['PyBis_Installation_and_BeginnersTutorial.pdf']\n",
    ")"
   ]
  },
  {
   "cell_type": "code",
   "execution_count": null,
   "id": "986b1f5c-de19-409b-87f3-aade015ac3c1",
   "metadata": {},
   "outputs": [],
   "source": [
    "my_dataset.save()"
   ]
  },
  {
   "cell_type": "code",
   "execution_count": null,
   "id": "96169b7f-2ebb-4551-9e9d-2c29478dcbc8",
   "metadata": {},
   "outputs": [],
   "source": [
    "my_dataset.file_list #or ds.get_files()"
   ]
  },
  {
   "cell_type": "code",
   "execution_count": null,
   "id": "a5bcf0c5-fcca-4ba4-b538-aa809685dccb",
   "metadata": {},
   "outputs": [],
   "source": [
    "my_dataset.download(destination='data/', create_default_folders=False)"
   ]
  },
  {
   "cell_type": "code",
   "execution_count": null,
   "id": "a9941bf2-ea8d-4ef9-9dce-7d9c9450fd38",
   "metadata": {},
   "outputs": [],
   "source": [
    "my_dataset.delete(reason=\"Job finished\")"
   ]
  },
  {
   "cell_type": "markdown",
   "id": "e5879a08-8d20-4212-a0a9-dc0a5811eca8",
   "metadata": {
    "tags": []
   },
   "source": [
    "### Search & Filters for *Objects*"
   ]
  },
  {
   "cell_type": "markdown",
   "id": "b9660233-6c0e-4de8-93c0-ec630c9bc4d8",
   "metadata": {},
   "source": [
    "#### Basic search"
   ]
  },
  {
   "cell_type": "markdown",
   "id": "9ec28b19-b06b-4143-a604-b1aaa90f0d36",
   "metadata": {},
   "source": [
    "- `get_object()` expects an identifier of a permId of an *Object*. If the identifier/permId was not found, an Error is raised\n",
    "- `get_objects()` searches for *Objects*, it will always return a list even no *Object* was found\n",
    "\n",
    "To search for *Objects* (or *Datasets or Collections* etc.), always use the plural, e.g `get_objects()`, `get_collections()`, `get_datasets()`"
   ]
  },
  {
   "cell_type": "markdown",
   "id": "7dcd21ef-b4f9-4cd3-8025-8792f9d47079",
   "metadata": {
    "tags": []
   },
   "source": [
    "##### **TASK 6: Get all the entities created in previous steps and print their information**"
   ]
  },
  {
   "cell_type": "code",
   "execution_count": null,
   "id": "a768f698-0c01-48f4-87fb-3a3221830c88",
   "metadata": {},
   "outputs": [],
   "source": [
    "o.get_projects(space=my_space.code)"
   ]
  },
  {
   "cell_type": "code",
   "execution_count": null,
   "id": "46fcac61-c661-4b00-a51b-a2f49ecc210f",
   "metadata": {},
   "outputs": [],
   "source": [
    "project = o.get_project(\"WS_PROJECT\")\n",
    "project"
   ]
  },
  {
   "cell_type": "code",
   "execution_count": null,
   "id": "23865d3e-db42-4432-8dc8-e2fa8170572a",
   "metadata": {},
   "outputs": [],
   "source": [
    "o.get_collections(space=my_space.code)"
   ]
  },
  {
   "cell_type": "code",
   "execution_count": null,
   "id": "86156775-a39e-41bd-a790-44e61a107a49",
   "metadata": {
    "tags": []
   },
   "outputs": [],
   "source": [
    "collection = o.get_collection(\"/VP.1_CMADARIA/WS_PROJECT/WS_COLLECTION\")\n",
    "collection"
   ]
  },
  {
   "cell_type": "code",
   "execution_count": null,
   "id": "780cba12-7497-4ce5-bd86-f109e8a8cb1c",
   "metadata": {},
   "outputs": [],
   "source": [
    "o.get_objects(space=my_space.code)"
   ]
  },
  {
   "cell_type": "code",
   "execution_count": null,
   "id": "0d08c722-eb79-4a34-b3db-7bd4151b09b5",
   "metadata": {},
   "outputs": [],
   "source": [
    "object = o.get_object(\"/VP.1_CMADARIA/WS_PROJECT/WS_OBJECT\")\n",
    "object"
   ]
  },
  {
   "cell_type": "code",
   "execution_count": null,
   "id": "7115c8f0-978f-4795-b792-8b74c63f05cb",
   "metadata": {},
   "outputs": [],
   "source": [
    "parent = o.get_object(\"/VP.1_CMADARIA/WS_PROJECT/PARENT_OBJECT\")\n",
    "parent"
   ]
  },
  {
   "cell_type": "code",
   "execution_count": null,
   "id": "b779a7f4-65d4-4d6c-9e03-c439166172a7",
   "metadata": {},
   "outputs": [],
   "source": [
    "child = o.get_object(\"/VP.1_CMADARIA/WS_PROJECT/CHILD_OBJECT\")\n",
    "child"
   ]
  },
  {
   "cell_type": "markdown",
   "id": "ce36a87e-0dd5-45ea-9fb6-4842ed15f066",
   "metadata": {},
   "source": [
    "#### Advance search"
   ]
  },
  {
   "cell_type": "markdown",
   "id": "b92cf2cc-ebcf-42be-9a02-fd4b00e4e4a2",
   "metadata": {},
   "source": [
    "The `get_objects()` always returns a list, even in cases where no *Objects* are found.\n",
    "\n",
    "But it also can retrieve thousands *Objects*, therefore make sure to **always limit your search** by using the `count` parameter:"
   ]
  },
  {
   "cell_type": "raw",
   "id": "d21c5b27-be45-409a-a4c8-2a54adcdba68",
   "metadata": {},
   "source": [
    "objects = o.get_objects(count=3)"
   ]
  },
  {
   "cell_type": "markdown",
   "id": "739b57f9-58a9-4ce5-98c9-7b25548ceda1",
   "metadata": {},
   "source": [
    "To get the next 10 *Objects*, use the `start_with` parameter:"
   ]
  },
  {
   "cell_type": "raw",
   "id": "96a0303d-c7bf-44f0-9892-ac411832791f",
   "metadata": {},
   "source": [
    "objects = o.get_objects(start_with=10)"
   ]
  },
  {
   "cell_type": "markdown",
   "id": "ab2feead-c77e-42b9-9ff7-91c82d60c0d2",
   "metadata": {
    "tags": []
   },
   "source": [
    "The result list has a `totalCount` attribute which tells us the total number of *Objects*."
   ]
  },
  {
   "cell_type": "raw",
   "id": "9898e4b9-027a-4ba9-8768-5a572382a6f3",
   "metadata": {},
   "source": [
    "objects.totalCount"
   ]
  },
  {
   "cell_type": "markdown",
   "id": "63eff344-78c9-4c9f-a3a9-4b3b0502a6ee",
   "metadata": {
    "tags": []
   },
   "source": [
    "##### **EXERCISE 3: Print out a *Property* of the *Objects* with type Experimental-Step from index 3 to 8 using a loop**"
   ]
  },
  {
   "cell_type": "code",
   "execution_count": null,
   "id": "9738ba25-92de-4fcb-a8e3-1329ca2474c8",
   "metadata": {
    "tags": []
   },
   "outputs": [],
   "source": [
    "# CODE"
   ]
  },
  {
   "cell_type": "markdown",
   "id": "e570295f-cdb7-4ea0-8fe0-8afdca295349",
   "metadata": {
    "tags": []
   },
   "source": [
    "##### *Solution*"
   ]
  },
  {
   "cell_type": "code",
   "execution_count": null,
   "id": "e2279673-912f-4f03-8155-12b02ba7ba6c",
   "metadata": {},
   "outputs": [],
   "source": [
    "start_with = 8"
   ]
  },
  {
   "cell_type": "code",
   "execution_count": null,
   "id": "f9f7fc49-5056-46ab-a16f-26d567893740",
   "metadata": {},
   "outputs": [],
   "source": [
    "objects = o.get_objects(type=\"EXPERIMENTAL_STEP\", count=6, start_with=start_with)"
   ]
  },
  {
   "cell_type": "code",
   "execution_count": null,
   "id": "faee5cd1-1120-4e39-88c5-831c3e4734a6",
   "metadata": {},
   "outputs": [],
   "source": [
    "for object in objects:\n",
    "    print(f\"experimental step {object.code}\")"
   ]
  },
  {
   "cell_type": "markdown",
   "id": "49b0bce0-9201-4ebf-b467-e7c1a8f418ca",
   "metadata": {
    "tags": []
   },
   "source": [
    "##### **Try out the different filters for searching *Objects*, *Datasets*, and more! Here you have some more examples.**"
   ]
  },
  {
   "cell_type": "markdown",
   "id": "58a9f0f5-de7e-4213-8c6f-00b7ee8d8b80",
   "metadata": {},
   "source": [
    "Search by *Space, Collection, Parents,* ... --> params: `space`, `collection`, `parents` :"
   ]
  },
  {
   "cell_type": "code",
   "execution_count": null,
   "id": "683ff7da-7df8-4880-9af6-0dd4506b1796",
   "metadata": {
    "tags": []
   },
   "outputs": [],
   "source": [
    "o.get_objects(space=my_space.code, parents='/VP.1_CMADARIA/WS_PROJECT/PARENT_OBJECT', attrs=['parents'])"
   ]
  },
  {
   "cell_type": "markdown",
   "id": "766ae78b-7618-4a9b-aaa0-b95f92e2aca2",
   "metadata": {
    "tags": []
   },
   "source": [
    "Get *Objects* where some *Property* matches a certain string (using the operator `*`):"
   ]
  },
  {
   "cell_type": "code",
   "execution_count": null,
   "id": "b1ff927e-ae16-459d-b9f5-5ab7df1a3b27",
   "metadata": {},
   "outputs": [],
   "source": [
    "o.get_objects(where={'$name':'* XXX'}, props=['$name'])"
   ]
  },
  {
   "cell_type": "markdown",
   "id": "05bbbbe5-4217-44eb-99ed-9b0133bff1e7",
   "metadata": {},
   "source": [
    "Search *Objects* using comparative operators on the *Properties* (`>`, `<`, `=`, `>=`, `<=`): "
   ]
  },
  {
   "cell_type": "code",
   "execution_count": null,
   "id": "984fc512-f4fb-414e-98ab-a3cf48e7942c",
   "metadata": {},
   "outputs": [],
   "source": [
    "o.get_objects(registrationdate='>2023-07-21')"
   ]
  },
  {
   "cell_type": "markdown",
   "id": "a1ea60f3-a65c-45bc-be00-8d3fab2f518b",
   "metadata": {
    "tags": []
   },
   "source": [
    "## Appendix"
   ]
  },
  {
   "cell_type": "markdown",
   "id": "2867785e-29e9-47be-8607-41bf6992565c",
   "metadata": {
    "tags": []
   },
   "source": [
    "### Transactions & Multiple *Object* management"
   ]
  },
  {
   "cell_type": "markdown",
   "id": "c5fea6ab-5467-470d-99dd-2129dde95ab4",
   "metadata": {},
   "source": [
    " A transaction is an all-or-nothing operation. It means, it will either save all *Objects* or none. It is also much faster than saving *Object* by *Object* (up to 1000 *Object*/second).\n",
    " \n",
    " The first instruction creates the transaction, and the last one is equivalent to the `save()`method that we have seen before, it saves all the changes in openBIS."
   ]
  },
  {
   "cell_type": "raw",
   "id": "cdfa6b6f-c1e5-40e8-b151-c7a01ab9aa70",
   "metadata": {},
   "source": [
    "trans = o.new_transaction()\n",
    "for i in range(0,100):\n",
    "    object = o.new_object(\n",
    "        space = 'CMADARIA',\n",
    "        type='CHEMICAL_ELEMENT',\n",
    "        props = {\n",
    "            \"$name\": f\"Element No. {i}\"\n",
    "        }\n",
    "    )\n",
    "    trans.add(sample)"
   ]
  },
  {
   "cell_type": "code",
   "execution_count": null,
   "id": "20de512b-54bd-4640-910b-1a4a3e65bf43",
   "metadata": {},
   "outputs": [],
   "source": [
    " trans.commit()"
   ]
  },
  {
   "cell_type": "markdown",
   "id": "531045e4-06c8-46f7-9137-3556c5cd2a93",
   "metadata": {},
   "source": [
    "We can also use the transactions to update many *Objects* at once:"
   ]
  },
  {
   "cell_type": "raw",
   "id": "0f0a5270-20b4-491c-9ed1-313ed6d4bf6a",
   "metadata": {},
   "source": [
    "objects = o.get_objects(type=\"EXPERIMENTAL_STEP\", props='*')"
   ]
  },
  {
   "cell_type": "raw",
   "id": "900f24a9-cd96-4425-afb5-a1d7826e9048",
   "metadata": {},
   "source": [
    "trans = o.new_transaction()\n",
    "for object in objects:\n",
    "    object.props = { \"$name\": f\"updated object: {object.code}\"}\n",
    "    trans.add(object)"
   ]
  },
  {
   "cell_type": "markdown",
   "id": "ee43d869-30c3-4645-864d-c9a24add6db5",
   "metadata": {},
   "source": [
    "trans.commit()"
   ]
  },
  {
   "cell_type": "raw",
   "id": "ea8c2005-7d64-4623-a70a-68b78bd5eef4",
   "metadata": {},
   "source": [
    "o.get_objects(type=\"EXPERIMENTAL_STEP\", props='*')"
   ]
  },
  {
   "cell_type": "markdown",
   "id": "6c1cdb66-8886-407d-8e3d-1f70840fba1e",
   "metadata": {},
   "source": [
    "Or even delete them, marking the *Objects* and specifying the reason for deleting:"
   ]
  },
  {
   "cell_type": "markdown",
   "id": "7b92bcf9-2932-4f70-ab80-448319518334",
   "metadata": {},
   "source": [
    "objects = o.get_objects(space='CMADARIA', type='CHEMICAL_ELEMENT', props='*')"
   ]
  },
  {
   "cell_type": "raw",
   "id": "99fdbaa7-f9a9-4891-84da-1588e1a3cad7",
   "metadata": {},
   "source": [
    "for object in objects:\n",
    "    object.mark_to_be_deleted()\n",
    "    trans.add(object)\n",
    "trans.reason = \"everything was testing\""
   ]
  },
  {
   "cell_type": "markdown",
   "id": "ec822d1a-6688-4429-9f72-983584d784dd",
   "metadata": {},
   "source": [
    "trans.commit()"
   ]
  },
  {
   "cell_type": "markdown",
   "id": "3c09224e-0c93-440e-b4ef-4ddb566778fc",
   "metadata": {},
   "source": [
    "We can also add Parent-Child relationships using transactions. Try it yourself!:"
   ]
  },
  {
   "cell_type": "markdown",
   "id": "842edd75-acd8-4d38-a53d-0f70ffcfd3a1",
   "metadata": {
    "tags": []
   },
   "source": [
    "##### **TASK EX: Using transactions, create 10 new *Objects*, and make the *Objects* 1-9 children of *Object* 0**"
   ]
  },
  {
   "cell_type": "code",
   "execution_count": null,
   "id": "8328b9f1-f0b3-4d5b-859d-385d68bcdba6",
   "metadata": {},
   "outputs": [],
   "source": [
    "objects = o.get_objects(type=\"EXPERIMENTAL_STEP\", count=10, attrs=['parents','children'])"
   ]
  },
  {
   "cell_type": "code",
   "execution_count": null,
   "id": "4df917e2-9424-44da-bcad-cecffc17fe47",
   "metadata": {},
   "outputs": [],
   "source": [
    "trans = o.new_transaction()"
   ]
  },
  {
   "cell_type": "code",
   "execution_count": null,
   "id": "66fd334f-794d-4a04-ab01-256211c7dd90",
   "metadata": {
    "tags": []
   },
   "outputs": [],
   "source": [
    "for i, object in enumerate(objects):\n",
    "    if i == 0: continue\n",
    "    objects[i].parents = [objects[0]]\n",
    "    trans.add(objects[i])"
   ]
  },
  {
   "cell_type": "markdown",
   "id": "d5c79981-9599-4904-a84c-e1e07fd13c5d",
   "metadata": {},
   "source": [
    "-----------------------------\n",
    "(Another option for the loop)"
   ]
  },
  {
   "cell_type": "code",
   "execution_count": null,
   "id": "9fca2412-a920-43cb-ace8-b79eb9b16322",
   "metadata": {},
   "outputs": [],
   "source": [
    "i = 1\n",
    "for objects in samples:\n",
    "    samples[i].parents = [samples[0]]\n",
    "    trans.add(samples[i])\n",
    "    i = i+1"
   ]
  },
  {
   "cell_type": "markdown",
   "id": "9addeb6e-398f-4515-9b99-f94c5b6c0930",
   "metadata": {},
   "source": [
    "----------------------------------"
   ]
  },
  {
   "cell_type": "code",
   "execution_count": null,
   "id": "a120c777-fb84-4aa9-8782-e91e69e05397",
   "metadata": {},
   "outputs": [],
   "source": [
    "trans.commit()"
   ]
  }
 ],
 "metadata": {
  "kernelspec": {
   "display_name": "Python 3 (ipykernel)",
   "language": "python",
   "name": "python3"
  },
  "language_info": {
   "codemirror_mode": {
    "name": "ipython",
    "version": 3
   },
   "file_extension": ".py",
   "mimetype": "text/x-python",
   "name": "python",
   "nbconvert_exporter": "python",
   "pygments_lexer": "ipython3",
   "version": "3.10.9"
  },
  "toc-autonumbering": true,
  "toc-showcode": false,
  "toc-showmarkdowntxt": false,
  "toc-showtags": false
 },
 "nbformat": 4,
 "nbformat_minor": 5
}
